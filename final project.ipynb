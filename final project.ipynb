{
 "cells": [
  {
   "cell_type": "code",
   "execution_count": 211,
   "metadata": {},
   "outputs": [],
   "source": [
    "import sys\n",
    "import pandas as pd\n",
    "import numpy as np\n",
    "import matplotlib.pyplot as plt\n",
    "import scipy\n",
    "from scipy import stats as st\n",
    "from statsmodels.stats.weightstats import *\n",
    "\n",
    "%matplotlib inline "
   ]
  },
  {
   "cell_type": "code",
   "execution_count": 2,
   "metadata": {},
   "outputs": [
    {
     "name": "stdout",
     "output_type": "stream",
     "text": [
      "python 3.8.6 (tags/v3.8.6:db45529, Sep 23 2020, 15:52:53) [MSC v.1927 64 bit (AMD64)]\n",
      "pandas 1.2.3\n"
     ]
    }
   ],
   "source": [
    "print(\"python\", sys.version)\n",
    "print(\"pandas\", pd.__version__)"
   ]
  },
  {
   "cell_type": "markdown",
   "metadata": {},
   "source": [
    "# 1. Подготовка данных #"
   ]
  },
  {
   "cell_type": "code",
   "execution_count": 3,
   "metadata": {},
   "outputs": [
    {
     "data": {
      "text/html": [
       "<div>\n",
       "<style scoped>\n",
       "    .dataframe tbody tr th:only-of-type {\n",
       "        vertical-align: middle;\n",
       "    }\n",
       "\n",
       "    .dataframe tbody tr th {\n",
       "        vertical-align: top;\n",
       "    }\n",
       "\n",
       "    .dataframe thead th {\n",
       "        text-align: right;\n",
       "    }\n",
       "</style>\n",
       "<table border=\"1\" class=\"dataframe\">\n",
       "  <thead>\n",
       "    <tr style=\"text-align: right;\">\n",
       "      <th></th>\n",
       "      <th>Name</th>\n",
       "      <th>Platform</th>\n",
       "      <th>Year_of_Release</th>\n",
       "      <th>Genre</th>\n",
       "      <th>NA_sales</th>\n",
       "      <th>EU_sales</th>\n",
       "      <th>JP_sales</th>\n",
       "      <th>Other_sales</th>\n",
       "      <th>Critic_Score</th>\n",
       "      <th>User_Score</th>\n",
       "      <th>Rating</th>\n",
       "    </tr>\n",
       "  </thead>\n",
       "  <tbody>\n",
       "    <tr>\n",
       "      <th>0</th>\n",
       "      <td>Wii Sports</td>\n",
       "      <td>Wii</td>\n",
       "      <td>2006.0</td>\n",
       "      <td>Sports</td>\n",
       "      <td>41.36</td>\n",
       "      <td>28.96</td>\n",
       "      <td>3.77</td>\n",
       "      <td>8.45</td>\n",
       "      <td>76.0</td>\n",
       "      <td>8</td>\n",
       "      <td>E</td>\n",
       "    </tr>\n",
       "    <tr>\n",
       "      <th>1</th>\n",
       "      <td>Super Mario Bros.</td>\n",
       "      <td>NES</td>\n",
       "      <td>1985.0</td>\n",
       "      <td>Platform</td>\n",
       "      <td>29.08</td>\n",
       "      <td>3.58</td>\n",
       "      <td>6.81</td>\n",
       "      <td>0.77</td>\n",
       "      <td>NaN</td>\n",
       "      <td>NaN</td>\n",
       "      <td>NaN</td>\n",
       "    </tr>\n",
       "    <tr>\n",
       "      <th>2</th>\n",
       "      <td>Mario Kart Wii</td>\n",
       "      <td>Wii</td>\n",
       "      <td>2008.0</td>\n",
       "      <td>Racing</td>\n",
       "      <td>15.68</td>\n",
       "      <td>12.76</td>\n",
       "      <td>3.79</td>\n",
       "      <td>3.29</td>\n",
       "      <td>82.0</td>\n",
       "      <td>8.3</td>\n",
       "      <td>E</td>\n",
       "    </tr>\n",
       "    <tr>\n",
       "      <th>3</th>\n",
       "      <td>Wii Sports Resort</td>\n",
       "      <td>Wii</td>\n",
       "      <td>2009.0</td>\n",
       "      <td>Sports</td>\n",
       "      <td>15.61</td>\n",
       "      <td>10.93</td>\n",
       "      <td>3.28</td>\n",
       "      <td>2.95</td>\n",
       "      <td>80.0</td>\n",
       "      <td>8</td>\n",
       "      <td>E</td>\n",
       "    </tr>\n",
       "    <tr>\n",
       "      <th>4</th>\n",
       "      <td>Pokemon Red/Pokemon Blue</td>\n",
       "      <td>GB</td>\n",
       "      <td>1996.0</td>\n",
       "      <td>Role-Playing</td>\n",
       "      <td>11.27</td>\n",
       "      <td>8.89</td>\n",
       "      <td>10.22</td>\n",
       "      <td>1.00</td>\n",
       "      <td>NaN</td>\n",
       "      <td>NaN</td>\n",
       "      <td>NaN</td>\n",
       "    </tr>\n",
       "  </tbody>\n",
       "</table>\n",
       "</div>"
      ],
      "text/plain": [
       "                       Name Platform  Year_of_Release         Genre  NA_sales  \\\n",
       "0                Wii Sports      Wii           2006.0        Sports     41.36   \n",
       "1         Super Mario Bros.      NES           1985.0      Platform     29.08   \n",
       "2            Mario Kart Wii      Wii           2008.0        Racing     15.68   \n",
       "3         Wii Sports Resort      Wii           2009.0        Sports     15.61   \n",
       "4  Pokemon Red/Pokemon Blue       GB           1996.0  Role-Playing     11.27   \n",
       "\n",
       "   EU_sales  JP_sales  Other_sales  Critic_Score User_Score Rating  \n",
       "0     28.96      3.77         8.45          76.0          8      E  \n",
       "1      3.58      6.81         0.77           NaN        NaN    NaN  \n",
       "2     12.76      3.79         3.29          82.0        8.3      E  \n",
       "3     10.93      3.28         2.95          80.0          8      E  \n",
       "4      8.89     10.22         1.00           NaN        NaN    NaN  "
      ]
     },
     "execution_count": 3,
     "metadata": {},
     "output_type": "execute_result"
    }
   ],
   "source": [
    "df = pd.read_csv('games.csv')\n",
    "df.head()"
   ]
  },
  {
   "cell_type": "markdown",
   "metadata": {},
   "source": [
    "Сразу видим, что нужно переименовать столбцы: приведем все названия к нижнему регистру"
   ]
  },
  {
   "cell_type": "code",
   "execution_count": 4,
   "metadata": {},
   "outputs": [
    {
     "data": {
      "text/html": [
       "<div>\n",
       "<style scoped>\n",
       "    .dataframe tbody tr th:only-of-type {\n",
       "        vertical-align: middle;\n",
       "    }\n",
       "\n",
       "    .dataframe tbody tr th {\n",
       "        vertical-align: top;\n",
       "    }\n",
       "\n",
       "    .dataframe thead th {\n",
       "        text-align: right;\n",
       "    }\n",
       "</style>\n",
       "<table border=\"1\" class=\"dataframe\">\n",
       "  <thead>\n",
       "    <tr style=\"text-align: right;\">\n",
       "      <th></th>\n",
       "      <th>name</th>\n",
       "      <th>platform</th>\n",
       "      <th>year_of_release</th>\n",
       "      <th>genre</th>\n",
       "      <th>na_sales</th>\n",
       "      <th>eu_sales</th>\n",
       "      <th>jp_sales</th>\n",
       "      <th>other_sales</th>\n",
       "      <th>critic_score</th>\n",
       "      <th>user_score</th>\n",
       "      <th>rating</th>\n",
       "    </tr>\n",
       "  </thead>\n",
       "  <tbody>\n",
       "    <tr>\n",
       "      <th>0</th>\n",
       "      <td>Wii Sports</td>\n",
       "      <td>Wii</td>\n",
       "      <td>2006.0</td>\n",
       "      <td>Sports</td>\n",
       "      <td>41.36</td>\n",
       "      <td>28.96</td>\n",
       "      <td>3.77</td>\n",
       "      <td>8.45</td>\n",
       "      <td>76.0</td>\n",
       "      <td>8</td>\n",
       "      <td>E</td>\n",
       "    </tr>\n",
       "    <tr>\n",
       "      <th>1</th>\n",
       "      <td>Super Mario Bros.</td>\n",
       "      <td>NES</td>\n",
       "      <td>1985.0</td>\n",
       "      <td>Platform</td>\n",
       "      <td>29.08</td>\n",
       "      <td>3.58</td>\n",
       "      <td>6.81</td>\n",
       "      <td>0.77</td>\n",
       "      <td>NaN</td>\n",
       "      <td>NaN</td>\n",
       "      <td>NaN</td>\n",
       "    </tr>\n",
       "    <tr>\n",
       "      <th>2</th>\n",
       "      <td>Mario Kart Wii</td>\n",
       "      <td>Wii</td>\n",
       "      <td>2008.0</td>\n",
       "      <td>Racing</td>\n",
       "      <td>15.68</td>\n",
       "      <td>12.76</td>\n",
       "      <td>3.79</td>\n",
       "      <td>3.29</td>\n",
       "      <td>82.0</td>\n",
       "      <td>8.3</td>\n",
       "      <td>E</td>\n",
       "    </tr>\n",
       "    <tr>\n",
       "      <th>3</th>\n",
       "      <td>Wii Sports Resort</td>\n",
       "      <td>Wii</td>\n",
       "      <td>2009.0</td>\n",
       "      <td>Sports</td>\n",
       "      <td>15.61</td>\n",
       "      <td>10.93</td>\n",
       "      <td>3.28</td>\n",
       "      <td>2.95</td>\n",
       "      <td>80.0</td>\n",
       "      <td>8</td>\n",
       "      <td>E</td>\n",
       "    </tr>\n",
       "    <tr>\n",
       "      <th>4</th>\n",
       "      <td>Pokemon Red/Pokemon Blue</td>\n",
       "      <td>GB</td>\n",
       "      <td>1996.0</td>\n",
       "      <td>Role-Playing</td>\n",
       "      <td>11.27</td>\n",
       "      <td>8.89</td>\n",
       "      <td>10.22</td>\n",
       "      <td>1.00</td>\n",
       "      <td>NaN</td>\n",
       "      <td>NaN</td>\n",
       "      <td>NaN</td>\n",
       "    </tr>\n",
       "  </tbody>\n",
       "</table>\n",
       "</div>"
      ],
      "text/plain": [
       "                       name platform  year_of_release         genre  na_sales  \\\n",
       "0                Wii Sports      Wii           2006.0        Sports     41.36   \n",
       "1         Super Mario Bros.      NES           1985.0      Platform     29.08   \n",
       "2            Mario Kart Wii      Wii           2008.0        Racing     15.68   \n",
       "3         Wii Sports Resort      Wii           2009.0        Sports     15.61   \n",
       "4  Pokemon Red/Pokemon Blue       GB           1996.0  Role-Playing     11.27   \n",
       "\n",
       "   eu_sales  jp_sales  other_sales  critic_score user_score rating  \n",
       "0     28.96      3.77         8.45          76.0          8      E  \n",
       "1      3.58      6.81         0.77           NaN        NaN    NaN  \n",
       "2     12.76      3.79         3.29          82.0        8.3      E  \n",
       "3     10.93      3.28         2.95          80.0          8      E  \n",
       "4      8.89     10.22         1.00           NaN        NaN    NaN  "
      ]
     },
     "execution_count": 4,
     "metadata": {},
     "output_type": "execute_result"
    }
   ],
   "source": [
    "df.set_axis(axis = 'columns', labels=['name', 'platform', 'year_of_release', 'genre', 'na_sales', 'eu_sales', 'jp_sales', 'other_sales', 'critic_score', 'user_score', 'rating'], inplace=True)\n",
    "df.head()"
   ]
  },
  {
   "cell_type": "markdown",
   "metadata": {},
   "source": [
    "### 1.1 Преобразование типов"
   ]
  },
  {
   "cell_type": "markdown",
   "metadata": {},
   "source": [
    "Посмотрим на типы данных в столбцах:"
   ]
  },
  {
   "cell_type": "code",
   "execution_count": 5,
   "metadata": {},
   "outputs": [
    {
     "name": "stdout",
     "output_type": "stream",
     "text": [
      "<class 'pandas.core.frame.DataFrame'>\n",
      "RangeIndex: 16715 entries, 0 to 16714\n",
      "Data columns (total 11 columns):\n",
      " #   Column           Non-Null Count  Dtype  \n",
      "---  ------           --------------  -----  \n",
      " 0   name             16713 non-null  object \n",
      " 1   platform         16715 non-null  object \n",
      " 2   year_of_release  16446 non-null  float64\n",
      " 3   genre            16713 non-null  object \n",
      " 4   na_sales         16715 non-null  float64\n",
      " 5   eu_sales         16715 non-null  float64\n",
      " 6   jp_sales         16715 non-null  float64\n",
      " 7   other_sales      16715 non-null  float64\n",
      " 8   critic_score     8137 non-null   float64\n",
      " 9   user_score       10014 non-null  object \n",
      " 10  rating           9949 non-null   object \n",
      "dtypes: float64(6), object(5)\n",
      "memory usage: 5.6 MB\n"
     ]
    }
   ],
   "source": [
    "df.info(memory_usage='deep')"
   ]
  },
  {
   "cell_type": "markdown",
   "metadata": {},
   "source": [
    "Предположим, что набор значений в столбцах genre, rating сильно ограничен. Посмотрим на данные:"
   ]
  },
  {
   "cell_type": "code",
   "execution_count": 6,
   "metadata": {},
   "outputs": [
    {
     "data": {
      "text/plain": [
       "(array(['Sports', 'Platform', 'Racing', 'Role-Playing', 'Puzzle', 'Misc',\n",
       "        'Shooter', 'Simulation', 'Action', 'Fighting', 'Adventure',\n",
       "        'Strategy', nan], dtype=object),\n",
       " array(['E', nan, 'M', 'T', 'E10+', 'K-A', 'AO', 'EC', 'RP'], dtype=object))"
      ]
     },
     "execution_count": 6,
     "metadata": {},
     "output_type": "execute_result"
    }
   ],
   "source": [
    "df.genre.unique(), df.rating.unique()"
   ]
  },
  {
   "cell_type": "markdown",
   "metadata": {},
   "source": [
    "Да, значений в столбцах не очень много, можно заменить их типы на category. \n",
    "Проведем следующие преобразования типов столбцов:\n",
    "- **platform**: оставим как есть\n",
    "- **year_of_release**: float64 заменим тип на uint16. Для хранения года выпуска игры удобнее будет использовать целочисленный неотрицательный тип uint16 - он может хранить в себе значения в диапазоне от 0 до 65535. Помимо того, что обрабатывать год как целое число несколько удобнее, такой заменой уменьшаем и количество памяти, необходимое для хранения этого столбца - каждое значение типа float64 имеет размер 8 байт, когда как uint16 - 2 байта.\n",
    "- **genre**: object заменим на category\n",
    "- **rating**: object заменим на category\n",
    "- **user_score**: object заменим на float16. Зту замену необходимо произвести, так как в столбце хранится оценка пользователей, которая всегда будет иметь числовое значение."
   ]
  },
  {
   "cell_type": "code",
   "execution_count": 7,
   "metadata": {},
   "outputs": [],
   "source": [
    "df['genre'] = df['genre'].astype('category')\n",
    "df['rating'] = df['rating'].astype('category')"
   ]
  },
  {
   "cell_type": "markdown",
   "metadata": {},
   "source": [
    "Прежде чем заменить тип столбца **year_of_release**, необходимо обработать пропуски в этом столбце. В выводе функции info() выше видим, что в столбце около 200 пропусков. Убедимся, что пропущенные значения не принадлежат какой-то одной из платформ или значению рейтинга ESRB:"
   ]
  },
  {
   "cell_type": "code",
   "execution_count": 8,
   "metadata": {},
   "outputs": [],
   "source": [
    "def get_grouped_stats(df, group_column, column, func, first_rows=5, ):\n",
    "    matched_rows = df[func(df[column])].groupby(group_column)['name'].count()\n",
    "    matched_rows.name = 'matched_rows_count'    \n",
    "    rows_count = df.groupby(group_column)['name'].count()\n",
    "    rows_count.name = 'rows_count'\n",
    "    result = pd.concat([matched_rows, rows_count], axis=1, join='inner')\n",
    "    result['rate'] = result.matched_rows_count / result.rows_count\n",
    "    return result.sort_values(by='rate', ascending=False)[:first_rows]"
   ]
  },
  {
   "cell_type": "code",
   "execution_count": 9,
   "metadata": {},
   "outputs": [
    {
     "data": {
      "text/html": [
       "<div>\n",
       "<style scoped>\n",
       "    .dataframe tbody tr th:only-of-type {\n",
       "        vertical-align: middle;\n",
       "    }\n",
       "\n",
       "    .dataframe tbody tr th {\n",
       "        vertical-align: top;\n",
       "    }\n",
       "\n",
       "    .dataframe thead th {\n",
       "        text-align: right;\n",
       "    }\n",
       "</style>\n",
       "<table border=\"1\" class=\"dataframe\">\n",
       "  <thead>\n",
       "    <tr style=\"text-align: right;\">\n",
       "      <th></th>\n",
       "      <th>matched_rows_count</th>\n",
       "      <th>rows_count</th>\n",
       "      <th>rate</th>\n",
       "    </tr>\n",
       "    <tr>\n",
       "      <th>platform</th>\n",
       "      <th></th>\n",
       "      <th></th>\n",
       "      <th></th>\n",
       "    </tr>\n",
       "  </thead>\n",
       "  <tbody>\n",
       "    <tr>\n",
       "      <th>2600</th>\n",
       "      <td>17</td>\n",
       "      <td>133</td>\n",
       "      <td>0.127820</td>\n",
       "    </tr>\n",
       "    <tr>\n",
       "      <th>Wii</th>\n",
       "      <td>34</td>\n",
       "      <td>1320</td>\n",
       "      <td>0.025758</td>\n",
       "    </tr>\n",
       "    <tr>\n",
       "      <th>XB</th>\n",
       "      <td>21</td>\n",
       "      <td>824</td>\n",
       "      <td>0.025485</td>\n",
       "    </tr>\n",
       "    <tr>\n",
       "      <th>GC</th>\n",
       "      <td>14</td>\n",
       "      <td>556</td>\n",
       "      <td>0.025180</td>\n",
       "    </tr>\n",
       "    <tr>\n",
       "      <th>X360</th>\n",
       "      <td>30</td>\n",
       "      <td>1262</td>\n",
       "      <td>0.023772</td>\n",
       "    </tr>\n",
       "  </tbody>\n",
       "</table>\n",
       "</div>"
      ],
      "text/plain": [
       "          matched_rows_count  rows_count      rate\n",
       "platform                                          \n",
       "2600                      17         133  0.127820\n",
       "Wii                       34        1320  0.025758\n",
       "XB                        21         824  0.025485\n",
       "GC                        14         556  0.025180\n",
       "X360                      30        1262  0.023772"
      ]
     },
     "execution_count": 9,
     "metadata": {},
     "output_type": "execute_result"
    }
   ],
   "source": [
    "get_grouped_stats(df, 'platform', 'year_of_release', pd.isnull)"
   ]
  },
  {
   "cell_type": "code",
   "execution_count": 10,
   "metadata": {},
   "outputs": [
    {
     "data": {
      "text/html": [
       "<div>\n",
       "<style scoped>\n",
       "    .dataframe tbody tr th:only-of-type {\n",
       "        vertical-align: middle;\n",
       "    }\n",
       "\n",
       "    .dataframe tbody tr th {\n",
       "        vertical-align: top;\n",
       "    }\n",
       "\n",
       "    .dataframe thead th {\n",
       "        text-align: right;\n",
       "    }\n",
       "</style>\n",
       "<table border=\"1\" class=\"dataframe\">\n",
       "  <thead>\n",
       "    <tr style=\"text-align: right;\">\n",
       "      <th></th>\n",
       "      <th>matched_rows_count</th>\n",
       "      <th>rows_count</th>\n",
       "      <th>rate</th>\n",
       "    </tr>\n",
       "    <tr>\n",
       "      <th>rating</th>\n",
       "      <th></th>\n",
       "      <th></th>\n",
       "      <th></th>\n",
       "    </tr>\n",
       "  </thead>\n",
       "  <tbody>\n",
       "    <tr>\n",
       "      <th>RP</th>\n",
       "      <td>2</td>\n",
       "      <td>3</td>\n",
       "      <td>0.666667</td>\n",
       "    </tr>\n",
       "    <tr>\n",
       "      <th>E10+</th>\n",
       "      <td>27</td>\n",
       "      <td>1420</td>\n",
       "      <td>0.019014</td>\n",
       "    </tr>\n",
       "    <tr>\n",
       "      <th>T</th>\n",
       "      <td>56</td>\n",
       "      <td>2961</td>\n",
       "      <td>0.018913</td>\n",
       "    </tr>\n",
       "    <tr>\n",
       "      <th>E</th>\n",
       "      <td>69</td>\n",
       "      <td>3990</td>\n",
       "      <td>0.017293</td>\n",
       "    </tr>\n",
       "    <tr>\n",
       "      <th>M</th>\n",
       "      <td>27</td>\n",
       "      <td>1563</td>\n",
       "      <td>0.017274</td>\n",
       "    </tr>\n",
       "  </tbody>\n",
       "</table>\n",
       "</div>"
      ],
      "text/plain": [
       "        matched_rows_count  rows_count      rate\n",
       "rating                                          \n",
       "RP                       2           3  0.666667\n",
       "E10+                    27        1420  0.019014\n",
       "T                       56        2961  0.018913\n",
       "E                       69        3990  0.017293\n",
       "M                       27        1563  0.017274"
      ]
     },
     "execution_count": 10,
     "metadata": {},
     "output_type": "execute_result"
    }
   ],
   "source": [
    "get_grouped_stats(df, 'rating', 'year_of_release', pd.isnull)"
   ]
  },
  {
   "cell_type": "markdown",
   "metadata": {},
   "source": [
    "Если пропущенные в столбце year_of_release распределены практически равномерно по типам платформ, то в отношении столбца с рейтингом есть интересное замечание. Для 2 из 3 записей с рейтингом RP пропущено значение в столбце year_of_release.\n",
    "Путем поиска в Яндекс узнаем, что RP значит Rating Pending, т.е. рейтинг ожидается. Посмотрим, что это за игры:"
   ]
  },
  {
   "cell_type": "code",
   "execution_count": 11,
   "metadata": {},
   "outputs": [
    {
     "data": {
      "text/html": [
       "<div>\n",
       "<style scoped>\n",
       "    .dataframe tbody tr th:only-of-type {\n",
       "        vertical-align: middle;\n",
       "    }\n",
       "\n",
       "    .dataframe tbody tr th {\n",
       "        vertical-align: top;\n",
       "    }\n",
       "\n",
       "    .dataframe thead th {\n",
       "        text-align: right;\n",
       "    }\n",
       "</style>\n",
       "<table border=\"1\" class=\"dataframe\">\n",
       "  <thead>\n",
       "    <tr style=\"text-align: right;\">\n",
       "      <th></th>\n",
       "      <th>name</th>\n",
       "      <th>platform</th>\n",
       "      <th>year_of_release</th>\n",
       "      <th>genre</th>\n",
       "      <th>na_sales</th>\n",
       "      <th>eu_sales</th>\n",
       "      <th>jp_sales</th>\n",
       "      <th>other_sales</th>\n",
       "      <th>critic_score</th>\n",
       "      <th>user_score</th>\n",
       "      <th>rating</th>\n",
       "    </tr>\n",
       "  </thead>\n",
       "  <tbody>\n",
       "    <tr>\n",
       "      <th>13672</th>\n",
       "      <td>Clockwork Empires</td>\n",
       "      <td>PC</td>\n",
       "      <td>NaN</td>\n",
       "      <td>Strategy</td>\n",
       "      <td>0.0</td>\n",
       "      <td>0.04</td>\n",
       "      <td>0.0</td>\n",
       "      <td>0.00</td>\n",
       "      <td>58.0</td>\n",
       "      <td>3.8</td>\n",
       "      <td>RP</td>\n",
       "    </tr>\n",
       "    <tr>\n",
       "      <th>14270</th>\n",
       "      <td>Supreme Ruler: Cold War</td>\n",
       "      <td>PC</td>\n",
       "      <td>2011.0</td>\n",
       "      <td>Strategy</td>\n",
       "      <td>0.0</td>\n",
       "      <td>0.03</td>\n",
       "      <td>0.0</td>\n",
       "      <td>0.01</td>\n",
       "      <td>63.0</td>\n",
       "      <td>6.8</td>\n",
       "      <td>RP</td>\n",
       "    </tr>\n",
       "    <tr>\n",
       "      <th>16180</th>\n",
       "      <td>WRC: FIA World Rally Championship</td>\n",
       "      <td>PC</td>\n",
       "      <td>NaN</td>\n",
       "      <td>Racing</td>\n",
       "      <td>0.0</td>\n",
       "      <td>0.01</td>\n",
       "      <td>0.0</td>\n",
       "      <td>0.00</td>\n",
       "      <td>65.0</td>\n",
       "      <td>NaN</td>\n",
       "      <td>RP</td>\n",
       "    </tr>\n",
       "  </tbody>\n",
       "</table>\n",
       "</div>"
      ],
      "text/plain": [
       "                                    name platform  year_of_release     genre  \\\n",
       "13672                  Clockwork Empires       PC              NaN  Strategy   \n",
       "14270            Supreme Ruler: Cold War       PC           2011.0  Strategy   \n",
       "16180  WRC: FIA World Rally Championship       PC              NaN    Racing   \n",
       "\n",
       "       na_sales  eu_sales  jp_sales  other_sales  critic_score user_score  \\\n",
       "13672       0.0      0.04       0.0         0.00          58.0        3.8   \n",
       "14270       0.0      0.03       0.0         0.01          63.0        6.8   \n",
       "16180       0.0      0.01       0.0         0.00          65.0        NaN   \n",
       "\n",
       "      rating  \n",
       "13672     RP  \n",
       "14270     RP  \n",
       "16180     RP  "
      ]
     },
     "execution_count": 11,
     "metadata": {},
     "output_type": "execute_result"
    }
   ],
   "source": [
    "df[df.rating == 'RP']"
   ]
  },
  {
   "cell_type": "markdown",
   "metadata": {},
   "source": [
    "Так как таких строки всего 3, попробуем заполнить данные самостоятельно. Путем поиска на ресурсах [ESRB](https://www.esrb.org/) и [Metacritic](https://www.metacritic.com/) находим следующую информацию:\n",
    "- **Supreme Ruler: Cold War** [получила](https://www.esrb.org/ratings/31253/Supreme+Ruler+Cold+War/) на ESRB рейтинг E10+\n",
    "- **WRC: FIA World Rally Championship** [вышла в релиз](https://www.metacritic.com/game/pc/wrc-fia-world-rally-championship) на PC в 2010 году, однако по состоянию на 2021 так и не получила свой уровень рейтинга от ESRB. Можно просто удалить данную запись из таблицы.\n",
    "- **Clockwork Empires** [вышла в релиз](https://www.metacritic.com/game/pc/clockwork-empires) в 2016 году, но также до сих пор не получила свой рейтинг от ESRB. Также удаляем эту запись, тем самым полностью избавляясь от категории 'RP' в столбце rating"
   ]
  },
  {
   "cell_type": "code",
   "execution_count": 12,
   "metadata": {},
   "outputs": [],
   "source": [
    "#удаляем ненужные записи\n",
    "df.drop(df.loc[(df['name']=='WRC: FIA World Rally Championship') & (df['platform']=='PC')].index, inplace=True)\n",
    "df.drop(df.loc[(df['name']=='Clockwork Empires') & (df['platform']=='PC')].index, inplace=True)\n",
    "\n",
    "#меняем рейтинг для Supreme Ruler: Cold War\n",
    "df.loc[df[df.name == 'Supreme Ruler: Cold War'].index, 'rating'] = 'E10+'\n",
    "\n",
    "#меняем тип столбца rating на category\n",
    "df.rating.cat.set_categories(df.rating.unique().categories, inplace=True)"
   ]
  },
  {
   "cell_type": "code",
   "execution_count": 13,
   "metadata": {},
   "outputs": [
    {
     "name": "stdout",
     "output_type": "stream",
     "text": [
      "<class 'pandas.core.frame.DataFrame'>\n",
      "Int64Index: 16713 entries, 0 to 16714\n",
      "Data columns (total 11 columns):\n",
      " #   Column           Non-Null Count  Dtype   \n",
      "---  ------           --------------  -----   \n",
      " 0   name             16711 non-null  object  \n",
      " 1   platform         16713 non-null  object  \n",
      " 2   year_of_release  16446 non-null  float64 \n",
      " 3   genre            16711 non-null  category\n",
      " 4   na_sales         16713 non-null  float64 \n",
      " 5   eu_sales         16713 non-null  float64 \n",
      " 6   jp_sales         16713 non-null  float64 \n",
      " 7   other_sales      16713 non-null  float64 \n",
      " 8   critic_score     8135 non-null   float64 \n",
      " 9   user_score       10013 non-null  object  \n",
      " 10  rating           9947 non-null   category\n",
      "dtypes: category(2), float64(6), object(3)\n",
      "memory usage: 4.4 MB\n"
     ]
    }
   ],
   "source": [
    "df.info(memory_usage='deep')"
   ]
  },
  {
   "cell_type": "markdown",
   "metadata": {},
   "source": [
    "Видим, что пропуски распределены по разным значениям категориальных переменных. Так как количество пропусков в целом небольшое по сравнению с размером датасета, просто удалим записи с пропущенными значениями в этом столбце. Удалим пропуски и поменяем тип столбца:"
   ]
  },
  {
   "cell_type": "code",
   "execution_count": 14,
   "metadata": {},
   "outputs": [
    {
     "name": "stdout",
     "output_type": "stream",
     "text": [
      "<class 'pandas.core.frame.DataFrame'>\n",
      "Int64Index: 16446 entries, 0 to 16714\n",
      "Data columns (total 11 columns):\n",
      " #   Column           Non-Null Count  Dtype   \n",
      "---  ------           --------------  -----   \n",
      " 0   name             16444 non-null  object  \n",
      " 1   platform         16446 non-null  object  \n",
      " 2   year_of_release  16446 non-null  uint16  \n",
      " 3   genre            16444 non-null  category\n",
      " 4   na_sales         16446 non-null  float64 \n",
      " 5   eu_sales         16446 non-null  float64 \n",
      " 6   jp_sales         16446 non-null  float64 \n",
      " 7   other_sales      16446 non-null  float64 \n",
      " 8   critic_score     7983 non-null   float64 \n",
      " 9   user_score       9839 non-null   object  \n",
      " 10  rating           9768 non-null   category\n",
      "dtypes: category(2), float64(5), object(3), uint16(1)\n",
      "memory usage: 3.8 MB\n"
     ]
    }
   ],
   "source": [
    "#удаляем пропуски в столбце year_of_release\n",
    "df.dropna(subset=['year_of_release'], inplace=True)\n",
    "#меняем тип столбца year_of_release на uint16\n",
    "df['year_of_release'] = df['year_of_release'].astype('uint16')\n",
    "df.info(memory_usage='deep')"
   ]
  },
  {
   "cell_type": "markdown",
   "metadata": {},
   "source": [
    "Помимо большого количества пропусков в столбцах **critic_score**, **user_score**, **rating** остались еще записи с 2 пропусками в столбцах **name** и **genre**. Взглянем на них:"
   ]
  },
  {
   "cell_type": "code",
   "execution_count": 15,
   "metadata": {},
   "outputs": [
    {
     "data": {
      "text/html": [
       "<div>\n",
       "<style scoped>\n",
       "    .dataframe tbody tr th:only-of-type {\n",
       "        vertical-align: middle;\n",
       "    }\n",
       "\n",
       "    .dataframe tbody tr th {\n",
       "        vertical-align: top;\n",
       "    }\n",
       "\n",
       "    .dataframe thead th {\n",
       "        text-align: right;\n",
       "    }\n",
       "</style>\n",
       "<table border=\"1\" class=\"dataframe\">\n",
       "  <thead>\n",
       "    <tr style=\"text-align: right;\">\n",
       "      <th></th>\n",
       "      <th>name</th>\n",
       "      <th>platform</th>\n",
       "      <th>year_of_release</th>\n",
       "      <th>genre</th>\n",
       "      <th>na_sales</th>\n",
       "      <th>eu_sales</th>\n",
       "      <th>jp_sales</th>\n",
       "      <th>other_sales</th>\n",
       "      <th>critic_score</th>\n",
       "      <th>user_score</th>\n",
       "      <th>rating</th>\n",
       "    </tr>\n",
       "  </thead>\n",
       "  <tbody>\n",
       "    <tr>\n",
       "      <th>659</th>\n",
       "      <td>NaN</td>\n",
       "      <td>GEN</td>\n",
       "      <td>1993</td>\n",
       "      <td>NaN</td>\n",
       "      <td>1.78</td>\n",
       "      <td>0.53</td>\n",
       "      <td>0.00</td>\n",
       "      <td>0.08</td>\n",
       "      <td>NaN</td>\n",
       "      <td>NaN</td>\n",
       "      <td>NaN</td>\n",
       "    </tr>\n",
       "    <tr>\n",
       "      <th>14244</th>\n",
       "      <td>NaN</td>\n",
       "      <td>GEN</td>\n",
       "      <td>1993</td>\n",
       "      <td>NaN</td>\n",
       "      <td>0.00</td>\n",
       "      <td>0.00</td>\n",
       "      <td>0.03</td>\n",
       "      <td>0.00</td>\n",
       "      <td>NaN</td>\n",
       "      <td>NaN</td>\n",
       "      <td>NaN</td>\n",
       "    </tr>\n",
       "  </tbody>\n",
       "</table>\n",
       "</div>"
      ],
      "text/plain": [
       "      name platform  year_of_release genre  na_sales  eu_sales  jp_sales  \\\n",
       "659    NaN      GEN             1993   NaN      1.78      0.53      0.00   \n",
       "14244  NaN      GEN             1993   NaN      0.00      0.00      0.03   \n",
       "\n",
       "       other_sales  critic_score user_score rating  \n",
       "659           0.08           NaN        NaN    NaN  \n",
       "14244         0.00           NaN        NaN    NaN  "
      ]
     },
     "execution_count": 15,
     "metadata": {},
     "output_type": "execute_result"
    }
   ],
   "source": [
    "df[df.genre.isnull()]"
   ]
  },
  {
   "cell_type": "markdown",
   "metadata": {},
   "source": [
    "Тоже смело можно удалять:"
   ]
  },
  {
   "cell_type": "code",
   "execution_count": 16,
   "metadata": {},
   "outputs": [
    {
     "name": "stdout",
     "output_type": "stream",
     "text": [
      "<class 'pandas.core.frame.DataFrame'>\n",
      "Int64Index: 16444 entries, 0 to 16714\n",
      "Data columns (total 11 columns):\n",
      " #   Column           Non-Null Count  Dtype   \n",
      "---  ------           --------------  -----   \n",
      " 0   name             16444 non-null  object  \n",
      " 1   platform         16444 non-null  object  \n",
      " 2   year_of_release  16444 non-null  uint16  \n",
      " 3   genre            16444 non-null  category\n",
      " 4   na_sales         16444 non-null  float64 \n",
      " 5   eu_sales         16444 non-null  float64 \n",
      " 6   jp_sales         16444 non-null  float64 \n",
      " 7   other_sales      16444 non-null  float64 \n",
      " 8   critic_score     7983 non-null   float64 \n",
      " 9   user_score       9839 non-null   object  \n",
      " 10  rating           9768 non-null   category\n",
      "dtypes: category(2), float64(5), object(3), uint16(1)\n",
      "memory usage: 3.8 MB\n"
     ]
    }
   ],
   "source": [
    "#удаляем все строки с пропусками в столбцах name и genre\n",
    "df.dropna(subset=['name', 'genre'], inplace=True)\n",
    "df.info(memory_usage='deep')"
   ]
  },
  {
   "cell_type": "markdown",
   "metadata": {},
   "source": [
    "Дальше необходимо поменять тип в столбце **user_score** на float64, посколько там хранятся оценки пользователей, что явно должно храниться в числовом виде. Однако известно, что в столбце содержатся значения нечислового типа, а именно 'tbd', что означает to be determined, т.е. будет определен в будущем. Посмотрим, сколько таких данных и как они распределены:"
   ]
  },
  {
   "cell_type": "code",
   "execution_count": 17,
   "metadata": {},
   "outputs": [
    {
     "data": {
      "text/plain": [
       "(2376, 11)"
      ]
     },
     "execution_count": 17,
     "metadata": {},
     "output_type": "execute_result"
    }
   ],
   "source": [
    "df[df['user_score'] == 'tbd'].shape"
   ]
  },
  {
   "cell_type": "code",
   "execution_count": 18,
   "metadata": {},
   "outputs": [
    {
     "data": {
      "text/html": [
       "<div>\n",
       "<style scoped>\n",
       "    .dataframe tbody tr th:only-of-type {\n",
       "        vertical-align: middle;\n",
       "    }\n",
       "\n",
       "    .dataframe tbody tr th {\n",
       "        vertical-align: top;\n",
       "    }\n",
       "\n",
       "    .dataframe thead th {\n",
       "        text-align: right;\n",
       "    }\n",
       "</style>\n",
       "<table border=\"1\" class=\"dataframe\">\n",
       "  <thead>\n",
       "    <tr style=\"text-align: right;\">\n",
       "      <th></th>\n",
       "      <th>matched_rows_count</th>\n",
       "      <th>rows_count</th>\n",
       "      <th>rate</th>\n",
       "    </tr>\n",
       "    <tr>\n",
       "      <th>year_of_release</th>\n",
       "      <th></th>\n",
       "      <th></th>\n",
       "      <th></th>\n",
       "    </tr>\n",
       "  </thead>\n",
       "  <tbody>\n",
       "    <tr>\n",
       "      <th>2009</th>\n",
       "      <td>405</td>\n",
       "      <td>1426</td>\n",
       "      <td>0.284011</td>\n",
       "    </tr>\n",
       "    <tr>\n",
       "      <th>2010</th>\n",
       "      <td>331</td>\n",
       "      <td>1255</td>\n",
       "      <td>0.263745</td>\n",
       "    </tr>\n",
       "    <tr>\n",
       "      <th>2002</th>\n",
       "      <td>192</td>\n",
       "      <td>829</td>\n",
       "      <td>0.231604</td>\n",
       "    </tr>\n",
       "    <tr>\n",
       "      <th>2008</th>\n",
       "      <td>326</td>\n",
       "      <td>1427</td>\n",
       "      <td>0.228451</td>\n",
       "    </tr>\n",
       "    <tr>\n",
       "      <th>2011</th>\n",
       "      <td>217</td>\n",
       "      <td>1136</td>\n",
       "      <td>0.191021</td>\n",
       "    </tr>\n",
       "    <tr>\n",
       "      <th>2001</th>\n",
       "      <td>82</td>\n",
       "      <td>482</td>\n",
       "      <td>0.170124</td>\n",
       "    </tr>\n",
       "    <tr>\n",
       "      <th>2007</th>\n",
       "      <td>192</td>\n",
       "      <td>1197</td>\n",
       "      <td>0.160401</td>\n",
       "    </tr>\n",
       "    <tr>\n",
       "      <th>2004</th>\n",
       "      <td>107</td>\n",
       "      <td>762</td>\n",
       "      <td>0.140420</td>\n",
       "    </tr>\n",
       "    <tr>\n",
       "      <th>2005</th>\n",
       "      <td>121</td>\n",
       "      <td>939</td>\n",
       "      <td>0.128860</td>\n",
       "    </tr>\n",
       "    <tr>\n",
       "      <th>2006</th>\n",
       "      <td>124</td>\n",
       "      <td>1006</td>\n",
       "      <td>0.123260</td>\n",
       "    </tr>\n",
       "  </tbody>\n",
       "</table>\n",
       "</div>"
      ],
      "text/plain": [
       "                 matched_rows_count  rows_count      rate\n",
       "year_of_release                                          \n",
       "2009                            405        1426  0.284011\n",
       "2010                            331        1255  0.263745\n",
       "2002                            192         829  0.231604\n",
       "2008                            326        1427  0.228451\n",
       "2011                            217        1136  0.191021\n",
       "2001                             82         482  0.170124\n",
       "2007                            192        1197  0.160401\n",
       "2004                            107         762  0.140420\n",
       "2005                            121         939  0.128860\n",
       "2006                            124        1006  0.123260"
      ]
     },
     "execution_count": 18,
     "metadata": {},
     "output_type": "execute_result"
    }
   ],
   "source": [
    "get_grouped_stats(df, 'year_of_release', 'user_score', lambda x: x =='tbd', 10)"
   ]
  },
  {
   "cell_type": "markdown",
   "metadata": {},
   "source": [
    "Видно, что таких значений достаточно много. Посмотрим на корреляцию признаков **user_score** и **critic_score**:"
   ]
  },
  {
   "cell_type": "code",
   "execution_count": 19,
   "metadata": {},
   "outputs": [
    {
     "data": {
      "text/plain": [
       "0.5796706281932216"
      ]
     },
     "execution_count": 19,
     "metadata": {},
     "output_type": "execute_result"
    }
   ],
   "source": [
    "df[~df['critic_score'].isnull()]['critic_score'] \\\n",
    ".corr \\\n",
    "(df[(df['user_score'] != 'tbd') & (~df['user_score'].isnull())]['user_score'].astype(float))"
   ]
  },
  {
   "cell_type": "markdown",
   "metadata": {},
   "source": [
    "Признаки имеют явную корреляцию: чем больше critic_score, тем больше user_score. **Заполним значения 'tbd' в user_score значениями critic_score / 10** и заново посчитаем корреляцию между признаками"
   ]
  },
  {
   "cell_type": "code",
   "execution_count": 20,
   "metadata": {},
   "outputs": [],
   "source": [
    "df.loc[df[df['user_score'] == 'tbd'].index, 'user_score'] = df[df['user_score'] == 'tbd']['critic_score'] / 10"
   ]
  },
  {
   "cell_type": "code",
   "execution_count": 21,
   "metadata": {},
   "outputs": [
    {
     "data": {
      "text/plain": [
       "0.6392295231844175"
      ]
     },
     "execution_count": 21,
     "metadata": {},
     "output_type": "execute_result"
    }
   ],
   "source": [
    "df[~df['critic_score'].isnull()]['critic_score'] \\\n",
    ".corr \\\n",
    "(df[(df['user_score'] != 'tbd') & (~df['user_score'].isnull())]['user_score'].astype(float))"
   ]
  },
  {
   "cell_type": "markdown",
   "metadata": {},
   "source": [
    "Корреляция увеличилась не сильно, будем считать такое преобразование user_score приемлимым.\n",
    "Заменим, наконец, тип столбца user_score на float16:"
   ]
  },
  {
   "cell_type": "code",
   "execution_count": 22,
   "metadata": {},
   "outputs": [
    {
     "name": "stdout",
     "output_type": "stream",
     "text": [
      "<class 'pandas.core.frame.DataFrame'>\n",
      "Int64Index: 16444 entries, 0 to 16714\n",
      "Data columns (total 11 columns):\n",
      " #   Column           Non-Null Count  Dtype   \n",
      "---  ------           --------------  -----   \n",
      " 0   name             16444 non-null  object  \n",
      " 1   platform         16444 non-null  object  \n",
      " 2   year_of_release  16444 non-null  uint16  \n",
      " 3   genre            16444 non-null  category\n",
      " 4   na_sales         16444 non-null  float16 \n",
      " 5   eu_sales         16444 non-null  float16 \n",
      " 6   jp_sales         16444 non-null  float16 \n",
      " 7   other_sales      16444 non-null  float16 \n",
      " 8   critic_score     7983 non-null   float16 \n",
      " 9   user_score       8519 non-null   float16 \n",
      " 10  rating           9768 non-null   category\n",
      "dtypes: category(2), float16(6), object(2), uint16(1)\n",
      "memory usage: 1.1+ MB\n"
     ]
    }
   ],
   "source": [
    "df['user_score'] = df['user_score'].astype('float16')\n",
    "df['critic_score'] = df['critic_score'].astype('float16')\n",
    "df['other_sales'] = df['other_sales'].astype('float16')\n",
    "df['jp_sales'] = df['jp_sales'].astype('float16')\n",
    "df['eu_sales'] = df['eu_sales'].astype('float16')\n",
    "df['na_sales'] = df['na_sales'].astype('float16')\n",
    "df.info()"
   ]
  },
  {
   "cell_type": "markdown",
   "metadata": {},
   "source": [
    "### 1.2 Обработка пропусков"
   ]
  },
  {
   "cell_type": "markdown",
   "metadata": {},
   "source": [
    "Посмотрим теперь на пропуски в столбцах user_score и critic_score. Найдем количество строк, в которых пропущены значения в обоих столбцах:"
   ]
  },
  {
   "cell_type": "code",
   "execution_count": 23,
   "metadata": {},
   "outputs": [
    {
     "data": {
      "text/plain": [
       "(7892, 11)"
      ]
     },
     "execution_count": 23,
     "metadata": {},
     "output_type": "execute_result"
    }
   ],
   "source": [
    "df[(df.user_score.isnull()) & (df.critic_score.isnull())].shape"
   ]
  },
  {
   "cell_type": "markdown",
   "metadata": {},
   "source": [
    "Таких строк очень много! Можно было бы попробовать восстановить их, например, линейной регрессией, но про машинное обучение мы еще не слышали ;(, да и качество таких данных было бы очень сомнительным (заполнять оценки пользователей или критиков, неблагодарное занятие, на мой взгляд). Поэтому просто удалим безнадежные строки, благо достаточно данных для анализа у нас еще останется"
   ]
  },
  {
   "cell_type": "code",
   "execution_count": 24,
   "metadata": {},
   "outputs": [
    {
     "name": "stdout",
     "output_type": "stream",
     "text": [
      "<class 'pandas.core.frame.DataFrame'>\n",
      "Int64Index: 8552 entries, 0 to 16705\n",
      "Data columns (total 11 columns):\n",
      " #   Column           Non-Null Count  Dtype   \n",
      "---  ------           --------------  -----   \n",
      " 0   name             8552 non-null   object  \n",
      " 1   platform         8552 non-null   object  \n",
      " 2   year_of_release  8552 non-null   uint16  \n",
      " 3   genre            8552 non-null   category\n",
      " 4   na_sales         8552 non-null   float16 \n",
      " 5   eu_sales         8552 non-null   float16 \n",
      " 6   jp_sales         8552 non-null   float16 \n",
      " 7   other_sales      8552 non-null   float16 \n",
      " 8   critic_score     7983 non-null   float16 \n",
      " 9   user_score       8519 non-null   float16 \n",
      " 10  rating           8456 non-null   category\n",
      "dtypes: category(2), float16(6), object(2), uint16(1)\n",
      "memory usage: 334.8+ KB\n"
     ]
    }
   ],
   "source": [
    "df.drop(df.loc[(df.user_score.isnull()) & (df.critic_score.isnull())].index, inplace=True)\n",
    "df.info()"
   ]
  },
  {
   "cell_type": "markdown",
   "metadata": {},
   "source": [
    "Удалим еще ~70 строк с пустым critic_score"
   ]
  },
  {
   "cell_type": "code",
   "execution_count": 25,
   "metadata": {},
   "outputs": [
    {
     "name": "stdout",
     "output_type": "stream",
     "text": [
      "<class 'pandas.core.frame.DataFrame'>\n",
      "Int64Index: 7983 entries, 0 to 16705\n",
      "Data columns (total 11 columns):\n",
      " #   Column           Non-Null Count  Dtype   \n",
      "---  ------           --------------  -----   \n",
      " 0   name             7983 non-null   object  \n",
      " 1   platform         7983 non-null   object  \n",
      " 2   year_of_release  7983 non-null   uint16  \n",
      " 3   genre            7983 non-null   category\n",
      " 4   na_sales         7983 non-null   float16 \n",
      " 5   eu_sales         7983 non-null   float16 \n",
      " 6   jp_sales         7983 non-null   float16 \n",
      " 7   other_sales      7983 non-null   float16 \n",
      " 8   critic_score     7983 non-null   float16 \n",
      " 9   user_score       7950 non-null   float16 \n",
      " 10  rating           7902 non-null   category\n",
      "dtypes: category(2), float16(6), object(2), uint16(1)\n",
      "memory usage: 312.6+ KB\n"
     ]
    }
   ],
   "source": [
    "df.drop(df.loc[df.critic_score.isnull()].index, inplace=True)\n",
    "df.info()"
   ]
  },
  {
   "cell_type": "markdown",
   "metadata": {},
   "source": [
    "и ~80 строк с пустым rating"
   ]
  },
  {
   "cell_type": "code",
   "execution_count": 26,
   "metadata": {},
   "outputs": [
    {
     "name": "stdout",
     "output_type": "stream",
     "text": [
      "<class 'pandas.core.frame.DataFrame'>\n",
      "Int64Index: 7902 entries, 0 to 16702\n",
      "Data columns (total 11 columns):\n",
      " #   Column           Non-Null Count  Dtype   \n",
      "---  ------           --------------  -----   \n",
      " 0   name             7902 non-null   object  \n",
      " 1   platform         7902 non-null   object  \n",
      " 2   year_of_release  7902 non-null   uint16  \n",
      " 3   genre            7902 non-null   category\n",
      " 4   na_sales         7902 non-null   float16 \n",
      " 5   eu_sales         7902 non-null   float16 \n",
      " 6   jp_sales         7902 non-null   float16 \n",
      " 7   other_sales      7902 non-null   float16 \n",
      " 8   critic_score     7902 non-null   float16 \n",
      " 9   user_score       7878 non-null   float16 \n",
      " 10  rating           7902 non-null   category\n",
      "dtypes: category(2), float16(6), object(2), uint16(1)\n",
      "memory usage: 309.4+ KB\n"
     ]
    }
   ],
   "source": [
    "df.drop(df.loc[df.rating.isnull()].index, inplace=True)\n",
    "df.info()"
   ]
  },
  {
   "cell_type": "markdown",
   "metadata": {},
   "source": [
    "Оставшиеся пропуски в строке user_score заполним путем деления на 10 critic_score в соответствующих строках"
   ]
  },
  {
   "cell_type": "code",
   "execution_count": 27,
   "metadata": {},
   "outputs": [
    {
     "name": "stdout",
     "output_type": "stream",
     "text": [
      "<class 'pandas.core.frame.DataFrame'>\n",
      "Int64Index: 7902 entries, 0 to 16702\n",
      "Data columns (total 11 columns):\n",
      " #   Column           Non-Null Count  Dtype   \n",
      "---  ------           --------------  -----   \n",
      " 0   name             7902 non-null   object  \n",
      " 1   platform         7902 non-null   object  \n",
      " 2   year_of_release  7902 non-null   uint16  \n",
      " 3   genre            7902 non-null   category\n",
      " 4   na_sales         7902 non-null   float16 \n",
      " 5   eu_sales         7902 non-null   float16 \n",
      " 6   jp_sales         7902 non-null   float16 \n",
      " 7   other_sales      7902 non-null   float16 \n",
      " 8   critic_score     7902 non-null   float16 \n",
      " 9   user_score       7902 non-null   float16 \n",
      " 10  rating           7902 non-null   category\n",
      "dtypes: category(2), float16(6), object(2), uint16(1)\n",
      "memory usage: 1.5 MB\n"
     ]
    }
   ],
   "source": [
    "df.loc[df[df['user_score'].isnull()].index, 'user_score'] = df[df['user_score'].isnull()]['critic_score'] / 10\n",
    "df.info(memory_usage='deep')"
   ]
  },
  {
   "cell_type": "markdown",
   "metadata": {},
   "source": [
    "Получен датасет с правильными типами данных и с отсутствующими пропусками. Пришлось потерять много данных. Можно идти дальше"
   ]
  },
  {
   "cell_type": "markdown",
   "metadata": {},
   "source": [
    "# 2. Исследование данных"
   ]
  },
  {
   "cell_type": "markdown",
   "metadata": {},
   "source": [
    "Добавим столбец с суммарными продажами по всем регионам"
   ]
  },
  {
   "cell_type": "code",
   "execution_count": 28,
   "metadata": {},
   "outputs": [
    {
     "data": {
      "text/html": [
       "<div>\n",
       "<style scoped>\n",
       "    .dataframe tbody tr th:only-of-type {\n",
       "        vertical-align: middle;\n",
       "    }\n",
       "\n",
       "    .dataframe tbody tr th {\n",
       "        vertical-align: top;\n",
       "    }\n",
       "\n",
       "    .dataframe thead th {\n",
       "        text-align: right;\n",
       "    }\n",
       "</style>\n",
       "<table border=\"1\" class=\"dataframe\">\n",
       "  <thead>\n",
       "    <tr style=\"text-align: right;\">\n",
       "      <th></th>\n",
       "      <th>name</th>\n",
       "      <th>platform</th>\n",
       "      <th>year_of_release</th>\n",
       "      <th>genre</th>\n",
       "      <th>na_sales</th>\n",
       "      <th>eu_sales</th>\n",
       "      <th>jp_sales</th>\n",
       "      <th>other_sales</th>\n",
       "      <th>critic_score</th>\n",
       "      <th>user_score</th>\n",
       "      <th>rating</th>\n",
       "      <th>total_sales</th>\n",
       "    </tr>\n",
       "  </thead>\n",
       "  <tbody>\n",
       "    <tr>\n",
       "      <th>0</th>\n",
       "      <td>Wii Sports</td>\n",
       "      <td>Wii</td>\n",
       "      <td>2006</td>\n",
       "      <td>Sports</td>\n",
       "      <td>41.375000</td>\n",
       "      <td>28.953125</td>\n",
       "      <td>3.769531</td>\n",
       "      <td>8.453125</td>\n",
       "      <td>76.0</td>\n",
       "      <td>8.000000</td>\n",
       "      <td>E</td>\n",
       "      <td>82.500000</td>\n",
       "    </tr>\n",
       "    <tr>\n",
       "      <th>2</th>\n",
       "      <td>Mario Kart Wii</td>\n",
       "      <td>Wii</td>\n",
       "      <td>2008</td>\n",
       "      <td>Racing</td>\n",
       "      <td>15.679688</td>\n",
       "      <td>12.757812</td>\n",
       "      <td>3.789062</td>\n",
       "      <td>3.289062</td>\n",
       "      <td>82.0</td>\n",
       "      <td>8.296875</td>\n",
       "      <td>E</td>\n",
       "      <td>35.500000</td>\n",
       "    </tr>\n",
       "    <tr>\n",
       "      <th>3</th>\n",
       "      <td>Wii Sports Resort</td>\n",
       "      <td>Wii</td>\n",
       "      <td>2009</td>\n",
       "      <td>Sports</td>\n",
       "      <td>15.609375</td>\n",
       "      <td>10.929688</td>\n",
       "      <td>3.279297</td>\n",
       "      <td>2.949219</td>\n",
       "      <td>80.0</td>\n",
       "      <td>8.000000</td>\n",
       "      <td>E</td>\n",
       "      <td>32.750000</td>\n",
       "    </tr>\n",
       "    <tr>\n",
       "      <th>6</th>\n",
       "      <td>New Super Mario Bros.</td>\n",
       "      <td>DS</td>\n",
       "      <td>2006</td>\n",
       "      <td>Platform</td>\n",
       "      <td>11.281250</td>\n",
       "      <td>9.140625</td>\n",
       "      <td>6.500000</td>\n",
       "      <td>2.880859</td>\n",
       "      <td>89.0</td>\n",
       "      <td>8.500000</td>\n",
       "      <td>E</td>\n",
       "      <td>29.796875</td>\n",
       "    </tr>\n",
       "    <tr>\n",
       "      <th>7</th>\n",
       "      <td>Wii Play</td>\n",
       "      <td>Wii</td>\n",
       "      <td>2006</td>\n",
       "      <td>Misc</td>\n",
       "      <td>13.960938</td>\n",
       "      <td>9.179688</td>\n",
       "      <td>2.929688</td>\n",
       "      <td>2.839844</td>\n",
       "      <td>58.0</td>\n",
       "      <td>6.601562</td>\n",
       "      <td>E</td>\n",
       "      <td>28.906250</td>\n",
       "    </tr>\n",
       "  </tbody>\n",
       "</table>\n",
       "</div>"
      ],
      "text/plain": [
       "                    name platform  year_of_release     genre   na_sales  \\\n",
       "0             Wii Sports      Wii             2006    Sports  41.375000   \n",
       "2         Mario Kart Wii      Wii             2008    Racing  15.679688   \n",
       "3      Wii Sports Resort      Wii             2009    Sports  15.609375   \n",
       "6  New Super Mario Bros.       DS             2006  Platform  11.281250   \n",
       "7               Wii Play      Wii             2006      Misc  13.960938   \n",
       "\n",
       "    eu_sales  jp_sales  other_sales  critic_score  user_score rating  \\\n",
       "0  28.953125  3.769531     8.453125          76.0    8.000000      E   \n",
       "2  12.757812  3.789062     3.289062          82.0    8.296875      E   \n",
       "3  10.929688  3.279297     2.949219          80.0    8.000000      E   \n",
       "6   9.140625  6.500000     2.880859          89.0    8.500000      E   \n",
       "7   9.179688  2.929688     2.839844          58.0    6.601562      E   \n",
       "\n",
       "   total_sales  \n",
       "0    82.500000  \n",
       "2    35.500000  \n",
       "3    32.750000  \n",
       "6    29.796875  \n",
       "7    28.906250  "
      ]
     },
     "execution_count": 28,
     "metadata": {},
     "output_type": "execute_result"
    }
   ],
   "source": [
    "df['total_sales'] = df['na_sales'] + df['eu_sales'] + df['jp_sales'] + df['other_sales']\n",
    "df.head()"
   ]
  },
  {
   "cell_type": "markdown",
   "metadata": {},
   "source": [
    "### 2.1 Распределение количества выпускаемых игр по годам"
   ]
  },
  {
   "cell_type": "code",
   "execution_count": 31,
   "metadata": {},
   "outputs": [
    {
     "data": {
      "image/png": "[encoded data removed]",
      "text/plain": [
       "<Figure size 432x288 with 1 Axes>"
      ]
     },
     "metadata": {
      "needs_background": "light"
     },
     "output_type": "display_data"
    }
   ],
   "source": [
    "df.hist(column='year_of_release');"
   ]
  },
  {
   "cell_type": "markdown",
   "metadata": {},
   "source": [
    "Из гистограммы видим, что распределение количества игр имеет левый хвост. Избавимся от хвоста, отсеяв все игры выпущенные до 1998 года"
   ]
  },
  {
   "cell_type": "code",
   "execution_count": 32,
   "metadata": {},
   "outputs": [
    {
     "data": {
      "image/png": "[encoded data removed]",
      "text/plain": [
       "<Figure size 432x288 with 1 Axes>"
      ]
     },
     "metadata": {
      "needs_background": "light"
     },
     "output_type": "display_data"
    }
   ],
   "source": [
    "df = df[df['year_of_release'] > 1998]\n",
    "df.hist(column='year_of_release', bins=df.year_of_release.nunique());"
   ]
  },
  {
   "cell_type": "markdown",
   "metadata": {},
   "source": [
    "### 2.2 Распределение суммы продаж по платформам в разрезе времени"
   ]
  },
  {
   "cell_type": "code",
   "execution_count": 33,
   "metadata": {},
   "outputs": [
    {
     "data": {
      "text/plain": [
       "platform\n",
       "PS2     981.500000\n",
       "X360    858.500000\n",
       "PS3     789.000000\n",
       "Wii     682.000000\n",
       "DS      434.250000\n",
       "PS4     243.000000\n",
       "XB      226.625000\n",
       "PSP     196.500000\n",
       "PC      180.000000\n",
       "GC      169.375000\n",
       "GBA     166.500000\n",
       "XOne    129.625000\n",
       "PS      125.937500\n",
       "3DS     124.125000\n",
       "WiiU     66.250000\n",
       "PSV      30.937500\n",
       "DC        4.546875\n",
       "Name: total_sales, dtype: float16"
      ]
     },
     "execution_count": 33,
     "metadata": {},
     "output_type": "execute_result"
    }
   ],
   "source": [
    "platforms_grouped = df.groupby('platform')['total_sales'].sum()\n",
    "platforms_grouped.sort_values(ascending=False)"
   ]
  },
  {
   "cell_type": "code",
   "execution_count": 34,
   "metadata": {},
   "outputs": [],
   "source": [
    "def plot_platform_sales_chart(df, figsize=(12,8)):\n",
    "    legend = []\n",
    "    years = df.year_of_release.unique()\n",
    "    platforms = df.platform.unique()\n",
    "    for platform in platforms:\n",
    "        legend.append(platform)\n",
    "        ax = df[df.platform == platform].groupby('year_of_release')['total_sales'].sum().plot(grid=True, figsize=figsize, xticks=years, lw=2)\n",
    "    ax.legend(legend)"
   ]
  },
  {
   "cell_type": "code",
   "execution_count": 35,
   "metadata": {},
   "outputs": [
    {
     "data": {
      "image/png": "[encoded data removed]",
      "text/plain": [
       "<Figure size 864x576 with 1 Axes>"
      ]
     },
     "metadata": {
      "needs_background": "light"
     },
     "output_type": "display_data"
    }
   ],
   "source": [
    "plot_platform_sales_chart(df)"
   ]
  },
  {
   "cell_type": "markdown",
   "metadata": {
    "jupyter": {
     "outputs_hidden": true
    }
   },
   "source": [
    "Проанализировав график продаж по платформам в разрезе времени, получаем следующие выводы:\n",
    "- Игровые платформы \"живут\" от 6 до 10 лет, однако есть и исключение - PC на протяжении долгого времени (с самого появления и по сей день) остаётся на плаву\n",
    "- Среди популярных в прошлом платформ выделяются PS2, PS, DS, GBA"
   ]
  },
  {
   "cell_type": "markdown",
   "metadata": {},
   "source": [
    "Посмотрим на распределение платформ в 2016 году по сумме продаж"
   ]
  },
  {
   "cell_type": "code",
   "execution_count": 37,
   "metadata": {},
   "outputs": [
    {
     "data": {
      "image/png": "[encoded data removed]",
      "text/plain": [
       "<Figure size 432x288 with 1 Axes>"
      ]
     },
     "metadata": {
      "needs_background": "light"
     },
     "output_type": "display_data"
    }
   ],
   "source": [
    "df_2016 = df[df.year_of_release == 2016]\n",
    "df_2016.groupby('platform')['total_sales'].sum().plot(kind=\"bar\");"
   ]
  },
  {
   "cell_type": "markdown",
   "metadata": {},
   "source": [
    "Чтобы уменьшить искажение распределения по платформам в данных, посмотрим на самые ранние годы, за которые у нас есть данные по нашим платформам:"
   ]
  },
  {
   "cell_type": "code",
   "execution_count": 40,
   "metadata": {},
   "outputs": [
    {
     "data": {
      "text/html": [
       "<div>\n",
       "<style scoped>\n",
       "    .dataframe tbody tr th:only-of-type {\n",
       "        vertical-align: middle;\n",
       "    }\n",
       "\n",
       "    .dataframe tbody tr th {\n",
       "        vertical-align: top;\n",
       "    }\n",
       "\n",
       "    .dataframe thead tr th {\n",
       "        text-align: left;\n",
       "    }\n",
       "\n",
       "    .dataframe thead tr:last-of-type th {\n",
       "        text-align: right;\n",
       "    }\n",
       "</style>\n",
       "<table border=\"1\" class=\"dataframe\">\n",
       "  <thead>\n",
       "    <tr>\n",
       "      <th></th>\n",
       "      <th>min</th>\n",
       "    </tr>\n",
       "    <tr>\n",
       "      <th></th>\n",
       "      <th>year_of_release</th>\n",
       "    </tr>\n",
       "    <tr>\n",
       "      <th>platform</th>\n",
       "      <th></th>\n",
       "    </tr>\n",
       "  </thead>\n",
       "  <tbody>\n",
       "    <tr>\n",
       "      <th>3DS</th>\n",
       "      <td>2011</td>\n",
       "    </tr>\n",
       "    <tr>\n",
       "      <th>PC</th>\n",
       "      <td>1999</td>\n",
       "    </tr>\n",
       "    <tr>\n",
       "      <th>PS4</th>\n",
       "      <td>2013</td>\n",
       "    </tr>\n",
       "    <tr>\n",
       "      <th>PSV</th>\n",
       "      <td>2011</td>\n",
       "    </tr>\n",
       "    <tr>\n",
       "      <th>WiiU</th>\n",
       "      <td>2012</td>\n",
       "    </tr>\n",
       "    <tr>\n",
       "      <th>XOne</th>\n",
       "      <td>2013</td>\n",
       "    </tr>\n",
       "  </tbody>\n",
       "</table>\n",
       "</div>"
      ],
      "text/plain": [
       "                     min\n",
       "         year_of_release\n",
       "platform                \n",
       "3DS                 2011\n",
       "PC                  1999\n",
       "PS4                 2013\n",
       "PSV                 2011\n",
       "WiiU                2012\n",
       "XOne                2013"
      ]
     },
     "execution_count": 40,
     "metadata": {},
     "output_type": "execute_result"
    }
   ],
   "source": [
    "df[df.platform.isin(df_2016.platform.unique())] \\\n",
    ".pivot_table(index=['platform'], aggfunc=['min'], values='year_of_release')"
   ]
  },
  {
   "cell_type": "markdown",
   "metadata": {
    "jupyter": {
     "outputs_hidden": true
    }
   },
   "source": [
    "Известно, что платформа PC уже давно актуальна, а вот остальные платформы появились в 2011 году и позднее. Далее будем использовать данные начиная с 2011 года."
   ]
  },
  {
   "cell_type": "code",
   "execution_count": 41,
   "metadata": {},
   "outputs": [],
   "source": [
    "df_since_2011 = df[df.year_of_release >= 2011]"
   ]
  },
  {
   "cell_type": "markdown",
   "metadata": {},
   "source": [
    "Посмотрим на данные еще раз, теперь только с 2011 года, а также исключим платформы, у которых уже есть продажи в 2016 году:"
   ]
  },
  {
   "cell_type": "code",
   "execution_count": 42,
   "metadata": {},
   "outputs": [
    {
     "data": {
      "image/png": "[encoded data removed]",
      "text/plain": [
       "<Figure size 576x288 with 1 Axes>"
      ]
     },
     "metadata": {
      "needs_background": "light"
     },
     "output_type": "display_data"
    }
   ],
   "source": [
    "dead_platforms_df = df_since_2011[~df_since_2011.platform.isin(df_2016.platform.unique())]\n",
    "plot_platform_sales_chart(dead_platforms_df, figsize=(8,4))"
   ]
  },
  {
   "cell_type": "code",
   "execution_count": 43,
   "metadata": {},
   "outputs": [
    {
     "data": {
      "image/png": "[encoded data removed]",
      "text/plain": [
       "<Figure size 576x288 with 1 Axes>"
      ]
     },
     "metadata": {
      "needs_background": "light"
     },
     "output_type": "display_data"
    }
   ],
   "source": [
    "alive_platforms_df = df_since_2011[df_since_2011.platform.isin(df_2016.platform.unique())]\n",
    "plot_platform_sales_chart(alive_platforms_df, figsize=(8,4))"
   ]
  },
  {
   "cell_type": "markdown",
   "metadata": {
    "jupyter": {
     "outputs_hidden": true
    }
   },
   "source": [
    "Из графиков получаем следующую информацию по платформам:\n",
    "- XOne, PS4 самые актуальные платформы, их продажи на 2016 год упали. Это произошло потому, что у нас неполные данные за 2016 год. В реальности, скорее всего, по состоянию на конец года продажи сильно выросли.\n",
    "- Продажи Wii, DS, PSP, X360, PS3 упали до 0 к 2015 году в связи выходом нового поколения консолей\n",
    "- к перпспективным платформам на ближайшие годы можно отнести PS4, XOne и PC. Первые две появились недавно и пришли на замену сверхпопулярным PS3 и X360, а PC всегда была актуальна ;)"
   ]
  },
  {
   "cell_type": "markdown",
   "metadata": {},
   "source": [
    "### 2.3 Диаграмма размаха продаж по актуальным платформам"
   ]
  },
  {
   "cell_type": "markdown",
   "metadata": {},
   "source": [
    "Построим диаграмму размаха (boxplot) для самый популярных платформ. Сразу огранимичим масштаб, дабы выбросы не мешали анализировать график:"
   ]
  },
  {
   "cell_type": "code",
   "execution_count": 45,
   "metadata": {},
   "outputs": [
    {
     "data": {
      "image/png": "[encoded data removed]",
      "text/plain": [
       "<Figure size 432x288 with 1 Axes>"
      ]
     },
     "metadata": {
      "needs_background": "light"
     },
     "output_type": "display_data"
    }
   ],
   "source": [
    "df_since_2011[df_since_2011.platform.isin(['XOne', 'PS4', 'PC'])].boxplot(by='platform', column='total_sales')\n",
    "plt.ylim(0, 3);"
   ]
  },
  {
   "cell_type": "markdown",
   "metadata": {},
   "source": [
    "Смотрим на график размаха и делаем выводы:\n",
    "- В среднем издатели получают больше прибыли от продаж игры на консолях, чем на PC (медиана продаж на консолях больше, а также сам \"ящик\" шире)\n",
    "- Большие выбросы в данных присутствуют на всех 3 платформах, это означает что на каждой платформе выходят ААА-проекты, продажи которых уходят далеко за границы продаж \"обычных\", средних релизов"
   ]
  },
  {
   "cell_type": "markdown",
   "metadata": {},
   "source": [
    "### 2.4 Влияние отзывов на продажи"
   ]
  },
  {
   "cell_type": "markdown",
   "metadata": {},
   "source": [
    "Исследуем влияние отзывов пользователей и критиков на продажи игр на платформе PS4. Построим scatter plot для признаков user_score и critic_score:"
   ]
  },
  {
   "cell_type": "code",
   "execution_count": 47,
   "metadata": {},
   "outputs": [
    {
     "data": {
      "image/png": "[encoded data removed]",
      "text/plain": [
       "<Figure size 1296x432 with 2 Axes>"
      ]
     },
     "metadata": {
      "needs_background": "light"
     },
     "output_type": "display_data"
    }
   ],
   "source": [
    "fig, axes = plt.subplots(1, 2, figsize=(18, 6))\n",
    "axes[0].scatter(x=df_since_2011[df_since_2011.platform == 'PS4']['total_sales'], y=df_since_2011[df_since_2011.platform == 'PS4']['critic_score'])\n",
    "axes[0].set_title(\"Суммарные продажи в зависимости от оценок критиков\")\n",
    "axes[0].set_xlabel(\"Суммарные продажи игр на PS4\")\n",
    "axes[0].set_ylabel(\"Оценка критиков\")\n",
    "axes[1].scatter(x=df_since_2011[df_since_2011.platform == 'PS4']['total_sales'], y=df_since_2011[df_since_2011.platform == 'PS4']['user_score'])\n",
    "axes[1].set_title(\"Суммарные продажи в зависимости от оценок пользователей\")\n",
    "axes[1].set_xlabel(\"Суммарные продажи игр на PS4\")\n",
    "axes[1].set_ylabel(\"Оценка пользователей\");"
   ]
  },
  {
   "cell_type": "markdown",
   "metadata": {},
   "source": [
    "Судя по графику, оценки суммарные продажи сильнее коррелируют с оценками критиков, нежели с оценками пользователей. Посмотрим на корреляции:"
   ]
  },
  {
   "cell_type": "code",
   "execution_count": 48,
   "metadata": {},
   "outputs": [
    {
     "data": {
      "text/html": [
       "<div>\n",
       "<style scoped>\n",
       "    .dataframe tbody tr th:only-of-type {\n",
       "        vertical-align: middle;\n",
       "    }\n",
       "\n",
       "    .dataframe tbody tr th {\n",
       "        vertical-align: top;\n",
       "    }\n",
       "\n",
       "    .dataframe thead th {\n",
       "        text-align: right;\n",
       "    }\n",
       "</style>\n",
       "<table border=\"1\" class=\"dataframe\">\n",
       "  <thead>\n",
       "    <tr style=\"text-align: right;\">\n",
       "      <th></th>\n",
       "      <th>total_sales</th>\n",
       "      <th>user_score</th>\n",
       "      <th>critic_score</th>\n",
       "    </tr>\n",
       "  </thead>\n",
       "  <tbody>\n",
       "    <tr>\n",
       "      <th>total_sales</th>\n",
       "      <td>1.000000</td>\n",
       "      <td>-0.031758</td>\n",
       "      <td>0.403896</td>\n",
       "    </tr>\n",
       "    <tr>\n",
       "      <th>user_score</th>\n",
       "      <td>-0.031758</td>\n",
       "      <td>1.000000</td>\n",
       "      <td>0.572478</td>\n",
       "    </tr>\n",
       "    <tr>\n",
       "      <th>critic_score</th>\n",
       "      <td>0.403896</td>\n",
       "      <td>0.572478</td>\n",
       "      <td>1.000000</td>\n",
       "    </tr>\n",
       "  </tbody>\n",
       "</table>\n",
       "</div>"
      ],
      "text/plain": [
       "              total_sales  user_score  critic_score\n",
       "total_sales      1.000000   -0.031758      0.403896\n",
       "user_score      -0.031758    1.000000      0.572478\n",
       "critic_score     0.403896    0.572478      1.000000"
      ]
     },
     "execution_count": 48,
     "metadata": {},
     "output_type": "execute_result"
    }
   ],
   "source": [
    "df_since_2011[df_since_2011.platform == 'PS4'][['total_sales', 'user_score', 'critic_score']].corr()"
   ]
  },
  {
   "cell_type": "markdown",
   "metadata": {},
   "source": [
    "Получаем следующие итоги:\n",
    "- Между оценками критиков и продажами игр есть заметная корреляция, а вот между оценками пользователей и суммарными продажами она практически нулевая. Это может быт связано с тем, что критики зачастую получают игру раньше релиза, и могут опубликовать свою оценку игры еще до ее релиза, тем самым предопределив будущие продажи игры"
   ]
  },
  {
   "cell_type": "markdown",
   "metadata": {},
   "source": [
    "### 2.5 Распределение игр по жанрам"
   ]
  },
  {
   "cell_type": "markdown",
   "metadata": {},
   "source": [
    "Сгруппируем игры по жанрам и посмотрим на гистограмму:"
   ]
  },
  {
   "cell_type": "code",
   "execution_count": 50,
   "metadata": {},
   "outputs": [
    {
     "data": {
      "image/png": "[encoded data removed]",
      "text/plain": [
       "<Figure size 432x288 with 1 Axes>"
      ]
     },
     "metadata": {
      "needs_background": "light"
     },
     "output_type": "display_data"
    }
   ],
   "source": [
    "df_since_2011.groupby('genre')['genre'].count().plot(kind='bar', ylabel=\"games count\");"
   ]
  },
  {
   "cell_type": "markdown",
   "metadata": {},
   "source": [
    "Больше всего игр имеют жанр Action, меньше всего - Puzzle. Посмотрим на распределение суммарных продаж по жанрам:"
   ]
  },
  {
   "cell_type": "code",
   "execution_count": 51,
   "metadata": {},
   "outputs": [
    {
     "data": {
      "image/png": "[encoded data removed]",
      "text/plain": [
       "<Figure size 432x288 with 1 Axes>"
      ]
     },
     "metadata": {
      "needs_background": "light"
     },
     "output_type": "display_data"
    }
   ],
   "source": [
    "df_since_2011.groupby('genre')['total_sales'].sum().plot(kind='bar', ylabel=\"total sales\");"
   ]
  },
  {
   "cell_type": "markdown",
   "metadata": {},
   "source": [
    "Из графиков видим следующую информацию:\n",
    "- Самые прибыльные жанры - Action и Shooter, неплохие продажи имеют игры жанра Sports\n",
    "- Хуже всего продаются игры жанра Puzzle, Strategy, Adventure"
   ]
  },
  {
   "cell_type": "markdown",
   "metadata": {},
   "source": [
    "# 3. Портреты пользователей разных регионов"
   ]
  },
  {
   "cell_type": "markdown",
   "metadata": {},
   "source": [
    "### 3.1 Популярность платформ по регионам"
   ]
  },
  {
   "cell_type": "code",
   "execution_count": 52,
   "metadata": {},
   "outputs": [],
   "source": [
    "def get_regional_stats(df, groupby_column):\n",
    "    fig, axes = plt.subplots(1, 3, figsize=(18, 6))\n",
    "    df.groupby(groupby_column)['jp_sales'].sum().sort_values(ascending=False)[:5].plot.bar(ax=axes[0], ylabel=\"jp sales\")\n",
    "    df.groupby(groupby_column)['na_sales'].sum().sort_values(ascending=False)[:5].plot.bar(ax=axes[1], ylabel=\"na sales\")\n",
    "    df.groupby(groupby_column)['eu_sales'].sum().sort_values(ascending=False)[:5].plot.bar(ax=axes[2], ylabel=\"eu sales\")"
   ]
  },
  {
   "cell_type": "markdown",
   "metadata": {},
   "source": [
    "Посмотрим на самые популярные платформы в разрезе регионов:"
   ]
  },
  {
   "cell_type": "code",
   "execution_count": 53,
   "metadata": {},
   "outputs": [
    {
     "data": {
      "image/png": "[encoded data removed]",
      "text/plain": [
       "<Figure size 1296x432 with 3 Axes>"
      ]
     },
     "metadata": {
      "needs_background": "light"
     },
     "output_type": "display_data"
    }
   ],
   "source": [
    "get_regional_stats(df_since_2011, 'platform');"
   ]
  },
  {
   "cell_type": "markdown",
   "metadata": {},
   "source": [
    "Относительно распределения по платформам в разных регионах можно сделать следующие выводы:\n",
    "- В США и Японии предпочитают консоли своего производства (X360 и PS3/PS4 соответственно)\n",
    "- В Японии популярны 3DS и WiiU, которой нет даже в пятерке самых самых популярных консолей в Европе. WiiГ вообще отсутствует в топе Европы и США\n",
    "- В Европе много игр продается на платформе PC, в США и Японии PC не попала в список самых популярных платформ\n"
   ]
  },
  {
   "cell_type": "markdown",
   "metadata": {},
   "source": [
    "### 3.2 Популярность жанров по регионам"
   ]
  },
  {
   "cell_type": "code",
   "execution_count": 54,
   "metadata": {},
   "outputs": [
    {
     "data": {
      "image/png": "[encoded data removed]",
      "text/plain": [
       "<Figure size 1296x432 with 3 Axes>"
      ]
     },
     "metadata": {
      "needs_background": "light"
     },
     "output_type": "display_data"
    }
   ],
   "source": [
    "get_regional_stats(df_since_2011, 'genre')"
   ]
  },
  {
   "cell_type": "markdown",
   "metadata": {},
   "source": [
    "Выводы:\n",
    "- В Японии больше чем в других регионах популярен жанр RPG (там его и придумали)\n",
    "- В Японии живут более хардкорные игроки, т.к. среди популярных жанров - платформеры\n",
    "- В США и Европе жанры распределены по популярности практически одинаково"
   ]
  },
  {
   "cell_type": "markdown",
   "metadata": {},
   "source": [
    "### 3.3 Влияние рейтинга ESRB на продажи"
   ]
  },
  {
   "cell_type": "code",
   "execution_count": 226,
   "metadata": {},
   "outputs": [
    {
     "data": {
      "image/png": "[encoded data removed]",
      "text/plain": [
       "<Figure size 1296x432 with 3 Axes>"
      ]
     },
     "metadata": {
      "needs_background": "light"
     },
     "output_type": "display_data"
    }
   ],
   "source": [
    "get_regional_stats(df_since_2011, 'rating')"
   ]
  },
  {
   "cell_type": "markdown",
   "metadata": {},
   "source": [
    "Из графика видно, что:\n",
    "- Япония отличается от остальных регионов: там лучше всего продаются игры с самым доступным рейтингом (рейтинг E значит Everyone, т.е. подходит всем)"
   ]
  },
  {
   "cell_type": "markdown",
   "metadata": {},
   "source": [
    "# 4. Исследование статистических показателей"
   ]
  },
  {
   "cell_type": "markdown",
   "metadata": {},
   "source": [
    "Сгруппируем данные по жанрам, посчитаем среднее значение, стандартное отклонение, дисперсию для оценок пользователей и критиков в каждом жанре. Получим сводную таблицу:"
   ]
  },
  {
   "cell_type": "code",
   "execution_count": 227,
   "metadata": {},
   "outputs": [
    {
     "data": {
      "text/html": [
       "<div>\n",
       "<style scoped>\n",
       "    .dataframe tbody tr th:only-of-type {\n",
       "        vertical-align: middle;\n",
       "    }\n",
       "\n",
       "    .dataframe tbody tr th {\n",
       "        vertical-align: top;\n",
       "    }\n",
       "\n",
       "    .dataframe thead tr th {\n",
       "        text-align: left;\n",
       "    }\n",
       "\n",
       "    .dataframe thead tr:last-of-type th {\n",
       "        text-align: right;\n",
       "    }\n",
       "</style>\n",
       "<table border=\"1\" class=\"dataframe\">\n",
       "  <thead>\n",
       "    <tr>\n",
       "      <th></th>\n",
       "      <th colspan=\"3\" halign=\"left\">critic_score</th>\n",
       "      <th colspan=\"3\" halign=\"left\">user_score</th>\n",
       "    </tr>\n",
       "    <tr>\n",
       "      <th></th>\n",
       "      <th>mean</th>\n",
       "      <th>std</th>\n",
       "      <th>var</th>\n",
       "      <th>mean</th>\n",
       "      <th>std</th>\n",
       "      <th>var</th>\n",
       "    </tr>\n",
       "    <tr>\n",
       "      <th>genre</th>\n",
       "      <th></th>\n",
       "      <th></th>\n",
       "      <th></th>\n",
       "      <th></th>\n",
       "      <th></th>\n",
       "      <th></th>\n",
       "    </tr>\n",
       "  </thead>\n",
       "  <tbody>\n",
       "    <tr>\n",
       "      <th>Action</th>\n",
       "      <td>69.93750</td>\n",
       "      <td>12.788852</td>\n",
       "      <td>163.500</td>\n",
       "      <td>6.781250</td>\n",
       "      <td>1.302948</td>\n",
       "      <td>1.697266</td>\n",
       "    </tr>\n",
       "    <tr>\n",
       "      <th>Adventure</th>\n",
       "      <td>72.06250</td>\n",
       "      <td>12.212427</td>\n",
       "      <td>149.125</td>\n",
       "      <td>7.460938</td>\n",
       "      <td>1.299408</td>\n",
       "      <td>1.688477</td>\n",
       "    </tr>\n",
       "    <tr>\n",
       "      <th>Fighting</th>\n",
       "      <td>70.68750</td>\n",
       "      <td>13.195414</td>\n",
       "      <td>174.125</td>\n",
       "      <td>6.894531</td>\n",
       "      <td>1.376586</td>\n",
       "      <td>1.894531</td>\n",
       "    </tr>\n",
       "    <tr>\n",
       "      <th>Misc</th>\n",
       "      <td>70.37500</td>\n",
       "      <td>10.861896</td>\n",
       "      <td>118.000</td>\n",
       "      <td>6.898438</td>\n",
       "      <td>1.209227</td>\n",
       "      <td>1.461914</td>\n",
       "    </tr>\n",
       "    <tr>\n",
       "      <th>Platform</th>\n",
       "      <td>74.93750</td>\n",
       "      <td>13.107252</td>\n",
       "      <td>171.750</td>\n",
       "      <td>7.164062</td>\n",
       "      <td>1.495379</td>\n",
       "      <td>2.236328</td>\n",
       "    </tr>\n",
       "    <tr>\n",
       "      <th>Puzzle</th>\n",
       "      <td>70.00000</td>\n",
       "      <td>10.204574</td>\n",
       "      <td>104.125</td>\n",
       "      <td>6.949219</td>\n",
       "      <td>1.217030</td>\n",
       "      <td>1.481445</td>\n",
       "    </tr>\n",
       "    <tr>\n",
       "      <th>Racing</th>\n",
       "      <td>71.12500</td>\n",
       "      <td>13.270494</td>\n",
       "      <td>176.125</td>\n",
       "      <td>6.308594</td>\n",
       "      <td>1.574912</td>\n",
       "      <td>2.480469</td>\n",
       "    </tr>\n",
       "    <tr>\n",
       "      <th>Role-Playing</th>\n",
       "      <td>73.56250</td>\n",
       "      <td>12.000683</td>\n",
       "      <td>144.000</td>\n",
       "      <td>7.238281</td>\n",
       "      <td>1.237182</td>\n",
       "      <td>1.530273</td>\n",
       "    </tr>\n",
       "    <tr>\n",
       "      <th>Shooter</th>\n",
       "      <td>73.18750</td>\n",
       "      <td>13.106873</td>\n",
       "      <td>171.750</td>\n",
       "      <td>6.437500</td>\n",
       "      <td>1.570659</td>\n",
       "      <td>2.466797</td>\n",
       "    </tr>\n",
       "    <tr>\n",
       "      <th>Simulation</th>\n",
       "      <td>63.71875</td>\n",
       "      <td>13.177805</td>\n",
       "      <td>173.625</td>\n",
       "      <td>6.210938</td>\n",
       "      <td>1.854573</td>\n",
       "      <td>3.439453</td>\n",
       "    </tr>\n",
       "    <tr>\n",
       "      <th>Sports</th>\n",
       "      <td>72.43750</td>\n",
       "      <td>15.048869</td>\n",
       "      <td>226.500</td>\n",
       "      <td>5.933594</td>\n",
       "      <td>1.395400</td>\n",
       "      <td>1.947266</td>\n",
       "    </tr>\n",
       "    <tr>\n",
       "      <th>Strategy</th>\n",
       "      <td>73.62500</td>\n",
       "      <td>13.220660</td>\n",
       "      <td>174.750</td>\n",
       "      <td>6.648438</td>\n",
       "      <td>1.703620</td>\n",
       "      <td>2.902344</td>\n",
       "    </tr>\n",
       "  </tbody>\n",
       "</table>\n",
       "</div>"
      ],
      "text/plain": [
       "             critic_score                     user_score                    \n",
       "                     mean        std      var       mean       std       var\n",
       "genre                                                                       \n",
       "Action           69.93750  12.788852  163.500   6.781250  1.302948  1.697266\n",
       "Adventure        72.06250  12.212427  149.125   7.460938  1.299408  1.688477\n",
       "Fighting         70.68750  13.195414  174.125   6.894531  1.376586  1.894531\n",
       "Misc             70.37500  10.861896  118.000   6.898438  1.209227  1.461914\n",
       "Platform         74.93750  13.107252  171.750   7.164062  1.495379  2.236328\n",
       "Puzzle           70.00000  10.204574  104.125   6.949219  1.217030  1.481445\n",
       "Racing           71.12500  13.270494  176.125   6.308594  1.574912  2.480469\n",
       "Role-Playing     73.56250  12.000683  144.000   7.238281  1.237182  1.530273\n",
       "Shooter          73.18750  13.106873  171.750   6.437500  1.570659  2.466797\n",
       "Simulation       63.71875  13.177805  173.625   6.210938  1.854573  3.439453\n",
       "Sports           72.43750  15.048869  226.500   5.933594  1.395400  1.947266\n",
       "Strategy         73.62500  13.220660  174.750   6.648438  1.703620  2.902344"
      ]
     },
     "execution_count": 227,
     "metadata": {},
     "output_type": "execute_result"
    }
   ],
   "source": [
    "genre_stats = df_since_2011.groupby('genre')[['critic_score', 'user_score']].agg([np.mean, np.std, np.var])\n",
    "genre_stats"
   ]
  },
  {
   "cell_type": "markdown",
   "metadata": {},
   "source": [
    "Для более наглядного отображения построим графики:"
   ]
  },
  {
   "cell_type": "code",
   "execution_count": 228,
   "metadata": {},
   "outputs": [],
   "source": [
    "def get_genre_stats(df, score_column):\n",
    "    fig, axes = plt.subplots(1, 3, figsize=(24, 4))\n",
    "    fig.suptitle('Распределение среднего значения, стандартного отклонения и дисперсии для %s в разрезе жанров' % score_column)\n",
    "    for i, stat in enumerate(df[score_column].columns):\n",
    "        df[score_column][stat].plot.bar(ax=axes[i], ylabel=stat)"
   ]
  },
  {
   "cell_type": "code",
   "execution_count": 229,
   "metadata": {},
   "outputs": [
    {
     "data": {
      "image/png": "[encoded data removed]",
      "text/plain": [
       "<Figure size 1728x288 with 3 Axes>"
      ]
     },
     "metadata": {
      "needs_background": "light"
     },
     "output_type": "display_data"
    }
   ],
   "source": [
    "get_genre_stats(genre_stats, 'critic_score')"
   ]
  },
  {
   "cell_type": "code",
   "execution_count": 94,
   "metadata": {},
   "outputs": [
    {
     "data": {
      "image/png": "[encoded data removed]",
      "text/plain": [
       "<Figure size 1728x288 with 3 Axes>"
      ]
     },
     "metadata": {
      "needs_background": "light"
     },
     "output_type": "display_data"
    }
   ],
   "source": [
    "get_genre_stats(genre_stats, 'user_score')"
   ]
  },
  {
   "cell_type": "markdown",
   "metadata": {},
   "source": [
    "Проанилизировав гистограммы делаем выводы:\n",
    "- Оценки пользователей и критиков по жанрам имеют распределение близкое к равномерному, в случае с оценками пользователей среднее значение равняется 7, оценки критиков в среднем стремятся к 70 из 100 баллов\n",
    "- Наивысшую среднюю оценку среди пользователей имеют игры в жане Adventure и RPG\n",
    "- Наивысшую среднюю оценку среди критиков имеют платформеры\n",
    "- Наибольший разброс оценок пользвателей (дисперсию и стандартное отклонение) имеют игры спортивного жанра\n",
    "- Наибольший разброс среди оценок критиков имеют игры в жане Simulation"
   ]
  },
  {
   "cell_type": "markdown",
   "metadata": {},
   "source": [
    "# 4. Проверка статистических гипотез"
   ]
  },
  {
   "cell_type": "markdown",
   "metadata": {},
   "source": [
    "### 4.1 Проверка гипотезы о равенстве средних пользовательских рейтингов Xbox One и PC"
   ]
  },
  {
   "cell_type": "markdown",
   "metadata": {},
   "source": [
    "Проверим гипотезу о том, что средние пользовательские рейтинги платформ Xbox One и PC одинаковые. Для начала получим нужные выборки"
   ]
  },
  {
   "cell_type": "code",
   "execution_count": 194,
   "metadata": {},
   "outputs": [
    {
     "name": "stdout",
     "output_type": "stream",
     "text": [
      "Количество оценок PC 259, количество оценок XOne 161\n"
     ]
    }
   ],
   "source": [
    "xone_user_ratings = df_since_2011[df_since_2011.platform == 'XOne']['user_score']\n",
    "pc_user_ratings = df_since_2011[df_since_2011.platform == 'PC']['user_score']\n",
    "pc_user_ratings.name = 'pc'\n",
    "xone_user_ratings.name = 'xone'\n",
    "print('Количество оценок PC %s, количество оценок XOne %s' % (pc_user_ratings.shape[0], xone_user_ratings.shape[0]))"
   ]
  },
  {
   "cell_type": "markdown",
   "metadata": {},
   "source": [
    "Перед нами задача проверить гипотезу о равенстве средних двух генеральных совокупностей. Посмотрим на диаграммы размаха и гистограммы:"
   ]
  },
  {
   "cell_type": "code",
   "execution_count": 195,
   "metadata": {},
   "outputs": [
    {
     "data": {
      "image/png": "[encoded data removed]",
      "text/plain": [
       "<Figure size 1152x288 with 3 Axes>"
      ]
     },
     "metadata": {
      "needs_background": "light"
     },
     "output_type": "display_data"
    }
   ],
   "source": [
    "fig, ax = plt.subplots(1, 3, figsize=(16, 4))\n",
    "ax[0].boxplot(pc_user_ratings.values)\n",
    "ax[0].set_title(\"PC\")\n",
    "ax[1].boxplot(xone_user_ratings.values)\n",
    "ax[1].set_title(\"Xone\")\n",
    "ax[2] = pc_user_ratings.hist(ax=ax[2], label=\"PC\")\n",
    "ax[2] = xone_user_ratings.hist(ax=ax[2], label=\"XOne\");\n",
    "ax[2].legend();"
   ]
  },
  {
   "cell_type": "markdown",
   "metadata": {},
   "source": [
    "Видим, что диаграммы размаха очень похожи, медианные значения пересекаются внутри интеквартильных размахов. Можно предположить, что пользовательские рейтинги не отличаются. Для того чтобы сделать это с помощью статистики, можно воспользоваться t-критерием Стьюдента"
   ]
  },
  {
   "cell_type": "markdown",
   "metadata": {},
   "source": [
    "t-критерий Стьюдента выбираем из предположения о том, что выборки взяты из нормальных распределений, дисперсия которых неизвестна. На гистограмме выше видим, что оба распределения немного скошены влево. Проверим нормальность распределений визуально с помощью probplot:"
   ]
  },
  {
   "cell_type": "code",
   "execution_count": 201,
   "metadata": {},
   "outputs": [
    {
     "data": {
      "image/png": "[encoded data removed]",
      "text/plain": [
       "<Figure size 864x576 with 2 Axes>"
      ]
     },
     "metadata": {
      "needs_background": "light"
     },
     "output_type": "display_data"
    }
   ],
   "source": [
    "plt.figure(figsize=(12,8))\n",
    "ax = plt.subplot(2,2,1)\n",
    "stats.probplot(pc_user_ratings, dist=\"norm\", plot=ax)\n",
    "ax.set_title(\"PC users ratings probplot\")\n",
    "ax = plt.subplot(2,2,2)\n",
    "stats.probplot(xone_user_ratings, dist=\"norm\", plot=ax)\n",
    "ax.set_title(\"XBox One users ratings probplot\")\n",
    "plt.show()"
   ]
  },
  {
   "cell_type": "markdown",
   "metadata": {},
   "source": [
    "На probplot для оценок PC заметны отклонения от нормальности. Однако мы имеем дело с достаточно большими выборками (259 и 161 элемент), что позволяет нам в некоторой степени пренебречь отклонениями от нормального распределения у выборок."
   ]
  },
  {
   "cell_type": "markdown",
   "metadata": {},
   "source": [
    "Воспользуемся t-критерием Стьюдента для двух независимых выборок с $\\alpha$ = 0.05. Соответствующие гипотезы:\n",
    "\n",
    "$H_0\\colon$ средние значения оценок пользователей для игр на ПК и Xbox One одинаковы\n",
    "\n",
    "$H_1\\colon$ средние значения оценок пользователей для игр на ПК и Xbox One не одинаковы."
   ]
  },
  {
   "cell_type": "code",
   "execution_count": 221,
   "metadata": {},
   "outputs": [
    {
     "data": {
      "text/plain": [
       "Ttest_indResult(statistic=-0.4306331326932344, pvalue=0.666975325672938)"
      ]
     },
     "execution_count": 221,
     "metadata": {},
     "output_type": "execute_result"
    }
   ],
   "source": [
    "stats.ttest_ind(pc_user_ratings.values, xone_user_ratings.values, equal_var = False)"
   ]
  },
  {
   "cell_type": "markdown",
   "metadata": {},
   "source": [
    "Получили p-value > 0.05, **нет оснований отвергать нулевую гипотезу**."
   ]
  },
  {
   "cell_type": "markdown",
   "metadata": {},
   "source": [
    "### 4.2 Проверка гипотезы о различии средних пользовательских оценок для жанров Action и Sports"
   ]
  },
  {
   "cell_type": "markdown",
   "metadata": {},
   "source": [
    "Аналогично предыдущему пункту, сначала получим нужные выборки"
   ]
  },
  {
   "cell_type": "code",
   "execution_count": 215,
   "metadata": {},
   "outputs": [
    {
     "name": "stdout",
     "output_type": "stream",
     "text": [
      "Количество оценок в жанре Action 565, количество оценок в жанре Sports 183\n"
     ]
    }
   ],
   "source": [
    "action_user_ratings = df_since_2011[df_since_2011.genre == 'Action']['user_score']\n",
    "sports_user_ratings = df_since_2011[df_since_2011.genre == 'Sports']['user_score']\n",
    "action_user_ratings.name = 'action'\n",
    "sports_user_ratings.name = 'sports'\n",
    "print('Количество оценок в жанре Action %s, количество оценок в жанре Sports %s' % (action_user_ratings.shape[0], sports_user_ratings.shape[0]))"
   ]
  },
  {
   "cell_type": "markdown",
   "metadata": {},
   "source": [
    "Посмотрим на диаграммы размаха и гистограммы:"
   ]
  },
  {
   "cell_type": "code",
   "execution_count": 216,
   "metadata": {},
   "outputs": [
    {
     "data": {
      "image/png": "[encoded data removed]",
      "text/plain": [
       "<Figure size 1152x288 with 3 Axes>"
      ]
     },
     "metadata": {
      "needs_background": "light"
     },
     "output_type": "display_data"
    }
   ],
   "source": [
    "fig, ax = plt.subplots(1, 3, figsize=(16, 4))\n",
    "ax[0].boxplot(action_user_ratings.values)\n",
    "ax[0].set_title(\"Action\")\n",
    "ax[1].boxplot(sports_user_ratings.values)\n",
    "ax[1].set_title(\"Sports\")\n",
    "ax[2] = action_user_ratings.hist(ax=ax[2], label=\"Action\")\n",
    "ax[2] = sports_user_ratings.hist(ax=ax[2], label=\"Sports\");\n",
    "ax[2].legend();"
   ]
  },
  {
   "cell_type": "markdown",
   "metadata": {},
   "source": [
    "Из диаграмм размаха видим, что медианные значения для оценок различны. Для Action это около 7, а для Sports - ближе к 6. Делаем предположение, что средние оценки действительно различны. Посмотрим на probplot для выборок:"
   ]
  },
  {
   "cell_type": "code",
   "execution_count": 217,
   "metadata": {},
   "outputs": [
    {
     "data": {
      "image/png": "[encoded data removed]",
      "text/plain": [
       "<Figure size 864x576 with 2 Axes>"
      ]
     },
     "metadata": {
      "needs_background": "light"
     },
     "output_type": "display_data"
    }
   ],
   "source": [
    "plt.figure(figsize=(12,8))\n",
    "ax = plt.subplot(2,2,1)\n",
    "stats.probplot(action_user_ratings, dist=\"norm\", plot=ax)\n",
    "ax.set_title(\"Actions ratings probplot\")\n",
    "ax = plt.subplot(2,2,2)\n",
    "stats.probplot(sports_user_ratings, dist=\"norm\", plot=ax)\n",
    "ax.set_title(\"Sports ratings probplot\")\n",
    "plt.show()"
   ]
  },
  {
   "cell_type": "markdown",
   "metadata": {},
   "source": [
    "Аналогично предыдущему пункту, воспользуемся t-критерием Стьюдента для двух независимых выборок. Исследуемые выборки имеют распределения, отличающиеся от нормальных, однако учитывая размер выборок можно считать эти отличия несущественным"
   ]
  },
  {
   "cell_type": "markdown",
   "metadata": {},
   "source": [
    "Сформулируем гипотезы, использовать критерий будем с уровнем значимости $\\alpha$ = 0.05\n",
    "\n",
    "$H_0\\colon$ средние значения оценок пользователей для игр в жанре Action и Sports одинаковы\n",
    "\n",
    "$H_1\\colon$ средние значения оценок пользователей для игр в жанре Action и Sports не одинаковы"
   ]
  },
  {
   "cell_type": "code",
   "execution_count": 222,
   "metadata": {},
   "outputs": [
    {
     "data": {
      "text/plain": [
       "Ttest_indResult(statistic=7.258067987767236, pvalue=3.5701647034612384e-12)"
      ]
     },
     "execution_count": 222,
     "metadata": {},
     "output_type": "execute_result"
    }
   ],
   "source": [
    "stats.ttest_ind(action_user_ratings.values, sports_user_ratings.values, equal_var = False)"
   ]
  },
  {
   "cell_type": "markdown",
   "metadata": {},
   "source": [
    "Получили практически нулевой уровень значимости, **отвергаем нулевую гипотезу** в пользу альтернативной. То есть **оценки пользователей в жанрах Actions и Sports значимо отличаются.**"
   ]
  },
  {
   "cell_type": "markdown",
   "metadata": {},
   "source": [
    "# 5. Общие выводы"
   ]
  },
  {
   "cell_type": "markdown",
   "metadata": {},
   "source": [
    "По результатам проведенного исследования делаем выводы:"
   ]
  },
  {
   "cell_type": "code",
   "execution_count": null,
   "metadata": {},
   "outputs": [],
   "source": [
    "- Игра достигнет наибольшего успеха если будет выпущена на 4 самых популярных платформах: PS4, XOne, PC, 3DS (для охвата рынка Японии)\n",
    "- Рейтинг игры должен быть E или T (одни из самых доступных рейтингов для людей любого возвраста)\n",
    "- Игра должна быть в жанре Action, Shooter либо RPG"
   ]
  }
 ],
 "metadata": {
  "kernelspec": {
   "display_name": "Python 3",
   "language": "python",
   "name": "python3"
  },
  "language_info": {
   "codemirror_mode": {
    "name": "ipython",
    "version": 3
   },
   "file_extension": ".py",
   "mimetype": "text/x-python",
   "name": "python",
   "nbconvert_exporter": "python",
   "pygments_lexer": "ipython3",
   "version": "3.8.6"
  }
 },
 "nbformat": 4,
 "nbformat_minor": 4
}
