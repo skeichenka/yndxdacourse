{
 "cells": [
  {
   "cell_type": "code",
   "execution_count": 1,
   "metadata": {
    "collapsed": true
   },
   "outputs": [],
   "source": [
    "import sys\n",
    "import pandas as pd\n",
    "import numpy as np\n",
    "import matplotlib.pyplot as plt\n",
    "\n",
    "%matplotlib inline "
   ]
  },
  {
   "cell_type": "code",
   "execution_count": 2,
   "metadata": {},
   "outputs": [
    {
     "name": "stdout",
     "output_type": "stream",
     "text": [
      "python 3.6.1 |Anaconda 4.4.0 (64-bit)| (default, May 11 2017, 13:25:24) [MSC v.1900 64 bit (AMD64)]\n",
      "pandas 1.0.5\n"
     ]
    }
   ],
   "source": [
    "print(\"python\", sys.version)\n",
    "print(\"pandas\", pd.__version__)"
   ]
  },
  {
   "cell_type": "markdown",
   "metadata": {},
   "source": [
    "python 3.8.6 (tags/v3.8.6:db45529, Sep 23 2020, 15:52:53) [MSC v.1927 64 bit (AMD64)]\n",
    "pandas 1.2.3"
   ]
  },
  {
   "cell_type": "markdown",
   "metadata": {},
   "source": [
    "# 1. Подготовка данных #"
   ]
  },
  {
   "cell_type": "code",
   "execution_count": 3,
   "metadata": {},
   "outputs": [
    {
     "data": {
      "text/html": [
       "<div>\n",
       "<style scoped>\n",
       "    .dataframe tbody tr th:only-of-type {\n",
       "        vertical-align: middle;\n",
       "    }\n",
       "\n",
       "    .dataframe tbody tr th {\n",
       "        vertical-align: top;\n",
       "    }\n",
       "\n",
       "    .dataframe thead th {\n",
       "        text-align: right;\n",
       "    }\n",
       "</style>\n",
       "<table border=\"1\" class=\"dataframe\">\n",
       "  <thead>\n",
       "    <tr style=\"text-align: right;\">\n",
       "      <th></th>\n",
       "      <th>Name</th>\n",
       "      <th>Platform</th>\n",
       "      <th>Year_of_Release</th>\n",
       "      <th>Genre</th>\n",
       "      <th>NA_sales</th>\n",
       "      <th>EU_sales</th>\n",
       "      <th>JP_sales</th>\n",
       "      <th>Other_sales</th>\n",
       "      <th>Critic_Score</th>\n",
       "      <th>User_Score</th>\n",
       "      <th>Rating</th>\n",
       "    </tr>\n",
       "  </thead>\n",
       "  <tbody>\n",
       "    <tr>\n",
       "      <th>0</th>\n",
       "      <td>Wii Sports</td>\n",
       "      <td>Wii</td>\n",
       "      <td>2006.0</td>\n",
       "      <td>Sports</td>\n",
       "      <td>41.36</td>\n",
       "      <td>28.96</td>\n",
       "      <td>3.77</td>\n",
       "      <td>8.45</td>\n",
       "      <td>76.0</td>\n",
       "      <td>8</td>\n",
       "      <td>E</td>\n",
       "    </tr>\n",
       "    <tr>\n",
       "      <th>1</th>\n",
       "      <td>Super Mario Bros.</td>\n",
       "      <td>NES</td>\n",
       "      <td>1985.0</td>\n",
       "      <td>Platform</td>\n",
       "      <td>29.08</td>\n",
       "      <td>3.58</td>\n",
       "      <td>6.81</td>\n",
       "      <td>0.77</td>\n",
       "      <td>NaN</td>\n",
       "      <td>NaN</td>\n",
       "      <td>NaN</td>\n",
       "    </tr>\n",
       "    <tr>\n",
       "      <th>2</th>\n",
       "      <td>Mario Kart Wii</td>\n",
       "      <td>Wii</td>\n",
       "      <td>2008.0</td>\n",
       "      <td>Racing</td>\n",
       "      <td>15.68</td>\n",
       "      <td>12.76</td>\n",
       "      <td>3.79</td>\n",
       "      <td>3.29</td>\n",
       "      <td>82.0</td>\n",
       "      <td>8.3</td>\n",
       "      <td>E</td>\n",
       "    </tr>\n",
       "    <tr>\n",
       "      <th>3</th>\n",
       "      <td>Wii Sports Resort</td>\n",
       "      <td>Wii</td>\n",
       "      <td>2009.0</td>\n",
       "      <td>Sports</td>\n",
       "      <td>15.61</td>\n",
       "      <td>10.93</td>\n",
       "      <td>3.28</td>\n",
       "      <td>2.95</td>\n",
       "      <td>80.0</td>\n",
       "      <td>8</td>\n",
       "      <td>E</td>\n",
       "    </tr>\n",
       "    <tr>\n",
       "      <th>4</th>\n",
       "      <td>Pokemon Red/Pokemon Blue</td>\n",
       "      <td>GB</td>\n",
       "      <td>1996.0</td>\n",
       "      <td>Role-Playing</td>\n",
       "      <td>11.27</td>\n",
       "      <td>8.89</td>\n",
       "      <td>10.22</td>\n",
       "      <td>1.00</td>\n",
       "      <td>NaN</td>\n",
       "      <td>NaN</td>\n",
       "      <td>NaN</td>\n",
       "    </tr>\n",
       "  </tbody>\n",
       "</table>\n",
       "</div>"
      ],
      "text/plain": [
       "                       Name Platform  Year_of_Release         Genre  NA_sales  \\\n",
       "0                Wii Sports      Wii           2006.0        Sports     41.36   \n",
       "1         Super Mario Bros.      NES           1985.0      Platform     29.08   \n",
       "2            Mario Kart Wii      Wii           2008.0        Racing     15.68   \n",
       "3         Wii Sports Resort      Wii           2009.0        Sports     15.61   \n",
       "4  Pokemon Red/Pokemon Blue       GB           1996.0  Role-Playing     11.27   \n",
       "\n",
       "   EU_sales  JP_sales  Other_sales  Critic_Score User_Score Rating  \n",
       "0     28.96      3.77         8.45          76.0          8      E  \n",
       "1      3.58      6.81         0.77           NaN        NaN    NaN  \n",
       "2     12.76      3.79         3.29          82.0        8.3      E  \n",
       "3     10.93      3.28         2.95          80.0          8      E  \n",
       "4      8.89     10.22         1.00           NaN        NaN    NaN  "
      ]
     },
     "execution_count": 3,
     "metadata": {},
     "output_type": "execute_result"
    }
   ],
   "source": [
    "df = pd.read_csv('games.csv')\n",
    "df.head()"
   ]
  },
  {
   "cell_type": "markdown",
   "metadata": {},
   "source": [
    "Сразу видим, что нужно переименовать столбцы: приведем все названия к нижнему регистру"
   ]
  },
  {
   "cell_type": "code",
   "execution_count": 4,
   "metadata": {},
   "outputs": [
    {
     "data": {
      "text/html": [
       "<div>\n",
       "<style scoped>\n",
       "    .dataframe tbody tr th:only-of-type {\n",
       "        vertical-align: middle;\n",
       "    }\n",
       "\n",
       "    .dataframe tbody tr th {\n",
       "        vertical-align: top;\n",
       "    }\n",
       "\n",
       "    .dataframe thead th {\n",
       "        text-align: right;\n",
       "    }\n",
       "</style>\n",
       "<table border=\"1\" class=\"dataframe\">\n",
       "  <thead>\n",
       "    <tr style=\"text-align: right;\">\n",
       "      <th></th>\n",
       "      <th>name</th>\n",
       "      <th>platform</th>\n",
       "      <th>year_of_release</th>\n",
       "      <th>genre</th>\n",
       "      <th>na_sales</th>\n",
       "      <th>eu_sales</th>\n",
       "      <th>jp_sales</th>\n",
       "      <th>other_sales</th>\n",
       "      <th>critic_score</th>\n",
       "      <th>user_score</th>\n",
       "      <th>rating</th>\n",
       "    </tr>\n",
       "  </thead>\n",
       "  <tbody>\n",
       "    <tr>\n",
       "      <th>0</th>\n",
       "      <td>Wii Sports</td>\n",
       "      <td>Wii</td>\n",
       "      <td>2006.0</td>\n",
       "      <td>Sports</td>\n",
       "      <td>41.36</td>\n",
       "      <td>28.96</td>\n",
       "      <td>3.77</td>\n",
       "      <td>8.45</td>\n",
       "      <td>76.0</td>\n",
       "      <td>8</td>\n",
       "      <td>E</td>\n",
       "    </tr>\n",
       "    <tr>\n",
       "      <th>1</th>\n",
       "      <td>Super Mario Bros.</td>\n",
       "      <td>NES</td>\n",
       "      <td>1985.0</td>\n",
       "      <td>Platform</td>\n",
       "      <td>29.08</td>\n",
       "      <td>3.58</td>\n",
       "      <td>6.81</td>\n",
       "      <td>0.77</td>\n",
       "      <td>NaN</td>\n",
       "      <td>NaN</td>\n",
       "      <td>NaN</td>\n",
       "    </tr>\n",
       "    <tr>\n",
       "      <th>2</th>\n",
       "      <td>Mario Kart Wii</td>\n",
       "      <td>Wii</td>\n",
       "      <td>2008.0</td>\n",
       "      <td>Racing</td>\n",
       "      <td>15.68</td>\n",
       "      <td>12.76</td>\n",
       "      <td>3.79</td>\n",
       "      <td>3.29</td>\n",
       "      <td>82.0</td>\n",
       "      <td>8.3</td>\n",
       "      <td>E</td>\n",
       "    </tr>\n",
       "    <tr>\n",
       "      <th>3</th>\n",
       "      <td>Wii Sports Resort</td>\n",
       "      <td>Wii</td>\n",
       "      <td>2009.0</td>\n",
       "      <td>Sports</td>\n",
       "      <td>15.61</td>\n",
       "      <td>10.93</td>\n",
       "      <td>3.28</td>\n",
       "      <td>2.95</td>\n",
       "      <td>80.0</td>\n",
       "      <td>8</td>\n",
       "      <td>E</td>\n",
       "    </tr>\n",
       "    <tr>\n",
       "      <th>4</th>\n",
       "      <td>Pokemon Red/Pokemon Blue</td>\n",
       "      <td>GB</td>\n",
       "      <td>1996.0</td>\n",
       "      <td>Role-Playing</td>\n",
       "      <td>11.27</td>\n",
       "      <td>8.89</td>\n",
       "      <td>10.22</td>\n",
       "      <td>1.00</td>\n",
       "      <td>NaN</td>\n",
       "      <td>NaN</td>\n",
       "      <td>NaN</td>\n",
       "    </tr>\n",
       "  </tbody>\n",
       "</table>\n",
       "</div>"
      ],
      "text/plain": [
       "                       name platform  year_of_release         genre  na_sales  \\\n",
       "0                Wii Sports      Wii           2006.0        Sports     41.36   \n",
       "1         Super Mario Bros.      NES           1985.0      Platform     29.08   \n",
       "2            Mario Kart Wii      Wii           2008.0        Racing     15.68   \n",
       "3         Wii Sports Resort      Wii           2009.0        Sports     15.61   \n",
       "4  Pokemon Red/Pokemon Blue       GB           1996.0  Role-Playing     11.27   \n",
       "\n",
       "   eu_sales  jp_sales  other_sales  critic_score user_score rating  \n",
       "0     28.96      3.77         8.45          76.0          8      E  \n",
       "1      3.58      6.81         0.77           NaN        NaN    NaN  \n",
       "2     12.76      3.79         3.29          82.0        8.3      E  \n",
       "3     10.93      3.28         2.95          80.0          8      E  \n",
       "4      8.89     10.22         1.00           NaN        NaN    NaN  "
      ]
     },
     "execution_count": 4,
     "metadata": {},
     "output_type": "execute_result"
    }
   ],
   "source": [
    "df.set_axis(axis = 'columns', labels=['name', 'platform', 'year_of_release', 'genre', 'na_sales', 'eu_sales', 'jp_sales', 'other_sales', 'critic_score', 'user_score', 'rating'], inplace=True)\n",
    "df.head()"
   ]
  },
  {
   "cell_type": "markdown",
   "metadata": {},
   "source": [
    "### 1.1 Преобразование типов"
   ]
  },
  {
   "cell_type": "markdown",
   "metadata": {},
   "source": [
    "Посмотрим на типы данных в столбцах:"
   ]
  },
  {
   "cell_type": "code",
   "execution_count": 5,
   "metadata": {},
   "outputs": [
    {
     "name": "stdout",
     "output_type": "stream",
     "text": [
      "<class 'pandas.core.frame.DataFrame'>\n",
      "RangeIndex: 16715 entries, 0 to 16714\n",
      "Data columns (total 11 columns):\n",
      " #   Column           Non-Null Count  Dtype  \n",
      "---  ------           --------------  -----  \n",
      " 0   name             16713 non-null  object \n",
      " 1   platform         16715 non-null  object \n",
      " 2   year_of_release  16446 non-null  float64\n",
      " 3   genre            16713 non-null  object \n",
      " 4   na_sales         16715 non-null  float64\n",
      " 5   eu_sales         16715 non-null  float64\n",
      " 6   jp_sales         16715 non-null  float64\n",
      " 7   other_sales      16715 non-null  float64\n",
      " 8   critic_score     8137 non-null   float64\n",
      " 9   user_score       10014 non-null  object \n",
      " 10  rating           9949 non-null   object \n",
      "dtypes: float64(6), object(5)\n",
      "memory usage: 5.6 MB\n"
     ]
    }
   ],
   "source": [
    "df.info(memory_usage='deep')"
   ]
  },
  {
   "cell_type": "markdown",
   "metadata": {},
   "source": [
    "Предположим, что набор значений в столбцах genre, rating сильно ограничен. Посмотрим на данные:"
   ]
  },
  {
   "cell_type": "code",
   "execution_count": 6,
   "metadata": {},
   "outputs": [
    {
     "data": {
      "text/plain": [
       "(array(['Sports', 'Platform', 'Racing', 'Role-Playing', 'Puzzle', 'Misc',\n",
       "        'Shooter', 'Simulation', 'Action', 'Fighting', 'Adventure',\n",
       "        'Strategy', nan], dtype=object),\n",
       " array(['E', nan, 'M', 'T', 'E10+', 'K-A', 'AO', 'EC', 'RP'], dtype=object))"
      ]
     },
     "execution_count": 6,
     "metadata": {},
     "output_type": "execute_result"
    }
   ],
   "source": [
    "df.genre.unique(), df.rating.unique()"
   ]
  },
  {
   "cell_type": "markdown",
   "metadata": {},
   "source": [
    "Да, значений в столбцах не очень много, можно заменить их типы на category. \n",
    "Проведем следующие преобразования типов столбцов:\n",
    "- **platform**: оставим как есть\n",
    "- **year_of_release**: float64 заменим тип на uint16. Для хранения года выпуска игры удобнее будет использовать целочисленный неотрицательный тип uint16 - он может хранить в себе значения в диапазоне от 0 до 65535. Помимо того, что обрабатывать год как целое число несколько удобнее, такой заменой уменьшаем и количество памяти, необходимое для хранения этого столбца - каждое значение типа float64 имеет размер 8 байт, когда как uint16 - 2 байта.\n",
    "- **genre**: object заменим на category\n",
    "- **rating**: object заменим на category\n",
    "- **user_score**: object заменим на float16. Зту замену необходимо произвести, так как в столбце хранится оценка пользователей, которая всегда будет иметь числовое значение."
   ]
  },
  {
   "cell_type": "code",
   "execution_count": 7,
   "metadata": {
    "collapsed": true
   },
   "outputs": [],
   "source": [
    "df['genre'] = df['genre'].astype('category')\n",
    "df['rating'] = df['rating'].astype('category')"
   ]
  },
  {
   "cell_type": "markdown",
   "metadata": {},
   "source": [
    "Прежде чем заменить тип столбца **year_of_release**, необходимо обработать пропуски в этом столбце. В выводе функции info() выше видим, что в столбце около 200 пропусков. Убедимся, что пропущенные значения не принадлежат какой-то одной из платформ или значению рейтинга ESRB:"
   ]
  },
  {
   "cell_type": "code",
   "execution_count": 8,
   "metadata": {
    "collapsed": true
   },
   "outputs": [],
   "source": [
    "def get_grouped_stats(df, group_column, column, func, first_rows=5, ):\n",
    "    matched_rows = df[func(df[column])].groupby(group_column)['name'].count()\n",
    "    matched_rows.name = 'matched_rows_count'    \n",
    "    rows_count = df.groupby(group_column)['name'].count()\n",
    "    rows_count.name = 'rows_count'\n",
    "    result = pd.concat([matched_rows, rows_count], axis=1, join='inner')\n",
    "    result['rate'] = result.matched_rows_count / result.rows_count\n",
    "    return result.sort_values(by='rate', ascending=False)[:first_rows]"
   ]
  },
  {
   "cell_type": "code",
   "execution_count": 9,
   "metadata": {},
   "outputs": [
    {
     "data": {
      "text/html": [
       "<div>\n",
       "<style scoped>\n",
       "    .dataframe tbody tr th:only-of-type {\n",
       "        vertical-align: middle;\n",
       "    }\n",
       "\n",
       "    .dataframe tbody tr th {\n",
       "        vertical-align: top;\n",
       "    }\n",
       "\n",
       "    .dataframe thead th {\n",
       "        text-align: right;\n",
       "    }\n",
       "</style>\n",
       "<table border=\"1\" class=\"dataframe\">\n",
       "  <thead>\n",
       "    <tr style=\"text-align: right;\">\n",
       "      <th></th>\n",
       "      <th>matched_rows_count</th>\n",
       "      <th>rows_count</th>\n",
       "      <th>rate</th>\n",
       "    </tr>\n",
       "    <tr>\n",
       "      <th>platform</th>\n",
       "      <th></th>\n",
       "      <th></th>\n",
       "      <th></th>\n",
       "    </tr>\n",
       "  </thead>\n",
       "  <tbody>\n",
       "    <tr>\n",
       "      <th>2600</th>\n",
       "      <td>17</td>\n",
       "      <td>133</td>\n",
       "      <td>0.127820</td>\n",
       "    </tr>\n",
       "    <tr>\n",
       "      <th>Wii</th>\n",
       "      <td>34</td>\n",
       "      <td>1320</td>\n",
       "      <td>0.025758</td>\n",
       "    </tr>\n",
       "    <tr>\n",
       "      <th>XB</th>\n",
       "      <td>21</td>\n",
       "      <td>824</td>\n",
       "      <td>0.025485</td>\n",
       "    </tr>\n",
       "    <tr>\n",
       "      <th>GC</th>\n",
       "      <td>14</td>\n",
       "      <td>556</td>\n",
       "      <td>0.025180</td>\n",
       "    </tr>\n",
       "    <tr>\n",
       "      <th>X360</th>\n",
       "      <td>30</td>\n",
       "      <td>1262</td>\n",
       "      <td>0.023772</td>\n",
       "    </tr>\n",
       "  </tbody>\n",
       "</table>\n",
       "</div>"
      ],
      "text/plain": [
       "          matched_rows_count  rows_count      rate\n",
       "platform                                          \n",
       "2600                      17         133  0.127820\n",
       "Wii                       34        1320  0.025758\n",
       "XB                        21         824  0.025485\n",
       "GC                        14         556  0.025180\n",
       "X360                      30        1262  0.023772"
      ]
     },
     "execution_count": 9,
     "metadata": {},
     "output_type": "execute_result"
    }
   ],
   "source": [
    "get_grouped_stats(df, 'platform', 'year_of_release', pd.isnull)"
   ]
  },
  {
   "cell_type": "code",
   "execution_count": 10,
   "metadata": {},
   "outputs": [
    {
     "data": {
      "text/html": [
       "<div>\n",
       "<style scoped>\n",
       "    .dataframe tbody tr th:only-of-type {\n",
       "        vertical-align: middle;\n",
       "    }\n",
       "\n",
       "    .dataframe tbody tr th {\n",
       "        vertical-align: top;\n",
       "    }\n",
       "\n",
       "    .dataframe thead th {\n",
       "        text-align: right;\n",
       "    }\n",
       "</style>\n",
       "<table border=\"1\" class=\"dataframe\">\n",
       "  <thead>\n",
       "    <tr style=\"text-align: right;\">\n",
       "      <th></th>\n",
       "      <th>matched_rows_count</th>\n",
       "      <th>rows_count</th>\n",
       "      <th>rate</th>\n",
       "    </tr>\n",
       "    <tr>\n",
       "      <th>rating</th>\n",
       "      <th></th>\n",
       "      <th></th>\n",
       "      <th></th>\n",
       "    </tr>\n",
       "  </thead>\n",
       "  <tbody>\n",
       "    <tr>\n",
       "      <th>RP</th>\n",
       "      <td>2</td>\n",
       "      <td>3</td>\n",
       "      <td>0.666667</td>\n",
       "    </tr>\n",
       "    <tr>\n",
       "      <th>E10+</th>\n",
       "      <td>27</td>\n",
       "      <td>1420</td>\n",
       "      <td>0.019014</td>\n",
       "    </tr>\n",
       "    <tr>\n",
       "      <th>T</th>\n",
       "      <td>56</td>\n",
       "      <td>2961</td>\n",
       "      <td>0.018913</td>\n",
       "    </tr>\n",
       "    <tr>\n",
       "      <th>E</th>\n",
       "      <td>69</td>\n",
       "      <td>3990</td>\n",
       "      <td>0.017293</td>\n",
       "    </tr>\n",
       "    <tr>\n",
       "      <th>M</th>\n",
       "      <td>27</td>\n",
       "      <td>1563</td>\n",
       "      <td>0.017274</td>\n",
       "    </tr>\n",
       "  </tbody>\n",
       "</table>\n",
       "</div>"
      ],
      "text/plain": [
       "        matched_rows_count  rows_count      rate\n",
       "rating                                          \n",
       "RP                       2           3  0.666667\n",
       "E10+                    27        1420  0.019014\n",
       "T                       56        2961  0.018913\n",
       "E                       69        3990  0.017293\n",
       "M                       27        1563  0.017274"
      ]
     },
     "execution_count": 10,
     "metadata": {},
     "output_type": "execute_result"
    }
   ],
   "source": [
    "get_grouped_stats(df, 'rating', 'year_of_release', pd.isnull)"
   ]
  },
  {
   "cell_type": "markdown",
   "metadata": {},
   "source": [
    "Если пропущенные в столбце year_of_release распределены практически равномерно по типам платформ, то в отношении столбца с рейтингом есть интересное замечание. Для 2 из 3 записей с рейтингом RP пропущено значение в столбце year_of_release.\n",
    "Путем поиска в Яндекс узнаем, что RP значит Rating Pending, т.е. рейтинг ожидается. Посмотрим, что это за игры:"
   ]
  },
  {
   "cell_type": "code",
   "execution_count": 11,
   "metadata": {},
   "outputs": [
    {
     "data": {
      "text/html": [
       "<div>\n",
       "<style scoped>\n",
       "    .dataframe tbody tr th:only-of-type {\n",
       "        vertical-align: middle;\n",
       "    }\n",
       "\n",
       "    .dataframe tbody tr th {\n",
       "        vertical-align: top;\n",
       "    }\n",
       "\n",
       "    .dataframe thead th {\n",
       "        text-align: right;\n",
       "    }\n",
       "</style>\n",
       "<table border=\"1\" class=\"dataframe\">\n",
       "  <thead>\n",
       "    <tr style=\"text-align: right;\">\n",
       "      <th></th>\n",
       "      <th>name</th>\n",
       "      <th>platform</th>\n",
       "      <th>year_of_release</th>\n",
       "      <th>genre</th>\n",
       "      <th>na_sales</th>\n",
       "      <th>eu_sales</th>\n",
       "      <th>jp_sales</th>\n",
       "      <th>other_sales</th>\n",
       "      <th>critic_score</th>\n",
       "      <th>user_score</th>\n",
       "      <th>rating</th>\n",
       "    </tr>\n",
       "  </thead>\n",
       "  <tbody>\n",
       "    <tr>\n",
       "      <th>13672</th>\n",
       "      <td>Clockwork Empires</td>\n",
       "      <td>PC</td>\n",
       "      <td>NaN</td>\n",
       "      <td>Strategy</td>\n",
       "      <td>0.0</td>\n",
       "      <td>0.04</td>\n",
       "      <td>0.0</td>\n",
       "      <td>0.00</td>\n",
       "      <td>58.0</td>\n",
       "      <td>3.8</td>\n",
       "      <td>RP</td>\n",
       "    </tr>\n",
       "    <tr>\n",
       "      <th>14270</th>\n",
       "      <td>Supreme Ruler: Cold War</td>\n",
       "      <td>PC</td>\n",
       "      <td>2011.0</td>\n",
       "      <td>Strategy</td>\n",
       "      <td>0.0</td>\n",
       "      <td>0.03</td>\n",
       "      <td>0.0</td>\n",
       "      <td>0.01</td>\n",
       "      <td>63.0</td>\n",
       "      <td>6.8</td>\n",
       "      <td>RP</td>\n",
       "    </tr>\n",
       "    <tr>\n",
       "      <th>16180</th>\n",
       "      <td>WRC: FIA World Rally Championship</td>\n",
       "      <td>PC</td>\n",
       "      <td>NaN</td>\n",
       "      <td>Racing</td>\n",
       "      <td>0.0</td>\n",
       "      <td>0.01</td>\n",
       "      <td>0.0</td>\n",
       "      <td>0.00</td>\n",
       "      <td>65.0</td>\n",
       "      <td>NaN</td>\n",
       "      <td>RP</td>\n",
       "    </tr>\n",
       "  </tbody>\n",
       "</table>\n",
       "</div>"
      ],
      "text/plain": [
       "                                    name platform  year_of_release     genre  \\\n",
       "13672                  Clockwork Empires       PC              NaN  Strategy   \n",
       "14270            Supreme Ruler: Cold War       PC           2011.0  Strategy   \n",
       "16180  WRC: FIA World Rally Championship       PC              NaN    Racing   \n",
       "\n",
       "       na_sales  eu_sales  jp_sales  other_sales  critic_score user_score  \\\n",
       "13672       0.0      0.04       0.0         0.00          58.0        3.8   \n",
       "14270       0.0      0.03       0.0         0.01          63.0        6.8   \n",
       "16180       0.0      0.01       0.0         0.00          65.0        NaN   \n",
       "\n",
       "      rating  \n",
       "13672     RP  \n",
       "14270     RP  \n",
       "16180     RP  "
      ]
     },
     "execution_count": 11,
     "metadata": {},
     "output_type": "execute_result"
    }
   ],
   "source": [
    "df[df.rating == 'RP']"
   ]
  },
  {
   "cell_type": "markdown",
   "metadata": {},
   "source": [
    "Так как таких строки всего 3, попробуем заполнить данные самостоятельно. Путем поиска на ресурсах [ESRB](https://www.esrb.org/) и [Metacritic](https://www.metacritic.com/) находим следующую информацию:\n",
    "- **Supreme Ruler: Cold War** [получила](https://www.esrb.org/ratings/31253/Supreme+Ruler+Cold+War/) на ESRB рейтинг E10+\n",
    "- **WRC: FIA World Rally Championship** [вышла в релиз](https://www.metacritic.com/game/pc/wrc-fia-world-rally-championship) на PC в 2010 году, однако по состоянию на 2021 так и не получила свой уровень рейтинга от ESRB. Можно просто удалить данную запись из таблицы.\n",
    "- **Clockwork Empires** [вышла в релиз](https://www.metacritic.com/game/pc/clockwork-empires) в 2016 году, но также до сих пор не получила свой рейтинг от ESRB. Также удаляем эту запись, тем самым полностью избавляясь от категории 'RP' в столбце rating"
   ]
  },
  {
   "cell_type": "code",
   "execution_count": 12,
   "metadata": {
    "collapsed": true
   },
   "outputs": [],
   "source": [
    "#удаляем ненужные записи\n",
    "df.drop(df.loc[(df['name']=='WRC: FIA World Rally Championship') & (df['platform']=='PC')].index, inplace=True)\n",
    "df.drop(df.loc[(df['name']=='Clockwork Empires') & (df['platform']=='PC')].index, inplace=True)\n",
    "\n",
    "#меняем рейтинг для Supreme Ruler: Cold War\n",
    "df.loc[df[df.name == 'Supreme Ruler: Cold War'].index, 'rating'] = 'E10+'\n",
    "\n",
    "#меняем тип столбца rating на category\n",
    "df.rating.cat.set_categories(df.rating.unique().categories, inplace=True)"
   ]
  },
  {
   "cell_type": "code",
   "execution_count": 13,
   "metadata": {},
   "outputs": [
    {
     "name": "stdout",
     "output_type": "stream",
     "text": [
      "<class 'pandas.core.frame.DataFrame'>\n",
      "Int64Index: 16713 entries, 0 to 16714\n",
      "Data columns (total 11 columns):\n",
      " #   Column           Non-Null Count  Dtype   \n",
      "---  ------           --------------  -----   \n",
      " 0   name             16711 non-null  object  \n",
      " 1   platform         16713 non-null  object  \n",
      " 2   year_of_release  16446 non-null  float64 \n",
      " 3   genre            16711 non-null  category\n",
      " 4   na_sales         16713 non-null  float64 \n",
      " 5   eu_sales         16713 non-null  float64 \n",
      " 6   jp_sales         16713 non-null  float64 \n",
      " 7   other_sales      16713 non-null  float64 \n",
      " 8   critic_score     8135 non-null   float64 \n",
      " 9   user_score       10013 non-null  object  \n",
      " 10  rating           9947 non-null   category\n",
      "dtypes: category(2), float64(6), object(3)\n",
      "memory usage: 4.6 MB\n"
     ]
    }
   ],
   "source": [
    "df.info(memory_usage='deep')"
   ]
  },
  {
   "cell_type": "markdown",
   "metadata": {},
   "source": [
    "Видим, что пропуски распределены по разным значениям категориальных переменных. Так как количество пропусков в целом небольшое по сравнению с размером датасета, просто удалим записи с пропущенными значениями в этом столбце. Удалим пропуски и поменяем тип столбца:"
   ]
  },
  {
   "cell_type": "code",
   "execution_count": 14,
   "metadata": {},
   "outputs": [
    {
     "name": "stdout",
     "output_type": "stream",
     "text": [
      "<class 'pandas.core.frame.DataFrame'>\n",
      "Int64Index: 16446 entries, 0 to 16714\n",
      "Data columns (total 11 columns):\n",
      " #   Column           Non-Null Count  Dtype   \n",
      "---  ------           --------------  -----   \n",
      " 0   name             16444 non-null  object  \n",
      " 1   platform         16446 non-null  object  \n",
      " 2   year_of_release  16446 non-null  uint16  \n",
      " 3   genre            16444 non-null  category\n",
      " 4   na_sales         16446 non-null  float64 \n",
      " 5   eu_sales         16446 non-null  float64 \n",
      " 6   jp_sales         16446 non-null  float64 \n",
      " 7   other_sales      16446 non-null  float64 \n",
      " 8   critic_score     7983 non-null   float64 \n",
      " 9   user_score       9839 non-null   object  \n",
      " 10  rating           9768 non-null   category\n",
      "dtypes: category(2), float64(5), object(3), uint16(1)\n",
      "memory usage: 3.8 MB\n"
     ]
    }
   ],
   "source": [
    "#удаляем пропуски в столбце year_of_release\n",
    "df.dropna(subset=['year_of_release'], inplace=True)\n",
    "#меняем тип столбца year_of_release на uint16\n",
    "df['year_of_release'] = df['year_of_release'].astype('uint16')\n",
    "df.info(memory_usage='deep')"
   ]
  },
  {
   "cell_type": "markdown",
   "metadata": {},
   "source": [
    "Помимо большого количества пропусков в столбцах **critic_score**, **user_score**, **rating** остались еще записи с 2 пропусками в столбцах **name** и **genre**. Взглянем на них:"
   ]
  },
  {
   "cell_type": "code",
   "execution_count": 15,
   "metadata": {},
   "outputs": [
    {
     "data": {
      "text/html": [
       "<div>\n",
       "<style scoped>\n",
       "    .dataframe tbody tr th:only-of-type {\n",
       "        vertical-align: middle;\n",
       "    }\n",
       "\n",
       "    .dataframe tbody tr th {\n",
       "        vertical-align: top;\n",
       "    }\n",
       "\n",
       "    .dataframe thead th {\n",
       "        text-align: right;\n",
       "    }\n",
       "</style>\n",
       "<table border=\"1\" class=\"dataframe\">\n",
       "  <thead>\n",
       "    <tr style=\"text-align: right;\">\n",
       "      <th></th>\n",
       "      <th>name</th>\n",
       "      <th>platform</th>\n",
       "      <th>year_of_release</th>\n",
       "      <th>genre</th>\n",
       "      <th>na_sales</th>\n",
       "      <th>eu_sales</th>\n",
       "      <th>jp_sales</th>\n",
       "      <th>other_sales</th>\n",
       "      <th>critic_score</th>\n",
       "      <th>user_score</th>\n",
       "      <th>rating</th>\n",
       "    </tr>\n",
       "  </thead>\n",
       "  <tbody>\n",
       "    <tr>\n",
       "      <th>659</th>\n",
       "      <td>NaN</td>\n",
       "      <td>GEN</td>\n",
       "      <td>1993</td>\n",
       "      <td>NaN</td>\n",
       "      <td>1.78</td>\n",
       "      <td>0.53</td>\n",
       "      <td>0.00</td>\n",
       "      <td>0.08</td>\n",
       "      <td>NaN</td>\n",
       "      <td>NaN</td>\n",
       "      <td>NaN</td>\n",
       "    </tr>\n",
       "    <tr>\n",
       "      <th>14244</th>\n",
       "      <td>NaN</td>\n",
       "      <td>GEN</td>\n",
       "      <td>1993</td>\n",
       "      <td>NaN</td>\n",
       "      <td>0.00</td>\n",
       "      <td>0.00</td>\n",
       "      <td>0.03</td>\n",
       "      <td>0.00</td>\n",
       "      <td>NaN</td>\n",
       "      <td>NaN</td>\n",
       "      <td>NaN</td>\n",
       "    </tr>\n",
       "  </tbody>\n",
       "</table>\n",
       "</div>"
      ],
      "text/plain": [
       "      name platform  year_of_release genre  na_sales  eu_sales  jp_sales  \\\n",
       "659    NaN      GEN             1993   NaN      1.78      0.53      0.00   \n",
       "14244  NaN      GEN             1993   NaN      0.00      0.00      0.03   \n",
       "\n",
       "       other_sales  critic_score user_score rating  \n",
       "659           0.08           NaN        NaN    NaN  \n",
       "14244         0.00           NaN        NaN    NaN  "
      ]
     },
     "execution_count": 15,
     "metadata": {},
     "output_type": "execute_result"
    }
   ],
   "source": [
    "df[df.genre.isnull()]"
   ]
  },
  {
   "cell_type": "markdown",
   "metadata": {},
   "source": [
    "Тоже смело можно удалять:"
   ]
  },
  {
   "cell_type": "code",
   "execution_count": 16,
   "metadata": {},
   "outputs": [
    {
     "name": "stdout",
     "output_type": "stream",
     "text": [
      "<class 'pandas.core.frame.DataFrame'>\n",
      "Int64Index: 16444 entries, 0 to 16714\n",
      "Data columns (total 11 columns):\n",
      " #   Column           Non-Null Count  Dtype   \n",
      "---  ------           --------------  -----   \n",
      " 0   name             16444 non-null  object  \n",
      " 1   platform         16444 non-null  object  \n",
      " 2   year_of_release  16444 non-null  uint16  \n",
      " 3   genre            16444 non-null  category\n",
      " 4   na_sales         16444 non-null  float64 \n",
      " 5   eu_sales         16444 non-null  float64 \n",
      " 6   jp_sales         16444 non-null  float64 \n",
      " 7   other_sales      16444 non-null  float64 \n",
      " 8   critic_score     7983 non-null   float64 \n",
      " 9   user_score       9839 non-null   object  \n",
      " 10  rating           9768 non-null   category\n",
      "dtypes: category(2), float64(5), object(3), uint16(1)\n",
      "memory usage: 3.8 MB\n"
     ]
    }
   ],
   "source": [
    "#удаляем все строки с пропусками в столбцах name и genre\n",
    "df.dropna(subset=['name', 'genre'], inplace=True)\n",
    "df.info(memory_usage='deep')"
   ]
  },
  {
   "cell_type": "markdown",
   "metadata": {},
   "source": [
    "Дальше необходимо поменять тип в столбце **user_score** на float64, посколько там хранятся оценки пользователей, что явно должно храниться в числовом виде. Однако известно, что в столбце содержатся значения нечислового типа, а именно 'tbd', что означает to be determined, т.е. будет определен в будущем. Посмотрим, сколько таких данных и как они распределены:"
   ]
  },
  {
   "cell_type": "code",
   "execution_count": 17,
   "metadata": {},
   "outputs": [
    {
     "data": {
      "text/plain": [
       "(2376, 11)"
      ]
     },
     "execution_count": 17,
     "metadata": {},
     "output_type": "execute_result"
    }
   ],
   "source": [
    "df[df['user_score'] == 'tbd'].shape"
   ]
  },
  {
   "cell_type": "code",
   "execution_count": 18,
   "metadata": {},
   "outputs": [
    {
     "data": {
      "text/html": [
       "<div>\n",
       "<style scoped>\n",
       "    .dataframe tbody tr th:only-of-type {\n",
       "        vertical-align: middle;\n",
       "    }\n",
       "\n",
       "    .dataframe tbody tr th {\n",
       "        vertical-align: top;\n",
       "    }\n",
       "\n",
       "    .dataframe thead th {\n",
       "        text-align: right;\n",
       "    }\n",
       "</style>\n",
       "<table border=\"1\" class=\"dataframe\">\n",
       "  <thead>\n",
       "    <tr style=\"text-align: right;\">\n",
       "      <th></th>\n",
       "      <th>matched_rows_count</th>\n",
       "      <th>rows_count</th>\n",
       "      <th>rate</th>\n",
       "    </tr>\n",
       "    <tr>\n",
       "      <th>year_of_release</th>\n",
       "      <th></th>\n",
       "      <th></th>\n",
       "      <th></th>\n",
       "    </tr>\n",
       "  </thead>\n",
       "  <tbody>\n",
       "    <tr>\n",
       "      <th>2009</th>\n",
       "      <td>405</td>\n",
       "      <td>1426</td>\n",
       "      <td>0.284011</td>\n",
       "    </tr>\n",
       "    <tr>\n",
       "      <th>2010</th>\n",
       "      <td>331</td>\n",
       "      <td>1255</td>\n",
       "      <td>0.263745</td>\n",
       "    </tr>\n",
       "    <tr>\n",
       "      <th>2002</th>\n",
       "      <td>192</td>\n",
       "      <td>829</td>\n",
       "      <td>0.231604</td>\n",
       "    </tr>\n",
       "    <tr>\n",
       "      <th>2008</th>\n",
       "      <td>326</td>\n",
       "      <td>1427</td>\n",
       "      <td>0.228451</td>\n",
       "    </tr>\n",
       "    <tr>\n",
       "      <th>2011</th>\n",
       "      <td>217</td>\n",
       "      <td>1136</td>\n",
       "      <td>0.191021</td>\n",
       "    </tr>\n",
       "    <tr>\n",
       "      <th>2001</th>\n",
       "      <td>82</td>\n",
       "      <td>482</td>\n",
       "      <td>0.170124</td>\n",
       "    </tr>\n",
       "    <tr>\n",
       "      <th>2007</th>\n",
       "      <td>192</td>\n",
       "      <td>1197</td>\n",
       "      <td>0.160401</td>\n",
       "    </tr>\n",
       "    <tr>\n",
       "      <th>2004</th>\n",
       "      <td>107</td>\n",
       "      <td>762</td>\n",
       "      <td>0.140420</td>\n",
       "    </tr>\n",
       "    <tr>\n",
       "      <th>2005</th>\n",
       "      <td>121</td>\n",
       "      <td>939</td>\n",
       "      <td>0.128860</td>\n",
       "    </tr>\n",
       "    <tr>\n",
       "      <th>2006</th>\n",
       "      <td>124</td>\n",
       "      <td>1006</td>\n",
       "      <td>0.123260</td>\n",
       "    </tr>\n",
       "  </tbody>\n",
       "</table>\n",
       "</div>"
      ],
      "text/plain": [
       "                 matched_rows_count  rows_count      rate\n",
       "year_of_release                                          \n",
       "2009                            405        1426  0.284011\n",
       "2010                            331        1255  0.263745\n",
       "2002                            192         829  0.231604\n",
       "2008                            326        1427  0.228451\n",
       "2011                            217        1136  0.191021\n",
       "2001                             82         482  0.170124\n",
       "2007                            192        1197  0.160401\n",
       "2004                            107         762  0.140420\n",
       "2005                            121         939  0.128860\n",
       "2006                            124        1006  0.123260"
      ]
     },
     "execution_count": 18,
     "metadata": {},
     "output_type": "execute_result"
    }
   ],
   "source": [
    "get_grouped_stats(df, 'year_of_release', 'user_score', lambda x: x =='tbd', 10)"
   ]
  },
  {
   "cell_type": "markdown",
   "metadata": {},
   "source": [
    "Видно, что таких значений достаточно много. Посмотрим на корреляцию признаков **user_score** и **critic_score**:"
   ]
  },
  {
   "cell_type": "code",
   "execution_count": 19,
   "metadata": {},
   "outputs": [
    {
     "data": {
      "text/plain": [
       "0.5796706281932216"
      ]
     },
     "execution_count": 19,
     "metadata": {},
     "output_type": "execute_result"
    }
   ],
   "source": [
    "df[~df['critic_score'].isnull()]['critic_score'] \\\n",
    ".corr \\\n",
    "(df[(df['user_score'] != 'tbd') & (~df['user_score'].isnull())]['user_score'].astype(float))"
   ]
  },
  {
   "cell_type": "markdown",
   "metadata": {},
   "source": [
    "Признаки имеют явную корреляцию: чем больше critic_score, тем больше user_score. **Заполним значения 'tbd' в user_score значениями critic_score / 10** и заново посчитаем корреляцию между признаками"
   ]
  },
  {
   "cell_type": "code",
   "execution_count": 20,
   "metadata": {
    "collapsed": true
   },
   "outputs": [],
   "source": [
    "df.loc[df[df['user_score'] == 'tbd'].index, 'user_score'] = df[df['user_score'] == 'tbd']['critic_score'] / 10"
   ]
  },
  {
   "cell_type": "code",
   "execution_count": 21,
   "metadata": {},
   "outputs": [
    {
     "data": {
      "text/plain": [
       "0.6392295231844175"
      ]
     },
     "execution_count": 21,
     "metadata": {},
     "output_type": "execute_result"
    }
   ],
   "source": [
    "df[~df['critic_score'].isnull()]['critic_score'] \\\n",
    ".corr \\\n",
    "(df[(df['user_score'] != 'tbd') & (~df['user_score'].isnull())]['user_score'].astype(float))"
   ]
  },
  {
   "cell_type": "markdown",
   "metadata": {},
   "source": [
    "Корреляция увеличилась не сильно, будем считать такое преобразование user_score приемлимым.\n",
    "Заменим, наконец, тип столбца user_score на float16:"
   ]
  },
  {
   "cell_type": "code",
   "execution_count": 22,
   "metadata": {},
   "outputs": [
    {
     "name": "stdout",
     "output_type": "stream",
     "text": [
      "<class 'pandas.core.frame.DataFrame'>\n",
      "Int64Index: 16444 entries, 0 to 16714\n",
      "Data columns (total 11 columns):\n",
      " #   Column           Non-Null Count  Dtype   \n",
      "---  ------           --------------  -----   \n",
      " 0   name             16444 non-null  object  \n",
      " 1   platform         16444 non-null  object  \n",
      " 2   year_of_release  16444 non-null  uint16  \n",
      " 3   genre            16444 non-null  category\n",
      " 4   na_sales         16444 non-null  float16 \n",
      " 5   eu_sales         16444 non-null  float16 \n",
      " 6   jp_sales         16444 non-null  float16 \n",
      " 7   other_sales      16444 non-null  float16 \n",
      " 8   critic_score     7983 non-null   float16 \n",
      " 9   user_score       8519 non-null   float16 \n",
      " 10  rating           9768 non-null   category\n",
      "dtypes: category(2), float16(6), object(2), uint16(1)\n",
      "memory usage: 1.3+ MB\n"
     ]
    }
   ],
   "source": [
    "df['user_score'] = df['user_score'].astype('float16')\n",
    "df['critic_score'] = df['critic_score'].astype('float16')\n",
    "df['other_sales'] = df['other_sales'].astype('float16')\n",
    "df['jp_sales'] = df['jp_sales'].astype('float16')\n",
    "df['eu_sales'] = df['eu_sales'].astype('float16')\n",
    "df['na_sales'] = df['na_sales'].astype('float16')\n",
    "df.info()"
   ]
  },
  {
   "cell_type": "markdown",
   "metadata": {},
   "source": [
    "### 1.2 Обработка пропусков"
   ]
  },
  {
   "cell_type": "markdown",
   "metadata": {},
   "source": [
    "Посмотрим теперь на пропуски в столбцах user_score и critic_score. Найдем количество строк, в которых пропущены значения в обоих столбцах:"
   ]
  },
  {
   "cell_type": "code",
   "execution_count": 23,
   "metadata": {},
   "outputs": [
    {
     "data": {
      "text/plain": [
       "(7892, 11)"
      ]
     },
     "execution_count": 23,
     "metadata": {},
     "output_type": "execute_result"
    }
   ],
   "source": [
    "df[(df.user_score.isnull()) & (df.critic_score.isnull())].shape"
   ]
  },
  {
   "cell_type": "markdown",
   "metadata": {},
   "source": [
    "Таких строк очень много! Можно было бы попробовать восстановить их, например, линейной регрессией, но про машинное обучение мы еще не слышали ;(, да и качество таких данных было бы очень сомнительным (заполнять оценки пользователей или критиков, неблагодарное занятие, на мой взгляд). Поэтому просто удалим безнадежные строки, благо достаточно данных для анализа у нас еще останется"
   ]
  },
  {
   "cell_type": "code",
   "execution_count": 24,
   "metadata": {},
   "outputs": [
    {
     "name": "stdout",
     "output_type": "stream",
     "text": [
      "<class 'pandas.core.frame.DataFrame'>\n",
      "Int64Index: 8552 entries, 0 to 16705\n",
      "Data columns (total 11 columns):\n",
      " #   Column           Non-Null Count  Dtype   \n",
      "---  ------           --------------  -----   \n",
      " 0   name             8552 non-null   object  \n",
      " 1   platform         8552 non-null   object  \n",
      " 2   year_of_release  8552 non-null   uint16  \n",
      " 3   genre            8552 non-null   category\n",
      " 4   na_sales         8552 non-null   float16 \n",
      " 5   eu_sales         8552 non-null   float16 \n",
      " 6   jp_sales         8552 non-null   float16 \n",
      " 7   other_sales      8552 non-null   float16 \n",
      " 8   critic_score     7983 non-null   float16 \n",
      " 9   user_score       8519 non-null   float16 \n",
      " 10  rating           8456 non-null   category\n",
      "dtypes: category(2), float16(6), object(2), uint16(1)\n",
      "memory usage: 334.8+ KB\n"
     ]
    }
   ],
   "source": [
    "df.drop(df.loc[(df.user_score.isnull()) & (df.critic_score.isnull())].index, inplace=True)\n",
    "df.info()"
   ]
  },
  {
   "cell_type": "markdown",
   "metadata": {},
   "source": [
    "Удалим еще ~70 строк с пустым critic_score"
   ]
  },
  {
   "cell_type": "code",
   "execution_count": 25,
   "metadata": {},
   "outputs": [
    {
     "name": "stdout",
     "output_type": "stream",
     "text": [
      "<class 'pandas.core.frame.DataFrame'>\n",
      "Int64Index: 7983 entries, 0 to 16705\n",
      "Data columns (total 11 columns):\n",
      " #   Column           Non-Null Count  Dtype   \n",
      "---  ------           --------------  -----   \n",
      " 0   name             7983 non-null   object  \n",
      " 1   platform         7983 non-null   object  \n",
      " 2   year_of_release  7983 non-null   uint16  \n",
      " 3   genre            7983 non-null   category\n",
      " 4   na_sales         7983 non-null   float16 \n",
      " 5   eu_sales         7983 non-null   float16 \n",
      " 6   jp_sales         7983 non-null   float16 \n",
      " 7   other_sales      7983 non-null   float16 \n",
      " 8   critic_score     7983 non-null   float16 \n",
      " 9   user_score       7950 non-null   float16 \n",
      " 10  rating           7902 non-null   category\n",
      "dtypes: category(2), float16(6), object(2), uint16(1)\n",
      "memory usage: 312.6+ KB\n"
     ]
    }
   ],
   "source": [
    "df.drop(df.loc[df.critic_score.isnull()].index, inplace=True)\n",
    "df.info()"
   ]
  },
  {
   "cell_type": "markdown",
   "metadata": {},
   "source": [
    "и ~80 строк с пустым rating"
   ]
  },
  {
   "cell_type": "code",
   "execution_count": 26,
   "metadata": {},
   "outputs": [
    {
     "name": "stdout",
     "output_type": "stream",
     "text": [
      "<class 'pandas.core.frame.DataFrame'>\n",
      "Int64Index: 7902 entries, 0 to 16702\n",
      "Data columns (total 11 columns):\n",
      " #   Column           Non-Null Count  Dtype   \n",
      "---  ------           --------------  -----   \n",
      " 0   name             7902 non-null   object  \n",
      " 1   platform         7902 non-null   object  \n",
      " 2   year_of_release  7902 non-null   uint16  \n",
      " 3   genre            7902 non-null   category\n",
      " 4   na_sales         7902 non-null   float16 \n",
      " 5   eu_sales         7902 non-null   float16 \n",
      " 6   jp_sales         7902 non-null   float16 \n",
      " 7   other_sales      7902 non-null   float16 \n",
      " 8   critic_score     7902 non-null   float16 \n",
      " 9   user_score       7878 non-null   float16 \n",
      " 10  rating           7902 non-null   category\n",
      "dtypes: category(2), float16(6), object(2), uint16(1)\n",
      "memory usage: 309.4+ KB\n"
     ]
    }
   ],
   "source": [
    "df.drop(df.loc[df.rating.isnull()].index, inplace=True)\n",
    "df.info()"
   ]
  },
  {
   "cell_type": "markdown",
   "metadata": {},
   "source": [
    "Оставшиеся пропуски в строке user_score заполним путем деления на 10 critic_score в соответствующих строках"
   ]
  },
  {
   "cell_type": "code",
   "execution_count": 27,
   "metadata": {},
   "outputs": [
    {
     "name": "stdout",
     "output_type": "stream",
     "text": [
      "<class 'pandas.core.frame.DataFrame'>\n",
      "Int64Index: 7902 entries, 0 to 16702\n",
      "Data columns (total 11 columns):\n",
      " #   Column           Non-Null Count  Dtype   \n",
      "---  ------           --------------  -----   \n",
      " 0   name             7902 non-null   object  \n",
      " 1   platform         7902 non-null   object  \n",
      " 2   year_of_release  7902 non-null   uint16  \n",
      " 3   genre            7902 non-null   category\n",
      " 4   na_sales         7902 non-null   float16 \n",
      " 5   eu_sales         7902 non-null   float16 \n",
      " 6   jp_sales         7902 non-null   float16 \n",
      " 7   other_sales      7902 non-null   float16 \n",
      " 8   critic_score     7902 non-null   float16 \n",
      " 9   user_score       7902 non-null   float16 \n",
      " 10  rating           7902 non-null   category\n",
      "dtypes: category(2), float16(6), object(2), uint16(1)\n",
      "memory usage: 1.5 MB\n"
     ]
    }
   ],
   "source": [
    "df.loc[df[df['user_score'].isnull()].index, 'user_score'] = df[df['user_score'].isnull()]['critic_score'] / 10\n",
    "df.info(memory_usage='deep')"
   ]
  },
  {
   "cell_type": "markdown",
   "metadata": {},
   "source": [
    "Получен датасет с правильными типами данных и с отсутствующими пропусками. Пришлось потерять много данных. Можно идти дальше"
   ]
  },
  {
   "cell_type": "markdown",
   "metadata": {},
   "source": [
    "# 2. Исследование данных"
   ]
  },
  {
   "cell_type": "markdown",
   "metadata": {},
   "source": [
    "Добавим столбец с суммарными продажами по всем регионам"
   ]
  },
  {
   "cell_type": "code",
   "execution_count": 28,
   "metadata": {},
   "outputs": [
    {
     "data": {
      "text/html": [
       "<div>\n",
       "<style scoped>\n",
       "    .dataframe tbody tr th:only-of-type {\n",
       "        vertical-align: middle;\n",
       "    }\n",
       "\n",
       "    .dataframe tbody tr th {\n",
       "        vertical-align: top;\n",
       "    }\n",
       "\n",
       "    .dataframe thead th {\n",
       "        text-align: right;\n",
       "    }\n",
       "</style>\n",
       "<table border=\"1\" class=\"dataframe\">\n",
       "  <thead>\n",
       "    <tr style=\"text-align: right;\">\n",
       "      <th></th>\n",
       "      <th>name</th>\n",
       "      <th>platform</th>\n",
       "      <th>year_of_release</th>\n",
       "      <th>genre</th>\n",
       "      <th>na_sales</th>\n",
       "      <th>eu_sales</th>\n",
       "      <th>jp_sales</th>\n",
       "      <th>other_sales</th>\n",
       "      <th>critic_score</th>\n",
       "      <th>user_score</th>\n",
       "      <th>rating</th>\n",
       "      <th>total_sales</th>\n",
       "    </tr>\n",
       "  </thead>\n",
       "  <tbody>\n",
       "    <tr>\n",
       "      <th>0</th>\n",
       "      <td>Wii Sports</td>\n",
       "      <td>Wii</td>\n",
       "      <td>2006</td>\n",
       "      <td>Sports</td>\n",
       "      <td>41.375000</td>\n",
       "      <td>28.953125</td>\n",
       "      <td>3.769531</td>\n",
       "      <td>8.453125</td>\n",
       "      <td>76.0</td>\n",
       "      <td>8.000000</td>\n",
       "      <td>E</td>\n",
       "      <td>82.500000</td>\n",
       "    </tr>\n",
       "    <tr>\n",
       "      <th>2</th>\n",
       "      <td>Mario Kart Wii</td>\n",
       "      <td>Wii</td>\n",
       "      <td>2008</td>\n",
       "      <td>Racing</td>\n",
       "      <td>15.679688</td>\n",
       "      <td>12.757812</td>\n",
       "      <td>3.789062</td>\n",
       "      <td>3.289062</td>\n",
       "      <td>82.0</td>\n",
       "      <td>8.296875</td>\n",
       "      <td>E</td>\n",
       "      <td>35.500000</td>\n",
       "    </tr>\n",
       "    <tr>\n",
       "      <th>3</th>\n",
       "      <td>Wii Sports Resort</td>\n",
       "      <td>Wii</td>\n",
       "      <td>2009</td>\n",
       "      <td>Sports</td>\n",
       "      <td>15.609375</td>\n",
       "      <td>10.929688</td>\n",
       "      <td>3.279297</td>\n",
       "      <td>2.949219</td>\n",
       "      <td>80.0</td>\n",
       "      <td>8.000000</td>\n",
       "      <td>E</td>\n",
       "      <td>32.750000</td>\n",
       "    </tr>\n",
       "    <tr>\n",
       "      <th>6</th>\n",
       "      <td>New Super Mario Bros.</td>\n",
       "      <td>DS</td>\n",
       "      <td>2006</td>\n",
       "      <td>Platform</td>\n",
       "      <td>11.281250</td>\n",
       "      <td>9.140625</td>\n",
       "      <td>6.500000</td>\n",
       "      <td>2.880859</td>\n",
       "      <td>89.0</td>\n",
       "      <td>8.500000</td>\n",
       "      <td>E</td>\n",
       "      <td>29.796875</td>\n",
       "    </tr>\n",
       "    <tr>\n",
       "      <th>7</th>\n",
       "      <td>Wii Play</td>\n",
       "      <td>Wii</td>\n",
       "      <td>2006</td>\n",
       "      <td>Misc</td>\n",
       "      <td>13.960938</td>\n",
       "      <td>9.179688</td>\n",
       "      <td>2.929688</td>\n",
       "      <td>2.839844</td>\n",
       "      <td>58.0</td>\n",
       "      <td>6.601562</td>\n",
       "      <td>E</td>\n",
       "      <td>28.906250</td>\n",
       "    </tr>\n",
       "  </tbody>\n",
       "</table>\n",
       "</div>"
      ],
      "text/plain": [
       "                    name platform  year_of_release     genre   na_sales  \\\n",
       "0             Wii Sports      Wii             2006    Sports  41.375000   \n",
       "2         Mario Kart Wii      Wii             2008    Racing  15.679688   \n",
       "3      Wii Sports Resort      Wii             2009    Sports  15.609375   \n",
       "6  New Super Mario Bros.       DS             2006  Platform  11.281250   \n",
       "7               Wii Play      Wii             2006      Misc  13.960938   \n",
       "\n",
       "    eu_sales  jp_sales  other_sales  critic_score  user_score rating  \\\n",
       "0  28.953125  3.769531     8.453125          76.0    8.000000      E   \n",
       "2  12.757812  3.789062     3.289062          82.0    8.296875      E   \n",
       "3  10.929688  3.279297     2.949219          80.0    8.000000      E   \n",
       "6   9.140625  6.500000     2.880859          89.0    8.500000      E   \n",
       "7   9.179688  2.929688     2.839844          58.0    6.601562      E   \n",
       "\n",
       "   total_sales  \n",
       "0    82.500000  \n",
       "2    35.500000  \n",
       "3    32.750000  \n",
       "6    29.796875  \n",
       "7    28.906250  "
      ]
     },
     "execution_count": 28,
     "metadata": {},
     "output_type": "execute_result"
    }
   ],
   "source": [
    "df['total_sales'] = df['na_sales'] + df['eu_sales'] + df['jp_sales'] + df['other_sales']\n",
    "df.head()"
   ]
  },
  {
   "cell_type": "markdown",
   "metadata": {},
   "source": [
    "### 3.1 Распределение количества выпускаемых игр по годам"
   ]
  },
  {
   "cell_type": "code",
   "execution_count": 29,
   "metadata": {},
   "outputs": [
    {
     "data": {
      "text/plain": [
       "array([[<matplotlib.axes._subplots.AxesSubplot object at 0x000001E9E668F7B8>]],\n",
       "      dtype=object)"
      ]
     },
     "execution_count": 29,
     "metadata": {},
     "output_type": "execute_result"
    },
    {
     "data": {
      "image/png": "[encoded data removed]",
      "text/plain": [
       "<matplotlib.figure.Figure at 0x1e9e642ce80>"
      ]
     },
     "metadata": {},
     "output_type": "display_data"
    }
   ],
   "source": [
    "df.hist(column='year_of_release')"
   ]
  },
  {
   "cell_type": "markdown",
   "metadata": {},
   "source": [
    "Из гистограммы видим, что распределение количества игр имеет левый хвост. Избавимся от хвоста, отсеяв все игры выпущенные до 1998 года"
   ]
  },
  {
   "cell_type": "code",
   "execution_count": 30,
   "metadata": {},
   "outputs": [
    {
     "data": {
      "text/plain": [
       "array([[<matplotlib.axes._subplots.AxesSubplot object at 0x000001E9E68BFC18>]],\n",
       "      dtype=object)"
      ]
     },
     "execution_count": 30,
     "metadata": {},
     "output_type": "execute_result"
    },
    {
     "data": {
      "image/png": "[encoded data removed]",
      "text/plain": [
       "<matplotlib.figure.Figure at 0x1e9834146a0>"
      ]
     },
     "metadata": {},
     "output_type": "display_data"
    }
   ],
   "source": [
    "df = df[df['year_of_release'] > 1998]\n",
    "df.hist(column='year_of_release', bins=df.year_of_release.nunique())"
   ]
  },
  {
   "cell_type": "code",
   "execution_count": 31,
   "metadata": {},
   "outputs": [
    {
     "data": {
      "text/plain": [
       "platform\n",
       "PS2     981.500000\n",
       "X360    858.500000\n",
       "PS3     789.000000\n",
       "Wii     682.000000\n",
       "DS      434.250000\n",
       "PS4     243.000000\n",
       "XB      226.625000\n",
       "PSP     196.500000\n",
       "PC      180.000000\n",
       "GC      169.375000\n",
       "GBA     166.500000\n",
       "XOne    129.625000\n",
       "PS      125.937500\n",
       "3DS     124.125000\n",
       "WiiU     66.250000\n",
       "PSV      30.937500\n",
       "DC        4.546875\n",
       "Name: total_sales, dtype: float16"
      ]
     },
     "execution_count": 31,
     "metadata": {},
     "output_type": "execute_result"
    }
   ],
   "source": [
    "platforms_grouped = df.groupby('platform')['total_sales'].sum()\n",
    "platforms_grouped.sort_values(ascending=False)"
   ]
  },
  {
   "cell_type": "code",
   "execution_count": 206,
   "metadata": {},
   "outputs": [],
   "source": [
    "def plot_platform_sales_chart(df, figsize=(12,8)):\n",
    "    legend = []\n",
    "    years = df.year_of_release.unique()\n",
    "    platforms = df.platform.unique()\n",
    "    for platform in platforms:\n",
    "        legend.append(platform)\n",
    "        ax = df[df.platform == platform].groupby('year_of_release')['total_sales'].sum().plot(grid=True, figsize=figsize, xticks=years, lw=2)\n",
    "    ax.legend(legend)"
   ]
  },
  {
   "cell_type": "code",
   "execution_count": 207,
   "metadata": {},
   "outputs": [
    {
     "data": {
      "image/png": "[encoded data removed]",
      "text/plain": [
       "<matplotlib.figure.Figure at 0x1e9ea1a1668>"
      ]
     },
     "metadata": {},
     "output_type": "display_data"
    }
   ],
   "source": [
    "plot_platform_sales_chart(df)"
   ]
  },
  {
   "cell_type": "markdown",
   "metadata": {
    "jupyter": {
     "outputs_hidden": true
    }
   },
   "source": [
    "Проанализировав график продаж по платформам в разрезе времени, получаем следующие выводы:\n",
    "- Игровые платформы \"живут\" от 6 до 10 лет, однако есть и исключение - PC на протяжении долгого времени (с самого появления и по сей день) остаётся на плаву\n",
    "- Среди популярных в прошлом платформ выделяются PS2, PS, DS, GBA"
   ]
  },
  {
   "cell_type": "markdown",
   "metadata": {},
   "source": [
    "Посмотрим на распределение платформ в 2016 году по сумме продаж"
   ]
  },
  {
   "cell_type": "code",
   "execution_count": 109,
   "metadata": {},
   "outputs": [
    {
     "data": {
      "text/plain": [
       "<matplotlib.axes._subplots.AxesSubplot at 0x1e9ea600da0>"
      ]
     },
     "execution_count": 109,
     "metadata": {},
     "output_type": "execute_result"
    },
    {
     "data": {
      "image/png": "[encoded data removed]",
      "text/plain": [
       "<matplotlib.figure.Figure at 0x1e9ea63f6d8>"
      ]
     },
     "metadata": {},
     "output_type": "display_data"
    }
   ],
   "source": [
    "df_2016 = df[df.year_of_release == 2016]\n",
    "df_2016.groupby('platform')['total_sales'].sum().plot(kind=\"bar\")"
   ]
  },
  {
   "cell_type": "markdown",
   "metadata": {},
   "source": [
    "Чтобы уменьшить искажение распределения по платформам в данных, посмотрим на самые ранние годы, за которые у нас есть данные по нашим платформам:"
   ]
  },
  {
   "cell_type": "code",
   "execution_count": 208,
   "metadata": {
    "jupyter": {
     "outputs_hidden": true
    }
   },
   "outputs": [
    {
     "data": {
      "text/html": [
       "<div>\n",
       "<style scoped>\n",
       "    .dataframe tbody tr th:only-of-type {\n",
       "        vertical-align: middle;\n",
       "    }\n",
       "\n",
       "    .dataframe tbody tr th {\n",
       "        vertical-align: top;\n",
       "    }\n",
       "\n",
       "    .dataframe thead tr th {\n",
       "        text-align: left;\n",
       "    }\n",
       "\n",
       "    .dataframe thead tr:last-of-type th {\n",
       "        text-align: right;\n",
       "    }\n",
       "</style>\n",
       "<table border=\"1\" class=\"dataframe\">\n",
       "  <thead>\n",
       "    <tr>\n",
       "      <th></th>\n",
       "      <th>min</th>\n",
       "    </tr>\n",
       "    <tr>\n",
       "      <th></th>\n",
       "      <th>year_of_release</th>\n",
       "    </tr>\n",
       "    <tr>\n",
       "      <th>platform</th>\n",
       "      <th></th>\n",
       "    </tr>\n",
       "  </thead>\n",
       "  <tbody>\n",
       "    <tr>\n",
       "      <th>3DS</th>\n",
       "      <td>2011</td>\n",
       "    </tr>\n",
       "    <tr>\n",
       "      <th>PC</th>\n",
       "      <td>1999</td>\n",
       "    </tr>\n",
       "    <tr>\n",
       "      <th>PS4</th>\n",
       "      <td>2013</td>\n",
       "    </tr>\n",
       "    <tr>\n",
       "      <th>PSV</th>\n",
       "      <td>2011</td>\n",
       "    </tr>\n",
       "    <tr>\n",
       "      <th>WiiU</th>\n",
       "      <td>2012</td>\n",
       "    </tr>\n",
       "    <tr>\n",
       "      <th>XOne</th>\n",
       "      <td>2013</td>\n",
       "    </tr>\n",
       "  </tbody>\n",
       "</table>\n",
       "</div>"
      ],
      "text/plain": [
       "                     min\n",
       "         year_of_release\n",
       "platform                \n",
       "3DS                 2011\n",
       "PC                  1999\n",
       "PS4                 2013\n",
       "PSV                 2011\n",
       "WiiU                2012\n",
       "XOne                2013"
      ]
     },
     "execution_count": 208,
     "metadata": {},
     "output_type": "execute_result"
    }
   ],
   "source": [
    "df[df.platform.isin(df_2016.platform.unique())] \\\n",
    ".pivot_table(index=['platform'], aggfunc=['min'], values='year_of_release')"
   ]
  },
  {
   "cell_type": "markdown",
   "metadata": {
    "collapsed": true,
    "jupyter": {
     "outputs_hidden": true
    }
   },
   "source": [
    "Известно, что платформа PC уже давно актуальна, а вот остальные платформы появились в 2011 году и позднее. Далее будем использовать данные начиная с 2011 года."
   ]
  },
  {
   "cell_type": "code",
   "execution_count": 209,
   "metadata": {
    "collapsed": true
   },
   "outputs": [],
   "source": [
    "df_since_2011 = df[df.year_of_release >= 2011]"
   ]
  },
  {
   "cell_type": "markdown",
   "metadata": {},
   "source": [
    "Посмотрим на данные еще раз, теперь только с 2011 года, а также исключим платформы, у которых уже есть продажи в 2016 году:"
   ]
  },
  {
   "cell_type": "code",
   "execution_count": 210,
   "metadata": {},
   "outputs": [
    {
     "data": {
      "image/png": "[encoded data removed]",
      "text/plain": [
       "<matplotlib.figure.Figure at 0x1e9ea4919e8>"
      ]
     },
     "metadata": {},
     "output_type": "display_data"
    }
   ],
   "source": [
    "dead_platforms_df = df_since_2011[~df_since_2011.platform.isin(df_2016.platform.unique())]\n",
    "plot_platform_sales_chart(dead_platforms_df, figsize=(8,4))"
   ]
  },
  {
   "cell_type": "code",
   "execution_count": 211,
   "metadata": {},
   "outputs": [
    {
     "data": {
      "image/png": "[encoded data removed]",
      "text/plain": [
       "<matplotlib.figure.Figure at 0x1e9ea15c390>"
      ]
     },
     "metadata": {},
     "output_type": "display_data"
    }
   ],
   "source": [
    "alive_platforms_df = df_since_2011[df_since_2011.platform.isin(df_2016.platform.unique())]\n",
    "plot_platform_sales_chart(alive_platforms_df, figsize=(8,4))"
   ]
  },
  {
   "cell_type": "markdown",
   "metadata": {
    "collapsed": true,
    "jupyter": {
     "outputs_hidden": true
    }
   },
   "source": [
    "Из графиков получаем следующую информацию по платформам:\n",
    "- XOne, PS4 самые актуальные платформы, их продажи на 2016 год упали. Это произошло потому, что у нас неполные данные за 2016 год. В реальности, скорее всего, по состоянию на конец года продажи сильно выросли.\n",
    "- Продажи Wii, DS, PSP, X360, PS3 упали до 0 к 2015 году в связи выходом нового поколения консолей\n",
    "- к перпспективным платформам на ближайшие годы можно отнести PS4, XOne и PC. Первые две появились недавно и пришли на замену сверхпопулярным PS3 и X360, а PC всегда была актуальна ;)"
   ]
  },
  {
   "cell_type": "code",
   "execution_count": 218,
   "metadata": {},
   "outputs": [
    {
     "data": {
      "text/plain": [
       "<matplotlib.axes._subplots.AxesSubplot at 0x1e9ec9dbc50>"
      ]
     },
     "execution_count": 218,
     "metadata": {},
     "output_type": "execute_result"
    },
    {
     "data": {
      "image/png": "[encoded data removed]",
      "text/plain": [
       "<matplotlib.figure.Figure at 0x1e9eda8e6d8>"
      ]
     },
     "metadata": {},
     "output_type": "display_data"
    }
   ],
   "source": [
    "df_since_2011[df_since_2011.platform.isin(['XOne', 'PS4', 'PC'])].boxplot(by='platform', column='total_sales')"
   ]
  },
  {
   "cell_type": "code",
   "execution_count": null,
   "metadata": {
    "collapsed": true
   },
   "outputs": [],
   "source": []
  }
 ],
 "metadata": {
  "kernelspec": {
   "display_name": "Python 3",
   "language": "python",
   "name": "python3"
  },
  "language_info": {
   "codemirror_mode": {
    "name": "ipython",
    "version": 3
   },
   "file_extension": ".py",
   "mimetype": "text/x-python",
   "name": "python",
   "nbconvert_exporter": "python",
   "pygments_lexer": "ipython3",
   "version": "3.6.1"
  }
 },
 "nbformat": 4,
 "nbformat_minor": 4
}
