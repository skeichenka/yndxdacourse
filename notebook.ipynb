{
 "cells": [
  {
   "cell_type": "code",
   "execution_count": 75,
   "metadata": {},
   "outputs": [],
   "source": [
    "import sys\n",
    "import pandas as pd\n",
    "import numpy as np\n",
    "import matplotlib.pyplot as plt\n",
    "import scipy\n",
    "from scipy import stats as st\n",
    "from statsmodels.stats.weightstats import *\n",
    "np.warnings.filterwarnings('ignore', category=np.VisibleDeprecationWarning)\n",
    "\n",
    "%matplotlib inline "
   ]
  },
  {
   "cell_type": "code",
   "execution_count": 76,
   "metadata": {},
   "outputs": [
    {
     "name": "stdout",
     "output_type": "stream",
     "text": [
      "python 3.8.5 (default, Sep  3 2020, 21:29:08) [MSC v.1916 64 bit (AMD64)]\n",
      "pandas 1.1.3\n",
      "numpy 1.19.2\n",
      "scipy 1.5.2\n"
     ]
    }
   ],
   "source": [
    "print(\"python\", sys.version)\n",
    "print(\"pandas\", pd.__version__)\n",
    "print(\"numpy\", np.__version__)\n",
    "print(\"scipy\", scipy.__version__)"
   ]
  },
  {
   "cell_type": "markdown",
   "metadata": {},
   "source": [
    "# Анализ исторических продаж игр для планирования рекламных кампаний будущих релизов"
   ]
  },
  {
   "cell_type": "markdown",
   "metadata": {},
   "source": [
    "**План работы**\n",
    "\n",
    "[Введение](#intro)\n",
    "1. [Подготовка данных](#precondition)  \n",
    "    1.1 [Преобразование типов](#type_format)  \n",
    "    1.2 [Обработка пропусков](#fillna)  \n",
    "2. [Исследование данных](#data_exploring)  \n",
    "    2.1 [Распределение количества выпускаемых игр по годам](#games_by_year)  \n",
    "    2.2 [Распределение суммы продаж по платформам в разрезе времени ](#sales_by_year)  \n",
    "    2.3 [Диаграмма размаха продаж по актуальным платформам](#boxplots)  \n",
    "    2.4 [Влияние отзывов на продажи](#reviews_effecting)  \n",
    "    2.5 [Распределение игр по жанрам](#game_genres)\n",
    "3. [Портреты пользователей разных регионов](#user_portraits)  \n",
    "    3.1 [Популярность платформ по регионам](#platforms_popularity)  \n",
    "    3.2 [Популярность жанров по регионам](#genres_popularity)  \n",
    "    3.3 [Влияние рейтинга ESRB на продажи](#esrb)  \n",
    "4. [Исследование статистических показателей](#statistics)  \n",
    "    4.1 [Проверка гипотезы о равенстве средних пользовательских рейтингов Xbox One и PC](#xonevspc)  \n",
    "    4.2 [Проверка гипотезы о различии средних пользовательских оценок для жанров Action и Sports](#actionvssports) \n",
    "    \n",
    "[Общие выводы](#final_text)    "
   ]
  },
  {
   "cell_type": "markdown",
   "metadata": {},
   "source": [
    "# Введение <a id='intro'></a>"
   ]
  },
  {
   "cell_type": "markdown",
   "metadata": {},
   "source": [
    "В данном исследовании нам предстоит проанализировать исторические данные о продажах игр на разных платформах. \n",
    "В нашем распоряжении датасет на ~16000 строк со следующими признаками\n",
    "- **Name** — название игры\n",
    "- **Platform** — платформа\n",
    "- **Year_of_Release** — год выпуска\n",
    "- **Genre** — жанр игры\n",
    "- **NA_sales** — продажи в Северной Америке (миллионы долларов)\n",
    "- **EU_sales** — продажи в Европе (миллионы долларов)\n",
    "- **JP_sales** — продажи в Японии (миллионы долларов)\n",
    "- **Other_sales** — продажи в других странах (миллионы долларов)\n",
    "- **Critic_Score** — оценка критиков (от 0 до 100)\n",
    "- **User_Score** — оценка пользователей (от 0 до 10)\n",
    "- **Rating** — рейтинг от организации ESRB (англ. Entertainment Software Rating Board). Эта ассоциация определяет рейтинг компьютерных игр и присваивает им подходящую возрастную категорию.\n",
    "\n",
    "**Целью исследования** является нахождение закономерностей в данных, влияющих на успешность (объем продаж) игры."
   ]
  },
  {
   "cell_type": "markdown",
   "metadata": {},
   "source": [
    "## 1. Подготовка данных <a id='precondition'></a>"
   ]
  },
  {
   "cell_type": "code",
   "execution_count": 79,
   "metadata": {},
   "outputs": [
    {
     "data": {
      "text/html": [
       "<div>\n",
       "<style scoped>\n",
       "    .dataframe tbody tr th:only-of-type {\n",
       "        vertical-align: middle;\n",
       "    }\n",
       "\n",
       "    .dataframe tbody tr th {\n",
       "        vertical-align: top;\n",
       "    }\n",
       "\n",
       "    .dataframe thead th {\n",
       "        text-align: right;\n",
       "    }\n",
       "</style>\n",
       "<table border=\"1\" class=\"dataframe\">\n",
       "  <thead>\n",
       "    <tr style=\"text-align: right;\">\n",
       "      <th></th>\n",
       "      <th>Name</th>\n",
       "      <th>Platform</th>\n",
       "      <th>Year_of_Release</th>\n",
       "      <th>Genre</th>\n",
       "      <th>NA_sales</th>\n",
       "      <th>EU_sales</th>\n",
       "      <th>JP_sales</th>\n",
       "      <th>Other_sales</th>\n",
       "      <th>Critic_Score</th>\n",
       "      <th>User_Score</th>\n",
       "      <th>Rating</th>\n",
       "    </tr>\n",
       "  </thead>\n",
       "  <tbody>\n",
       "    <tr>\n",
       "      <th>0</th>\n",
       "      <td>Wii Sports</td>\n",
       "      <td>Wii</td>\n",
       "      <td>2006.0</td>\n",
       "      <td>Sports</td>\n",
       "      <td>41.36</td>\n",
       "      <td>28.96</td>\n",
       "      <td>3.77</td>\n",
       "      <td>8.45</td>\n",
       "      <td>76.0</td>\n",
       "      <td>8</td>\n",
       "      <td>E</td>\n",
       "    </tr>\n",
       "    <tr>\n",
       "      <th>1</th>\n",
       "      <td>Super Mario Bros.</td>\n",
       "      <td>NES</td>\n",
       "      <td>1985.0</td>\n",
       "      <td>Platform</td>\n",
       "      <td>29.08</td>\n",
       "      <td>3.58</td>\n",
       "      <td>6.81</td>\n",
       "      <td>0.77</td>\n",
       "      <td>NaN</td>\n",
       "      <td>NaN</td>\n",
       "      <td>NaN</td>\n",
       "    </tr>\n",
       "    <tr>\n",
       "      <th>2</th>\n",
       "      <td>Mario Kart Wii</td>\n",
       "      <td>Wii</td>\n",
       "      <td>2008.0</td>\n",
       "      <td>Racing</td>\n",
       "      <td>15.68</td>\n",
       "      <td>12.76</td>\n",
       "      <td>3.79</td>\n",
       "      <td>3.29</td>\n",
       "      <td>82.0</td>\n",
       "      <td>8.3</td>\n",
       "      <td>E</td>\n",
       "    </tr>\n",
       "    <tr>\n",
       "      <th>3</th>\n",
       "      <td>Wii Sports Resort</td>\n",
       "      <td>Wii</td>\n",
       "      <td>2009.0</td>\n",
       "      <td>Sports</td>\n",
       "      <td>15.61</td>\n",
       "      <td>10.93</td>\n",
       "      <td>3.28</td>\n",
       "      <td>2.95</td>\n",
       "      <td>80.0</td>\n",
       "      <td>8</td>\n",
       "      <td>E</td>\n",
       "    </tr>\n",
       "    <tr>\n",
       "      <th>4</th>\n",
       "      <td>Pokemon Red/Pokemon Blue</td>\n",
       "      <td>GB</td>\n",
       "      <td>1996.0</td>\n",
       "      <td>Role-Playing</td>\n",
       "      <td>11.27</td>\n",
       "      <td>8.89</td>\n",
       "      <td>10.22</td>\n",
       "      <td>1.00</td>\n",
       "      <td>NaN</td>\n",
       "      <td>NaN</td>\n",
       "      <td>NaN</td>\n",
       "    </tr>\n",
       "  </tbody>\n",
       "</table>\n",
       "</div>"
      ],
      "text/plain": [
       "                       Name Platform  Year_of_Release         Genre  NA_sales  \\\n",
       "0                Wii Sports      Wii           2006.0        Sports     41.36   \n",
       "1         Super Mario Bros.      NES           1985.0      Platform     29.08   \n",
       "2            Mario Kart Wii      Wii           2008.0        Racing     15.68   \n",
       "3         Wii Sports Resort      Wii           2009.0        Sports     15.61   \n",
       "4  Pokemon Red/Pokemon Blue       GB           1996.0  Role-Playing     11.27   \n",
       "\n",
       "   EU_sales  JP_sales  Other_sales  Critic_Score User_Score Rating  \n",
       "0     28.96      3.77         8.45          76.0          8      E  \n",
       "1      3.58      6.81         0.77           NaN        NaN    NaN  \n",
       "2     12.76      3.79         3.29          82.0        8.3      E  \n",
       "3     10.93      3.28         2.95          80.0          8      E  \n",
       "4      8.89     10.22         1.00           NaN        NaN    NaN  "
      ]
     },
     "execution_count": 79,
     "metadata": {},
     "output_type": "execute_result"
    }
   ],
   "source": [
    "df = pd.read_csv('games.csv')\n",
    "df.head()"
   ]
  },
  {
   "cell_type": "markdown",
   "metadata": {},
   "source": [
    "Сразу видим, что нужно переименовать столбцы: приведем все названия к нижнему регистру"
   ]
  },
  {
   "cell_type": "code",
   "execution_count": 80,
   "metadata": {},
   "outputs": [
    {
     "data": {
      "text/html": [
       "<div>\n",
       "<style scoped>\n",
       "    .dataframe tbody tr th:only-of-type {\n",
       "        vertical-align: middle;\n",
       "    }\n",
       "\n",
       "    .dataframe tbody tr th {\n",
       "        vertical-align: top;\n",
       "    }\n",
       "\n",
       "    .dataframe thead th {\n",
       "        text-align: right;\n",
       "    }\n",
       "</style>\n",
       "<table border=\"1\" class=\"dataframe\">\n",
       "  <thead>\n",
       "    <tr style=\"text-align: right;\">\n",
       "      <th></th>\n",
       "      <th>name</th>\n",
       "      <th>platform</th>\n",
       "      <th>year_of_release</th>\n",
       "      <th>genre</th>\n",
       "      <th>na_sales</th>\n",
       "      <th>eu_sales</th>\n",
       "      <th>jp_sales</th>\n",
       "      <th>other_sales</th>\n",
       "      <th>critic_score</th>\n",
       "      <th>user_score</th>\n",
       "      <th>rating</th>\n",
       "    </tr>\n",
       "  </thead>\n",
       "  <tbody>\n",
       "    <tr>\n",
       "      <th>0</th>\n",
       "      <td>Wii Sports</td>\n",
       "      <td>Wii</td>\n",
       "      <td>2006.0</td>\n",
       "      <td>Sports</td>\n",
       "      <td>41.36</td>\n",
       "      <td>28.96</td>\n",
       "      <td>3.77</td>\n",
       "      <td>8.45</td>\n",
       "      <td>76.0</td>\n",
       "      <td>8</td>\n",
       "      <td>E</td>\n",
       "    </tr>\n",
       "    <tr>\n",
       "      <th>1</th>\n",
       "      <td>Super Mario Bros.</td>\n",
       "      <td>NES</td>\n",
       "      <td>1985.0</td>\n",
       "      <td>Platform</td>\n",
       "      <td>29.08</td>\n",
       "      <td>3.58</td>\n",
       "      <td>6.81</td>\n",
       "      <td>0.77</td>\n",
       "      <td>NaN</td>\n",
       "      <td>NaN</td>\n",
       "      <td>NaN</td>\n",
       "    </tr>\n",
       "    <tr>\n",
       "      <th>2</th>\n",
       "      <td>Mario Kart Wii</td>\n",
       "      <td>Wii</td>\n",
       "      <td>2008.0</td>\n",
       "      <td>Racing</td>\n",
       "      <td>15.68</td>\n",
       "      <td>12.76</td>\n",
       "      <td>3.79</td>\n",
       "      <td>3.29</td>\n",
       "      <td>82.0</td>\n",
       "      <td>8.3</td>\n",
       "      <td>E</td>\n",
       "    </tr>\n",
       "    <tr>\n",
       "      <th>3</th>\n",
       "      <td>Wii Sports Resort</td>\n",
       "      <td>Wii</td>\n",
       "      <td>2009.0</td>\n",
       "      <td>Sports</td>\n",
       "      <td>15.61</td>\n",
       "      <td>10.93</td>\n",
       "      <td>3.28</td>\n",
       "      <td>2.95</td>\n",
       "      <td>80.0</td>\n",
       "      <td>8</td>\n",
       "      <td>E</td>\n",
       "    </tr>\n",
       "    <tr>\n",
       "      <th>4</th>\n",
       "      <td>Pokemon Red/Pokemon Blue</td>\n",
       "      <td>GB</td>\n",
       "      <td>1996.0</td>\n",
       "      <td>Role-Playing</td>\n",
       "      <td>11.27</td>\n",
       "      <td>8.89</td>\n",
       "      <td>10.22</td>\n",
       "      <td>1.00</td>\n",
       "      <td>NaN</td>\n",
       "      <td>NaN</td>\n",
       "      <td>NaN</td>\n",
       "    </tr>\n",
       "    <tr>\n",
       "      <th>...</th>\n",
       "      <td>...</td>\n",
       "      <td>...</td>\n",
       "      <td>...</td>\n",
       "      <td>...</td>\n",
       "      <td>...</td>\n",
       "      <td>...</td>\n",
       "      <td>...</td>\n",
       "      <td>...</td>\n",
       "      <td>...</td>\n",
       "      <td>...</td>\n",
       "      <td>...</td>\n",
       "    </tr>\n",
       "    <tr>\n",
       "      <th>16710</th>\n",
       "      <td>Samurai Warriors: Sanada Maru</td>\n",
       "      <td>PS3</td>\n",
       "      <td>2016.0</td>\n",
       "      <td>Action</td>\n",
       "      <td>0.00</td>\n",
       "      <td>0.00</td>\n",
       "      <td>0.01</td>\n",
       "      <td>0.00</td>\n",
       "      <td>NaN</td>\n",
       "      <td>NaN</td>\n",
       "      <td>NaN</td>\n",
       "    </tr>\n",
       "    <tr>\n",
       "      <th>16711</th>\n",
       "      <td>LMA Manager 2007</td>\n",
       "      <td>X360</td>\n",
       "      <td>2006.0</td>\n",
       "      <td>Sports</td>\n",
       "      <td>0.00</td>\n",
       "      <td>0.01</td>\n",
       "      <td>0.00</td>\n",
       "      <td>0.00</td>\n",
       "      <td>NaN</td>\n",
       "      <td>NaN</td>\n",
       "      <td>NaN</td>\n",
       "    </tr>\n",
       "    <tr>\n",
       "      <th>16712</th>\n",
       "      <td>Haitaka no Psychedelica</td>\n",
       "      <td>PSV</td>\n",
       "      <td>2016.0</td>\n",
       "      <td>Adventure</td>\n",
       "      <td>0.00</td>\n",
       "      <td>0.00</td>\n",
       "      <td>0.01</td>\n",
       "      <td>0.00</td>\n",
       "      <td>NaN</td>\n",
       "      <td>NaN</td>\n",
       "      <td>NaN</td>\n",
       "    </tr>\n",
       "    <tr>\n",
       "      <th>16713</th>\n",
       "      <td>Spirits &amp; Spells</td>\n",
       "      <td>GBA</td>\n",
       "      <td>2003.0</td>\n",
       "      <td>Platform</td>\n",
       "      <td>0.01</td>\n",
       "      <td>0.00</td>\n",
       "      <td>0.00</td>\n",
       "      <td>0.00</td>\n",
       "      <td>NaN</td>\n",
       "      <td>NaN</td>\n",
       "      <td>NaN</td>\n",
       "    </tr>\n",
       "    <tr>\n",
       "      <th>16714</th>\n",
       "      <td>Winning Post 8 2016</td>\n",
       "      <td>PSV</td>\n",
       "      <td>2016.0</td>\n",
       "      <td>Simulation</td>\n",
       "      <td>0.00</td>\n",
       "      <td>0.00</td>\n",
       "      <td>0.01</td>\n",
       "      <td>0.00</td>\n",
       "      <td>NaN</td>\n",
       "      <td>NaN</td>\n",
       "      <td>NaN</td>\n",
       "    </tr>\n",
       "  </tbody>\n",
       "</table>\n",
       "<p>16715 rows × 11 columns</p>\n",
       "</div>"
      ],
      "text/plain": [
       "                                name platform  year_of_release         genre  \\\n",
       "0                         Wii Sports      Wii           2006.0        Sports   \n",
       "1                  Super Mario Bros.      NES           1985.0      Platform   \n",
       "2                     Mario Kart Wii      Wii           2008.0        Racing   \n",
       "3                  Wii Sports Resort      Wii           2009.0        Sports   \n",
       "4           Pokemon Red/Pokemon Blue       GB           1996.0  Role-Playing   \n",
       "...                              ...      ...              ...           ...   \n",
       "16710  Samurai Warriors: Sanada Maru      PS3           2016.0        Action   \n",
       "16711               LMA Manager 2007     X360           2006.0        Sports   \n",
       "16712        Haitaka no Psychedelica      PSV           2016.0     Adventure   \n",
       "16713               Spirits & Spells      GBA           2003.0      Platform   \n",
       "16714            Winning Post 8 2016      PSV           2016.0    Simulation   \n",
       "\n",
       "       na_sales  eu_sales  jp_sales  other_sales  critic_score user_score  \\\n",
       "0         41.36     28.96      3.77         8.45          76.0          8   \n",
       "1         29.08      3.58      6.81         0.77           NaN        NaN   \n",
       "2         15.68     12.76      3.79         3.29          82.0        8.3   \n",
       "3         15.61     10.93      3.28         2.95          80.0          8   \n",
       "4         11.27      8.89     10.22         1.00           NaN        NaN   \n",
       "...         ...       ...       ...          ...           ...        ...   \n",
       "16710      0.00      0.00      0.01         0.00           NaN        NaN   \n",
       "16711      0.00      0.01      0.00         0.00           NaN        NaN   \n",
       "16712      0.00      0.00      0.01         0.00           NaN        NaN   \n",
       "16713      0.01      0.00      0.00         0.00           NaN        NaN   \n",
       "16714      0.00      0.00      0.01         0.00           NaN        NaN   \n",
       "\n",
       "      rating  \n",
       "0          E  \n",
       "1        NaN  \n",
       "2          E  \n",
       "3          E  \n",
       "4        NaN  \n",
       "...      ...  \n",
       "16710    NaN  \n",
       "16711    NaN  \n",
       "16712    NaN  \n",
       "16713    NaN  \n",
       "16714    NaN  \n",
       "\n",
       "[16715 rows x 11 columns]"
      ]
     },
     "execution_count": 80,
     "metadata": {},
     "output_type": "execute_result"
    }
   ],
   "source": [
    "df.rename(columns={\"Name\":\"name\", \"Platform\":\"platform\", \"Year_of_Release\":\"year_of_release\", \"Genre\":\"genre\", \"NA_sales\":\"na_sales\", \"EU_sales\":\"eu_sales\", \"JP_sales\":\"jp_sales\", \"Other_sales\":\"other_sales\", \"Critic_Score\":\"critic_score\", \"User_Score\":\"user_score\", \"Rating\":\"rating\"}, inplace=True)\n",
    "df"
   ]
  },
  {
   "cell_type": "markdown",
   "metadata": {},
   "source": [
    "###  1.1 Преобразование типов <a id='type_format'></a>"
   ]
  },
  {
   "cell_type": "markdown",
   "metadata": {},
   "source": [
    "Посмотрим на типы данных в столбцах:"
   ]
  },
  {
   "cell_type": "code",
   "execution_count": 81,
   "metadata": {},
   "outputs": [
    {
     "name": "stdout",
     "output_type": "stream",
     "text": [
      "<class 'pandas.core.frame.DataFrame'>\n",
      "RangeIndex: 16715 entries, 0 to 16714\n",
      "Data columns (total 11 columns):\n",
      " #   Column           Non-Null Count  Dtype  \n",
      "---  ------           --------------  -----  \n",
      " 0   name             16713 non-null  object \n",
      " 1   platform         16715 non-null  object \n",
      " 2   year_of_release  16446 non-null  float64\n",
      " 3   genre            16713 non-null  object \n",
      " 4   na_sales         16715 non-null  float64\n",
      " 5   eu_sales         16715 non-null  float64\n",
      " 6   jp_sales         16715 non-null  float64\n",
      " 7   other_sales      16715 non-null  float64\n",
      " 8   critic_score     8137 non-null   float64\n",
      " 9   user_score       10014 non-null  object \n",
      " 10  rating           9949 non-null   object \n",
      "dtypes: float64(6), object(5)\n",
      "memory usage: 5.6 MB\n"
     ]
    }
   ],
   "source": [
    "df.info(memory_usage='deep')"
   ]
  },
  {
   "cell_type": "markdown",
   "metadata": {},
   "source": [
    "Предположим, что набор значений в столбцах genre, rating сильно ограничен. Посмотрим на данные:"
   ]
  },
  {
   "cell_type": "code",
   "execution_count": 82,
   "metadata": {},
   "outputs": [
    {
     "data": {
      "text/plain": [
       "(array(['Sports', 'Platform', 'Racing', 'Role-Playing', 'Puzzle', 'Misc',\n",
       "        'Shooter', 'Simulation', 'Action', 'Fighting', 'Adventure',\n",
       "        'Strategy', nan], dtype=object),\n",
       " array(['E', nan, 'M', 'T', 'E10+', 'K-A', 'AO', 'EC', 'RP'], dtype=object))"
      ]
     },
     "execution_count": 82,
     "metadata": {},
     "output_type": "execute_result"
    }
   ],
   "source": [
    "df.genre.unique(), df.rating.unique()"
   ]
  },
  {
   "cell_type": "markdown",
   "metadata": {},
   "source": [
    "Да, значений в столбцах не очень много, можно заменить их типы на category. \n",
    "Проведем следующие преобразования типов столбцов:\n",
    "- **platform**: оставим как есть\n",
    "- **year_of_release**: float64 заменим тип на uint16. Для хранения года выпуска игры удобнее будет использовать целочисленный неотрицательный тип uint16 - он может хранить в себе значения в диапазоне от 0 до 65535. Помимо того, что обрабатывать год как целое число несколько удобнее, такой заменой уменьшаем и количество памяти, необходимое для хранения этого столбца - каждое значение типа float64 имеет размер 8 байт, когда как uint16 - 2 байта.\n",
    "- **genre**: object заменим на category\n",
    "- **rating**: object заменим на category\n",
    "- **user_score**: object заменим на float16. Зту замену необходимо произвести, так как в столбце хранится оценка пользователей, которая всегда будет иметь числовое значение."
   ]
  },
  {
   "cell_type": "code",
   "execution_count": 83,
   "metadata": {},
   "outputs": [],
   "source": [
    "df['genre'] = df['genre'].astype('category')\n",
    "df['rating'] = df['rating'].astype('category')"
   ]
  },
  {
   "cell_type": "markdown",
   "metadata": {},
   "source": [
    "Прежде чем заменить тип столбца **year_of_release**, необходимо обработать пропуски в этом столбце. В выводе функции info() выше видим, что в столбце около 200 пропусков. Убедимся, что пропущенные значения не принадлежат какой-то одной из платформ или значению рейтинга ESRB:"
   ]
  },
  {
   "cell_type": "code",
   "execution_count": 84,
   "metadata": {},
   "outputs": [],
   "source": [
    "def get_grouped_stats(df, group_column, column, func, first_rows=5, ):\n",
    "    matched_rows = df[func(df[column])].groupby(group_column)['name'].count()\n",
    "    matched_rows.name = 'matched_rows_count'    \n",
    "    rows_count = df.groupby(group_column)['name'].count()\n",
    "    rows_count.name = 'rows_count'\n",
    "    result = pd.concat([matched_rows, rows_count], axis=1, join='inner')\n",
    "    result['rate'] = result.matched_rows_count / result.rows_count\n",
    "    return result.sort_values(by='rate', ascending=False)[:first_rows]"
   ]
  },
  {
   "cell_type": "code",
   "execution_count": 85,
   "metadata": {},
   "outputs": [
    {
     "data": {
      "text/html": [
       "<div>\n",
       "<style scoped>\n",
       "    .dataframe tbody tr th:only-of-type {\n",
       "        vertical-align: middle;\n",
       "    }\n",
       "\n",
       "    .dataframe tbody tr th {\n",
       "        vertical-align: top;\n",
       "    }\n",
       "\n",
       "    .dataframe thead th {\n",
       "        text-align: right;\n",
       "    }\n",
       "</style>\n",
       "<table border=\"1\" class=\"dataframe\">\n",
       "  <thead>\n",
       "    <tr style=\"text-align: right;\">\n",
       "      <th></th>\n",
       "      <th>matched_rows_count</th>\n",
       "      <th>rows_count</th>\n",
       "      <th>rate</th>\n",
       "    </tr>\n",
       "    <tr>\n",
       "      <th>platform</th>\n",
       "      <th></th>\n",
       "      <th></th>\n",
       "      <th></th>\n",
       "    </tr>\n",
       "  </thead>\n",
       "  <tbody>\n",
       "    <tr>\n",
       "      <th>2600</th>\n",
       "      <td>17</td>\n",
       "      <td>133</td>\n",
       "      <td>0.127820</td>\n",
       "    </tr>\n",
       "    <tr>\n",
       "      <th>Wii</th>\n",
       "      <td>34</td>\n",
       "      <td>1320</td>\n",
       "      <td>0.025758</td>\n",
       "    </tr>\n",
       "    <tr>\n",
       "      <th>XB</th>\n",
       "      <td>21</td>\n",
       "      <td>824</td>\n",
       "      <td>0.025485</td>\n",
       "    </tr>\n",
       "    <tr>\n",
       "      <th>GC</th>\n",
       "      <td>14</td>\n",
       "      <td>556</td>\n",
       "      <td>0.025180</td>\n",
       "    </tr>\n",
       "    <tr>\n",
       "      <th>X360</th>\n",
       "      <td>30</td>\n",
       "      <td>1262</td>\n",
       "      <td>0.023772</td>\n",
       "    </tr>\n",
       "  </tbody>\n",
       "</table>\n",
       "</div>"
      ],
      "text/plain": [
       "          matched_rows_count  rows_count      rate\n",
       "platform                                          \n",
       "2600                      17         133  0.127820\n",
       "Wii                       34        1320  0.025758\n",
       "XB                        21         824  0.025485\n",
       "GC                        14         556  0.025180\n",
       "X360                      30        1262  0.023772"
      ]
     },
     "execution_count": 85,
     "metadata": {},
     "output_type": "execute_result"
    }
   ],
   "source": [
    "get_grouped_stats(df, 'platform', 'year_of_release', pd.isnull)"
   ]
  },
  {
   "cell_type": "code",
   "execution_count": 86,
   "metadata": {},
   "outputs": [
    {
     "data": {
      "text/html": [
       "<div>\n",
       "<style scoped>\n",
       "    .dataframe tbody tr th:only-of-type {\n",
       "        vertical-align: middle;\n",
       "    }\n",
       "\n",
       "    .dataframe tbody tr th {\n",
       "        vertical-align: top;\n",
       "    }\n",
       "\n",
       "    .dataframe thead th {\n",
       "        text-align: right;\n",
       "    }\n",
       "</style>\n",
       "<table border=\"1\" class=\"dataframe\">\n",
       "  <thead>\n",
       "    <tr style=\"text-align: right;\">\n",
       "      <th></th>\n",
       "      <th>matched_rows_count</th>\n",
       "      <th>rows_count</th>\n",
       "      <th>rate</th>\n",
       "    </tr>\n",
       "    <tr>\n",
       "      <th>rating</th>\n",
       "      <th></th>\n",
       "      <th></th>\n",
       "      <th></th>\n",
       "    </tr>\n",
       "  </thead>\n",
       "  <tbody>\n",
       "    <tr>\n",
       "      <th>RP</th>\n",
       "      <td>2</td>\n",
       "      <td>3</td>\n",
       "      <td>0.666667</td>\n",
       "    </tr>\n",
       "    <tr>\n",
       "      <th>E10+</th>\n",
       "      <td>27</td>\n",
       "      <td>1420</td>\n",
       "      <td>0.019014</td>\n",
       "    </tr>\n",
       "    <tr>\n",
       "      <th>T</th>\n",
       "      <td>56</td>\n",
       "      <td>2961</td>\n",
       "      <td>0.018913</td>\n",
       "    </tr>\n",
       "    <tr>\n",
       "      <th>E</th>\n",
       "      <td>69</td>\n",
       "      <td>3990</td>\n",
       "      <td>0.017293</td>\n",
       "    </tr>\n",
       "    <tr>\n",
       "      <th>M</th>\n",
       "      <td>27</td>\n",
       "      <td>1563</td>\n",
       "      <td>0.017274</td>\n",
       "    </tr>\n",
       "  </tbody>\n",
       "</table>\n",
       "</div>"
      ],
      "text/plain": [
       "        matched_rows_count  rows_count      rate\n",
       "rating                                          \n",
       "RP                       2           3  0.666667\n",
       "E10+                    27        1420  0.019014\n",
       "T                       56        2961  0.018913\n",
       "E                       69        3990  0.017293\n",
       "M                       27        1563  0.017274"
      ]
     },
     "execution_count": 86,
     "metadata": {},
     "output_type": "execute_result"
    }
   ],
   "source": [
    "get_grouped_stats(df, 'rating', 'year_of_release', pd.isnull)"
   ]
  },
  {
   "cell_type": "markdown",
   "metadata": {},
   "source": [
    "Если пропущенные в столбце year_of_release распределены практически равномерно по типам платформ, то в отношении столбца с рейтингом есть интересное замечание. Для 2 из 3 записей с рейтингом RP пропущено значение в столбце year_of_release.\n",
    "Путем поиска в Яндекс узнаем, что RP значит Rating Pending, т.е. рейтинг ожидается. Посмотрим, что это за игры:"
   ]
  },
  {
   "cell_type": "code",
   "execution_count": 87,
   "metadata": {},
   "outputs": [
    {
     "data": {
      "text/html": [
       "<div>\n",
       "<style scoped>\n",
       "    .dataframe tbody tr th:only-of-type {\n",
       "        vertical-align: middle;\n",
       "    }\n",
       "\n",
       "    .dataframe tbody tr th {\n",
       "        vertical-align: top;\n",
       "    }\n",
       "\n",
       "    .dataframe thead th {\n",
       "        text-align: right;\n",
       "    }\n",
       "</style>\n",
       "<table border=\"1\" class=\"dataframe\">\n",
       "  <thead>\n",
       "    <tr style=\"text-align: right;\">\n",
       "      <th></th>\n",
       "      <th>name</th>\n",
       "      <th>platform</th>\n",
       "      <th>year_of_release</th>\n",
       "      <th>genre</th>\n",
       "      <th>na_sales</th>\n",
       "      <th>eu_sales</th>\n",
       "      <th>jp_sales</th>\n",
       "      <th>other_sales</th>\n",
       "      <th>critic_score</th>\n",
       "      <th>user_score</th>\n",
       "      <th>rating</th>\n",
       "    </tr>\n",
       "  </thead>\n",
       "  <tbody>\n",
       "    <tr>\n",
       "      <th>13672</th>\n",
       "      <td>Clockwork Empires</td>\n",
       "      <td>PC</td>\n",
       "      <td>NaN</td>\n",
       "      <td>Strategy</td>\n",
       "      <td>0.0</td>\n",
       "      <td>0.04</td>\n",
       "      <td>0.0</td>\n",
       "      <td>0.00</td>\n",
       "      <td>58.0</td>\n",
       "      <td>3.8</td>\n",
       "      <td>RP</td>\n",
       "    </tr>\n",
       "    <tr>\n",
       "      <th>14270</th>\n",
       "      <td>Supreme Ruler: Cold War</td>\n",
       "      <td>PC</td>\n",
       "      <td>2011.0</td>\n",
       "      <td>Strategy</td>\n",
       "      <td>0.0</td>\n",
       "      <td>0.03</td>\n",
       "      <td>0.0</td>\n",
       "      <td>0.01</td>\n",
       "      <td>63.0</td>\n",
       "      <td>6.8</td>\n",
       "      <td>RP</td>\n",
       "    </tr>\n",
       "    <tr>\n",
       "      <th>16180</th>\n",
       "      <td>WRC: FIA World Rally Championship</td>\n",
       "      <td>PC</td>\n",
       "      <td>NaN</td>\n",
       "      <td>Racing</td>\n",
       "      <td>0.0</td>\n",
       "      <td>0.01</td>\n",
       "      <td>0.0</td>\n",
       "      <td>0.00</td>\n",
       "      <td>65.0</td>\n",
       "      <td>NaN</td>\n",
       "      <td>RP</td>\n",
       "    </tr>\n",
       "  </tbody>\n",
       "</table>\n",
       "</div>"
      ],
      "text/plain": [
       "                                    name platform  year_of_release     genre  \\\n",
       "13672                  Clockwork Empires       PC              NaN  Strategy   \n",
       "14270            Supreme Ruler: Cold War       PC           2011.0  Strategy   \n",
       "16180  WRC: FIA World Rally Championship       PC              NaN    Racing   \n",
       "\n",
       "       na_sales  eu_sales  jp_sales  other_sales  critic_score user_score  \\\n",
       "13672       0.0      0.04       0.0         0.00          58.0        3.8   \n",
       "14270       0.0      0.03       0.0         0.01          63.0        6.8   \n",
       "16180       0.0      0.01       0.0         0.00          65.0        NaN   \n",
       "\n",
       "      rating  \n",
       "13672     RP  \n",
       "14270     RP  \n",
       "16180     RP  "
      ]
     },
     "execution_count": 87,
     "metadata": {},
     "output_type": "execute_result"
    }
   ],
   "source": [
    "df[df.rating == 'RP']"
   ]
  },
  {
   "cell_type": "markdown",
   "metadata": {},
   "source": [
    "Так как таких строки всего 3, попробуем заполнить данные самостоятельно. Путем поиска на ресурсах [ESRB](https://www.esrb.org/) и [Metacritic](https://www.metacritic.com/) находим следующую информацию:\n",
    "- **Supreme Ruler: Cold War** [получила](https://www.esrb.org/ratings/31253/Supreme+Ruler+Cold+War/) на ESRB рейтинг E10+\n",
    "- **WRC: FIA World Rally Championship** [вышла в релиз](https://www.metacritic.com/game/pc/wrc-fia-world-rally-championship) на PC в 2010 году, однако по состоянию на 2021 так и не получила свой уровень рейтинга от ESRB. Можно просто удалить данную запись из таблицы.\n",
    "- **Clockwork Empires** [вышла в релиз](https://www.metacritic.com/game/pc/clockwork-empires) в 2016 году, но также до сих пор не получила свой рейтинг от ESRB. Также удаляем эту запись, тем самым полностью избавляясь от категории 'RP' в столбце rating"
   ]
  },
  {
   "cell_type": "code",
   "execution_count": 88,
   "metadata": {},
   "outputs": [],
   "source": [
    "#удаляем ненужные записи\n",
    "df.drop(df.loc[(df['name']=='WRC: FIA World Rally Championship') & (df['platform']=='PC')].index, inplace=True)\n",
    "df.drop(df.loc[(df['name']=='Clockwork Empires') & (df['platform']=='PC')].index, inplace=True)\n",
    "\n",
    "#меняем рейтинг для Supreme Ruler: Cold War\n",
    "df.loc[df[df.name == 'Supreme Ruler: Cold War'].index, 'rating'] = 'E10+'\n",
    "\n",
    "#меняем тип столбца rating на category\n",
    "df.rating.cat.set_categories(df.rating.unique().categories, inplace=True)"
   ]
  },
  {
   "cell_type": "code",
   "execution_count": 89,
   "metadata": {},
   "outputs": [
    {
     "name": "stdout",
     "output_type": "stream",
     "text": [
      "<class 'pandas.core.frame.DataFrame'>\n",
      "Int64Index: 16713 entries, 0 to 16714\n",
      "Data columns (total 11 columns):\n",
      " #   Column           Non-Null Count  Dtype   \n",
      "---  ------           --------------  -----   \n",
      " 0   name             16711 non-null  object  \n",
      " 1   platform         16713 non-null  object  \n",
      " 2   year_of_release  16446 non-null  float64 \n",
      " 3   genre            16711 non-null  category\n",
      " 4   na_sales         16713 non-null  float64 \n",
      " 5   eu_sales         16713 non-null  float64 \n",
      " 6   jp_sales         16713 non-null  float64 \n",
      " 7   other_sales      16713 non-null  float64 \n",
      " 8   critic_score     8135 non-null   float64 \n",
      " 9   user_score       10013 non-null  object  \n",
      " 10  rating           9947 non-null   category\n",
      "dtypes: category(2), float64(6), object(3)\n",
      "memory usage: 4.6 MB\n"
     ]
    }
   ],
   "source": [
    "df.info(memory_usage='deep')"
   ]
  },
  {
   "cell_type": "markdown",
   "metadata": {},
   "source": [
    "Видим, что пропуски распределены по разным значениям категориальных переменных. Так как количество пропусков в целом небольшое по сравнению с размером датасета, просто удалим записи с пропущенными значениями в этом столбце. Удалим пропуски и поменяем тип столбца:"
   ]
  },
  {
   "cell_type": "code",
   "execution_count": 90,
   "metadata": {},
   "outputs": [
    {
     "name": "stdout",
     "output_type": "stream",
     "text": [
      "<class 'pandas.core.frame.DataFrame'>\n",
      "Int64Index: 16446 entries, 0 to 16714\n",
      "Data columns (total 11 columns):\n",
      " #   Column           Non-Null Count  Dtype   \n",
      "---  ------           --------------  -----   \n",
      " 0   name             16444 non-null  object  \n",
      " 1   platform         16446 non-null  object  \n",
      " 2   year_of_release  16446 non-null  uint16  \n",
      " 3   genre            16444 non-null  category\n",
      " 4   na_sales         16446 non-null  float64 \n",
      " 5   eu_sales         16446 non-null  float64 \n",
      " 6   jp_sales         16446 non-null  float64 \n",
      " 7   other_sales      16446 non-null  float64 \n",
      " 8   critic_score     7983 non-null   float64 \n",
      " 9   user_score       9839 non-null   object  \n",
      " 10  rating           9768 non-null   category\n",
      "dtypes: category(2), float64(5), object(3), uint16(1)\n",
      "memory usage: 3.8 MB\n"
     ]
    }
   ],
   "source": [
    "#удаляем пропуски в столбце year_of_release\n",
    "df.dropna(subset=['year_of_release'], inplace=True)\n",
    "#меняем тип столбца year_of_release на uint16\n",
    "df['year_of_release'] = df['year_of_release'].astype('uint16')\n",
    "df.info(memory_usage='deep')"
   ]
  },
  {
   "cell_type": "markdown",
   "metadata": {},
   "source": [
    "Помимо большого количества пропусков в столбцах **critic_score**, **user_score**, **rating** остались еще записи с 2 пропусками в столбцах **name** и **genre**. Взглянем на них:"
   ]
  },
  {
   "cell_type": "code",
   "execution_count": 91,
   "metadata": {},
   "outputs": [
    {
     "data": {
      "text/html": [
       "<div>\n",
       "<style scoped>\n",
       "    .dataframe tbody tr th:only-of-type {\n",
       "        vertical-align: middle;\n",
       "    }\n",
       "\n",
       "    .dataframe tbody tr th {\n",
       "        vertical-align: top;\n",
       "    }\n",
       "\n",
       "    .dataframe thead th {\n",
       "        text-align: right;\n",
       "    }\n",
       "</style>\n",
       "<table border=\"1\" class=\"dataframe\">\n",
       "  <thead>\n",
       "    <tr style=\"text-align: right;\">\n",
       "      <th></th>\n",
       "      <th>name</th>\n",
       "      <th>platform</th>\n",
       "      <th>year_of_release</th>\n",
       "      <th>genre</th>\n",
       "      <th>na_sales</th>\n",
       "      <th>eu_sales</th>\n",
       "      <th>jp_sales</th>\n",
       "      <th>other_sales</th>\n",
       "      <th>critic_score</th>\n",
       "      <th>user_score</th>\n",
       "      <th>rating</th>\n",
       "    </tr>\n",
       "  </thead>\n",
       "  <tbody>\n",
       "    <tr>\n",
       "      <th>659</th>\n",
       "      <td>NaN</td>\n",
       "      <td>GEN</td>\n",
       "      <td>1993</td>\n",
       "      <td>NaN</td>\n",
       "      <td>1.78</td>\n",
       "      <td>0.53</td>\n",
       "      <td>0.00</td>\n",
       "      <td>0.08</td>\n",
       "      <td>NaN</td>\n",
       "      <td>NaN</td>\n",
       "      <td>NaN</td>\n",
       "    </tr>\n",
       "    <tr>\n",
       "      <th>14244</th>\n",
       "      <td>NaN</td>\n",
       "      <td>GEN</td>\n",
       "      <td>1993</td>\n",
       "      <td>NaN</td>\n",
       "      <td>0.00</td>\n",
       "      <td>0.00</td>\n",
       "      <td>0.03</td>\n",
       "      <td>0.00</td>\n",
       "      <td>NaN</td>\n",
       "      <td>NaN</td>\n",
       "      <td>NaN</td>\n",
       "    </tr>\n",
       "  </tbody>\n",
       "</table>\n",
       "</div>"
      ],
      "text/plain": [
       "      name platform  year_of_release genre  na_sales  eu_sales  jp_sales  \\\n",
       "659    NaN      GEN             1993   NaN      1.78      0.53      0.00   \n",
       "14244  NaN      GEN             1993   NaN      0.00      0.00      0.03   \n",
       "\n",
       "       other_sales  critic_score user_score rating  \n",
       "659           0.08           NaN        NaN    NaN  \n",
       "14244         0.00           NaN        NaN    NaN  "
      ]
     },
     "execution_count": 91,
     "metadata": {},
     "output_type": "execute_result"
    }
   ],
   "source": [
    "df[df.genre.isnull()]"
   ]
  },
  {
   "cell_type": "markdown",
   "metadata": {},
   "source": [
    "Тоже смело можно удалять:"
   ]
  },
  {
   "cell_type": "code",
   "execution_count": 92,
   "metadata": {},
   "outputs": [
    {
     "name": "stdout",
     "output_type": "stream",
     "text": [
      "<class 'pandas.core.frame.DataFrame'>\n",
      "Int64Index: 16444 entries, 0 to 16714\n",
      "Data columns (total 11 columns):\n",
      " #   Column           Non-Null Count  Dtype   \n",
      "---  ------           --------------  -----   \n",
      " 0   name             16444 non-null  object  \n",
      " 1   platform         16444 non-null  object  \n",
      " 2   year_of_release  16444 non-null  uint16  \n",
      " 3   genre            16444 non-null  category\n",
      " 4   na_sales         16444 non-null  float64 \n",
      " 5   eu_sales         16444 non-null  float64 \n",
      " 6   jp_sales         16444 non-null  float64 \n",
      " 7   other_sales      16444 non-null  float64 \n",
      " 8   critic_score     7983 non-null   float64 \n",
      " 9   user_score       9839 non-null   object  \n",
      " 10  rating           9768 non-null   category\n",
      "dtypes: category(2), float64(5), object(3), uint16(1)\n",
      "memory usage: 3.8 MB\n"
     ]
    }
   ],
   "source": [
    "#удаляем все строки с пропусками в столбцах name и genre\n",
    "df.dropna(subset=['name', 'genre'], inplace=True)\n",
    "df.info(memory_usage='deep')"
   ]
  },
  {
   "cell_type": "markdown",
   "metadata": {},
   "source": [
    "Дальше необходимо поменять тип в столбце **user_score** на float64, посколько там хранятся оценки пользователей, что явно должно храниться в числовом виде. Однако известно, что в столбце содержатся значения нечислового типа, а именно 'tbd', что означает to be determined, т.е. будет определен в будущем. Посмотрим, сколько таких данных и как они распределены:"
   ]
  },
  {
   "cell_type": "code",
   "execution_count": 93,
   "metadata": {},
   "outputs": [
    {
     "data": {
      "text/plain": [
       "(2376, 11)"
      ]
     },
     "execution_count": 93,
     "metadata": {},
     "output_type": "execute_result"
    }
   ],
   "source": [
    "df[df['user_score'] == 'tbd'].shape"
   ]
  },
  {
   "cell_type": "code",
   "execution_count": 94,
   "metadata": {},
   "outputs": [
    {
     "data": {
      "text/html": [
       "<div>\n",
       "<style scoped>\n",
       "    .dataframe tbody tr th:only-of-type {\n",
       "        vertical-align: middle;\n",
       "    }\n",
       "\n",
       "    .dataframe tbody tr th {\n",
       "        vertical-align: top;\n",
       "    }\n",
       "\n",
       "    .dataframe thead th {\n",
       "        text-align: right;\n",
       "    }\n",
       "</style>\n",
       "<table border=\"1\" class=\"dataframe\">\n",
       "  <thead>\n",
       "    <tr style=\"text-align: right;\">\n",
       "      <th></th>\n",
       "      <th>matched_rows_count</th>\n",
       "      <th>rows_count</th>\n",
       "      <th>rate</th>\n",
       "    </tr>\n",
       "    <tr>\n",
       "      <th>year_of_release</th>\n",
       "      <th></th>\n",
       "      <th></th>\n",
       "      <th></th>\n",
       "    </tr>\n",
       "  </thead>\n",
       "  <tbody>\n",
       "    <tr>\n",
       "      <th>2009</th>\n",
       "      <td>405</td>\n",
       "      <td>1426</td>\n",
       "      <td>0.284011</td>\n",
       "    </tr>\n",
       "    <tr>\n",
       "      <th>2010</th>\n",
       "      <td>331</td>\n",
       "      <td>1255</td>\n",
       "      <td>0.263745</td>\n",
       "    </tr>\n",
       "    <tr>\n",
       "      <th>2002</th>\n",
       "      <td>192</td>\n",
       "      <td>829</td>\n",
       "      <td>0.231604</td>\n",
       "    </tr>\n",
       "    <tr>\n",
       "      <th>2008</th>\n",
       "      <td>326</td>\n",
       "      <td>1427</td>\n",
       "      <td>0.228451</td>\n",
       "    </tr>\n",
       "    <tr>\n",
       "      <th>2011</th>\n",
       "      <td>217</td>\n",
       "      <td>1136</td>\n",
       "      <td>0.191021</td>\n",
       "    </tr>\n",
       "    <tr>\n",
       "      <th>2001</th>\n",
       "      <td>82</td>\n",
       "      <td>482</td>\n",
       "      <td>0.170124</td>\n",
       "    </tr>\n",
       "    <tr>\n",
       "      <th>2007</th>\n",
       "      <td>192</td>\n",
       "      <td>1197</td>\n",
       "      <td>0.160401</td>\n",
       "    </tr>\n",
       "    <tr>\n",
       "      <th>2004</th>\n",
       "      <td>107</td>\n",
       "      <td>762</td>\n",
       "      <td>0.140420</td>\n",
       "    </tr>\n",
       "    <tr>\n",
       "      <th>2005</th>\n",
       "      <td>121</td>\n",
       "      <td>939</td>\n",
       "      <td>0.128860</td>\n",
       "    </tr>\n",
       "    <tr>\n",
       "      <th>2006</th>\n",
       "      <td>124</td>\n",
       "      <td>1006</td>\n",
       "      <td>0.123260</td>\n",
       "    </tr>\n",
       "  </tbody>\n",
       "</table>\n",
       "</div>"
      ],
      "text/plain": [
       "                 matched_rows_count  rows_count      rate\n",
       "year_of_release                                          \n",
       "2009                            405        1426  0.284011\n",
       "2010                            331        1255  0.263745\n",
       "2002                            192         829  0.231604\n",
       "2008                            326        1427  0.228451\n",
       "2011                            217        1136  0.191021\n",
       "2001                             82         482  0.170124\n",
       "2007                            192        1197  0.160401\n",
       "2004                            107         762  0.140420\n",
       "2005                            121         939  0.128860\n",
       "2006                            124        1006  0.123260"
      ]
     },
     "execution_count": 94,
     "metadata": {},
     "output_type": "execute_result"
    }
   ],
   "source": [
    "get_grouped_stats(df, 'year_of_release', 'user_score', lambda x: x =='tbd', 10)"
   ]
  },
  {
   "cell_type": "markdown",
   "metadata": {},
   "source": [
    "Видно, что таких значений достаточно много. Посмотрим на корреляцию признаков **user_score** и **critic_score**:"
   ]
  },
  {
   "cell_type": "code",
   "execution_count": 95,
   "metadata": {},
   "outputs": [
    {
     "data": {
      "text/plain": [
       "0.5796706281932218"
      ]
     },
     "execution_count": 95,
     "metadata": {},
     "output_type": "execute_result"
    }
   ],
   "source": [
    "df[~df['critic_score'].isnull()]['critic_score'] \\\n",
    ".corr \\\n",
    "(df[(df['user_score'] != 'tbd') & (~df['user_score'].isnull())]['user_score'].astype(float))"
   ]
  },
  {
   "cell_type": "markdown",
   "metadata": {},
   "source": [
    "Признаки имеют явную корреляцию: чем больше critic_score, тем больше user_score. **Заполним значения 'tbd' в user_score значениями critic_score / 10** и заново посчитаем корреляцию между признаками"
   ]
  },
  {
   "cell_type": "code",
   "execution_count": 96,
   "metadata": {},
   "outputs": [],
   "source": [
    "df.loc[df[df['user_score'] == 'tbd'].index, 'user_score'] = df[df['user_score'] == 'tbd']['critic_score'] / 10"
   ]
  },
  {
   "cell_type": "code",
   "execution_count": 97,
   "metadata": {},
   "outputs": [
    {
     "data": {
      "text/plain": [
       "0.639229523184417"
      ]
     },
     "execution_count": 97,
     "metadata": {},
     "output_type": "execute_result"
    }
   ],
   "source": [
    "df[~df['critic_score'].isnull()]['critic_score'] \\\n",
    ".corr \\\n",
    "(df[(df['user_score'] != 'tbd') & (~df['user_score'].isnull())]['user_score'].astype(float))"
   ]
  },
  {
   "cell_type": "markdown",
   "metadata": {},
   "source": [
    "Корреляция увеличилась не сильно, будем считать такое преобразование user_score приемлимым.\n",
    "Заменим, наконец, тип столбца user_score на float16:"
   ]
  },
  {
   "cell_type": "code",
   "execution_count": 98,
   "metadata": {},
   "outputs": [
    {
     "name": "stdout",
     "output_type": "stream",
     "text": [
      "<class 'pandas.core.frame.DataFrame'>\n",
      "Int64Index: 16444 entries, 0 to 16714\n",
      "Data columns (total 11 columns):\n",
      " #   Column           Non-Null Count  Dtype   \n",
      "---  ------           --------------  -----   \n",
      " 0   name             16444 non-null  object  \n",
      " 1   platform         16444 non-null  object  \n",
      " 2   year_of_release  16444 non-null  uint16  \n",
      " 3   genre            16444 non-null  category\n",
      " 4   na_sales         16444 non-null  float16 \n",
      " 5   eu_sales         16444 non-null  float16 \n",
      " 6   jp_sales         16444 non-null  float16 \n",
      " 7   other_sales      16444 non-null  float16 \n",
      " 8   critic_score     7983 non-null   float16 \n",
      " 9   user_score       8519 non-null   float16 \n",
      " 10  rating           9768 non-null   category\n",
      "dtypes: category(2), float16(6), object(2), uint16(1)\n",
      "memory usage: 1.3+ MB\n"
     ]
    }
   ],
   "source": [
    "df['user_score'] = df['user_score'].astype('float16')\n",
    "df['critic_score'] = df['critic_score'].astype('float16')\n",
    "df['other_sales'] = df['other_sales'].astype('float16')\n",
    "df['jp_sales'] = df['jp_sales'].astype('float16')\n",
    "df['eu_sales'] = df['eu_sales'].astype('float16')\n",
    "df['na_sales'] = df['na_sales'].astype('float16')\n",
    "df.info()"
   ]
  },
  {
   "cell_type": "markdown",
   "metadata": {},
   "source": [
    "### 1.2 Обработка пропусков <a id='fillna'></a>"
   ]
  },
  {
   "cell_type": "markdown",
   "metadata": {},
   "source": [
    "Посмотрим теперь на пропуски в столбцах user_score и critic_score. Найдем количество строк, в которых пропущены значения в обоих столбцах:"
   ]
  },
  {
   "cell_type": "code",
   "execution_count": 99,
   "metadata": {},
   "outputs": [
    {
     "data": {
      "text/plain": [
       "(7892, 11)"
      ]
     },
     "execution_count": 99,
     "metadata": {},
     "output_type": "execute_result"
    }
   ],
   "source": [
    "df[(df.user_score.isnull()) & (df.critic_score.isnull())].shape"
   ]
  },
  {
   "cell_type": "markdown",
   "metadata": {},
   "source": [
    "Таких строк очень много! Можно было бы попробовать восстановить их, например, линейной регрессией, но про машинное обучение мы еще не слышали ;(, да и качество таких данных было бы очень сомнительным (заполнять оценки пользователей или критиков, неблагодарное занятие, на мой взгляд)."
   ]
  },
  {
   "cell_type": "markdown",
   "metadata": {},
   "source": [
    "Получен датасет с правильными типами данных и с отсутствующими пропусками. Можно идти дальше"
   ]
  },
  {
   "cell_type": "markdown",
   "metadata": {},
   "source": [
    "## 2. Исследование данных <a id='data_exploring'></a>"
   ]
  },
  {
   "cell_type": "markdown",
   "metadata": {},
   "source": [
    "Добавим столбец с суммарными продажами по всем регионам"
   ]
  },
  {
   "cell_type": "code",
   "execution_count": 100,
   "metadata": {},
   "outputs": [
    {
     "data": {
      "text/html": [
       "<div>\n",
       "<style scoped>\n",
       "    .dataframe tbody tr th:only-of-type {\n",
       "        vertical-align: middle;\n",
       "    }\n",
       "\n",
       "    .dataframe tbody tr th {\n",
       "        vertical-align: top;\n",
       "    }\n",
       "\n",
       "    .dataframe thead th {\n",
       "        text-align: right;\n",
       "    }\n",
       "</style>\n",
       "<table border=\"1\" class=\"dataframe\">\n",
       "  <thead>\n",
       "    <tr style=\"text-align: right;\">\n",
       "      <th></th>\n",
       "      <th>name</th>\n",
       "      <th>platform</th>\n",
       "      <th>year_of_release</th>\n",
       "      <th>genre</th>\n",
       "      <th>na_sales</th>\n",
       "      <th>eu_sales</th>\n",
       "      <th>jp_sales</th>\n",
       "      <th>other_sales</th>\n",
       "      <th>critic_score</th>\n",
       "      <th>user_score</th>\n",
       "      <th>rating</th>\n",
       "      <th>total_sales</th>\n",
       "    </tr>\n",
       "  </thead>\n",
       "  <tbody>\n",
       "    <tr>\n",
       "      <th>0</th>\n",
       "      <td>Wii Sports</td>\n",
       "      <td>Wii</td>\n",
       "      <td>2006</td>\n",
       "      <td>Sports</td>\n",
       "      <td>41.375000</td>\n",
       "      <td>28.953125</td>\n",
       "      <td>3.769531</td>\n",
       "      <td>8.453125</td>\n",
       "      <td>76.0</td>\n",
       "      <td>8.000000</td>\n",
       "      <td>E</td>\n",
       "      <td>82.500</td>\n",
       "    </tr>\n",
       "    <tr>\n",
       "      <th>1</th>\n",
       "      <td>Super Mario Bros.</td>\n",
       "      <td>NES</td>\n",
       "      <td>1985</td>\n",
       "      <td>Platform</td>\n",
       "      <td>29.078125</td>\n",
       "      <td>3.580078</td>\n",
       "      <td>6.808594</td>\n",
       "      <td>0.770020</td>\n",
       "      <td>NaN</td>\n",
       "      <td>NaN</td>\n",
       "      <td>NaN</td>\n",
       "      <td>40.250</td>\n",
       "    </tr>\n",
       "    <tr>\n",
       "      <th>2</th>\n",
       "      <td>Mario Kart Wii</td>\n",
       "      <td>Wii</td>\n",
       "      <td>2008</td>\n",
       "      <td>Racing</td>\n",
       "      <td>15.679688</td>\n",
       "      <td>12.757812</td>\n",
       "      <td>3.789062</td>\n",
       "      <td>3.289062</td>\n",
       "      <td>82.0</td>\n",
       "      <td>8.296875</td>\n",
       "      <td>E</td>\n",
       "      <td>35.500</td>\n",
       "    </tr>\n",
       "    <tr>\n",
       "      <th>3</th>\n",
       "      <td>Wii Sports Resort</td>\n",
       "      <td>Wii</td>\n",
       "      <td>2009</td>\n",
       "      <td>Sports</td>\n",
       "      <td>15.609375</td>\n",
       "      <td>10.929688</td>\n",
       "      <td>3.279297</td>\n",
       "      <td>2.949219</td>\n",
       "      <td>80.0</td>\n",
       "      <td>8.000000</td>\n",
       "      <td>E</td>\n",
       "      <td>32.750</td>\n",
       "    </tr>\n",
       "    <tr>\n",
       "      <th>4</th>\n",
       "      <td>Pokemon Red/Pokemon Blue</td>\n",
       "      <td>GB</td>\n",
       "      <td>1996</td>\n",
       "      <td>Role-Playing</td>\n",
       "      <td>11.273438</td>\n",
       "      <td>8.890625</td>\n",
       "      <td>10.218750</td>\n",
       "      <td>1.000000</td>\n",
       "      <td>NaN</td>\n",
       "      <td>NaN</td>\n",
       "      <td>NaN</td>\n",
       "      <td>31.375</td>\n",
       "    </tr>\n",
       "  </tbody>\n",
       "</table>\n",
       "</div>"
      ],
      "text/plain": [
       "                       name platform  year_of_release         genre  \\\n",
       "0                Wii Sports      Wii             2006        Sports   \n",
       "1         Super Mario Bros.      NES             1985      Platform   \n",
       "2            Mario Kart Wii      Wii             2008        Racing   \n",
       "3         Wii Sports Resort      Wii             2009        Sports   \n",
       "4  Pokemon Red/Pokemon Blue       GB             1996  Role-Playing   \n",
       "\n",
       "    na_sales   eu_sales   jp_sales  other_sales  critic_score  user_score  \\\n",
       "0  41.375000  28.953125   3.769531     8.453125          76.0    8.000000   \n",
       "1  29.078125   3.580078   6.808594     0.770020           NaN         NaN   \n",
       "2  15.679688  12.757812   3.789062     3.289062          82.0    8.296875   \n",
       "3  15.609375  10.929688   3.279297     2.949219          80.0    8.000000   \n",
       "4  11.273438   8.890625  10.218750     1.000000           NaN         NaN   \n",
       "\n",
       "  rating  total_sales  \n",
       "0      E       82.500  \n",
       "1    NaN       40.250  \n",
       "2      E       35.500  \n",
       "3      E       32.750  \n",
       "4    NaN       31.375  "
      ]
     },
     "execution_count": 100,
     "metadata": {},
     "output_type": "execute_result"
    }
   ],
   "source": [
    "df['total_sales'] = df['na_sales'] + df['eu_sales'] + df['jp_sales'] + df['other_sales']\n",
    "df.head()"
   ]
  },
  {
   "cell_type": "markdown",
   "metadata": {},
   "source": [
    "### 2.1 Распределение количества выпускаемых игр по годам <a id='games_by_year'></a>"
   ]
  },
  {
   "cell_type": "code",
   "execution_count": 101,
   "metadata": {},
   "outputs": [
    {
     "data": {
      "image/png": "[encoded data removed]",
      "text/plain": [
       "<Figure size 432x288 with 1 Axes>"
      ]
     },
     "metadata": {
      "needs_background": "light"
     },
     "output_type": "display_data"
    }
   ],
   "source": [
    "df.hist(column='year_of_release');"
   ]
  },
  {
   "cell_type": "markdown",
   "metadata": {},
   "source": [
    "Из гистограммы видим, что распределение количества игр имеет левый хвост. Избавимся от хвоста, отсеяв все игры выпущенные до 1998 года"
   ]
  },
  {
   "cell_type": "code",
   "execution_count": 102,
   "metadata": {},
   "outputs": [
    {
     "data": {
      "image/png": "[encoded data removed]",
      "text/plain": [
       "<Figure size 432x288 with 1 Axes>"
      ]
     },
     "metadata": {
      "needs_background": "light"
     },
     "output_type": "display_data"
    }
   ],
   "source": [
    "df = df[df['year_of_release'] > 1998]\n",
    "df.hist(column='year_of_release', bins=df.year_of_release.nunique());"
   ]
  },
  {
   "cell_type": "markdown",
   "metadata": {},
   "source": [
    "Выводы:\n",
    "- В последние годы в индустрии наблюдается упадок - количество выпускаемых игр уменьшается. Предполагается, что это последствия глобального кризиса в 2008 году"
   ]
  },
  {
   "cell_type": "markdown",
   "metadata": {},
   "source": [
    "### 2.2 Распределение суммы продаж по платформам в разрезе времени <a id='sales_by_year'></a>"
   ]
  },
  {
   "cell_type": "code",
   "execution_count": 103,
   "metadata": {},
   "outputs": [
    {
     "data": {
      "text/plain": [
       "platform\n",
       "PS2     1234.000000\n",
       "X360     961.000000\n",
       "PS3      931.500000\n",
       "Wii      891.000000\n",
       "DS       802.500000\n",
       "PS4      314.250000\n",
       "GBA      312.750000\n",
       "PSP      289.500000\n",
       "PS       285.250000\n",
       "3DS      257.750000\n",
       "XB       251.625000\n",
       "PC       210.500000\n",
       "GC       196.750000\n",
       "XOne     159.250000\n",
       "N64       95.187500\n",
       "WiiU      82.187500\n",
       "GB        67.000000\n",
       "PSV       53.812500\n",
       "DC        12.570312\n",
       "WS         1.419922\n",
       "SNES       0.260010\n",
       "SAT        0.090027\n",
       "Name: total_sales, dtype: float16"
      ]
     },
     "execution_count": 103,
     "metadata": {},
     "output_type": "execute_result"
    }
   ],
   "source": [
    "platforms_grouped = df.groupby('platform')['total_sales'].sum()\n",
    "platforms_grouped.sort_values(ascending=False)"
   ]
  },
  {
   "cell_type": "code",
   "execution_count": 104,
   "metadata": {},
   "outputs": [],
   "source": [
    "def plot_platform_sales_chart(df, figsize=(12,8)):\n",
    "    legend = []\n",
    "    years = df.year_of_release.unique()\n",
    "    platforms = df.platform.unique()\n",
    "    for platform in platforms:\n",
    "        legend.append(platform)\n",
    "        ax = df[df.platform == platform].groupby('year_of_release')['total_sales'].sum().plot(grid=True, figsize=figsize, xticks=years, lw=2)\n",
    "    ax.legend(legend)"
   ]
  },
  {
   "cell_type": "code",
   "execution_count": 105,
   "metadata": {},
   "outputs": [
    {
     "data": {
      "image/png": "[encoded data removed]",
      "text/plain": [
       "<Figure size 864x576 with 1 Axes>"
      ]
     },
     "metadata": {
      "needs_background": "light"
     },
     "output_type": "display_data"
    }
   ],
   "source": [
    "plot_platform_sales_chart(df)"
   ]
  },
  {
   "cell_type": "markdown",
   "metadata": {
    "jupyter": {
     "outputs_hidden": true
    }
   },
   "source": [
    "Проанализировав график продаж по платформам в разрезе времени, получаем следующие выводы:\n",
    "- Игровые платформы \"живут\" от 6 до 10 лет, однако есть и исключение - PC на протяжении долгого времени (с самого появления и по сей день) остаётся на плаву\n",
    "- Среди популярных в прошлом платформ выделяются PS2, PS, DS, GBA"
   ]
  },
  {
   "cell_type": "markdown",
   "metadata": {},
   "source": [
    "Посчитаем среднюю продолжительность \"жизни\" консоли, т.е. среднее количество лет между годом первой проданной игры и годом последней проданной игры:"
   ]
  },
  {
   "cell_type": "code",
   "execution_count": 106,
   "metadata": {},
   "outputs": [
    {
     "data": {
      "text/html": [
       "<div>\n",
       "<style scoped>\n",
       "    .dataframe tbody tr th:only-of-type {\n",
       "        vertical-align: middle;\n",
       "    }\n",
       "\n",
       "    .dataframe tbody tr th {\n",
       "        vertical-align: top;\n",
       "    }\n",
       "\n",
       "    .dataframe thead th {\n",
       "        text-align: right;\n",
       "    }\n",
       "</style>\n",
       "<table border=\"1\" class=\"dataframe\">\n",
       "  <thead>\n",
       "    <tr style=\"text-align: right;\">\n",
       "      <th></th>\n",
       "      <th>platform</th>\n",
       "      <th>lifetime_years</th>\n",
       "    </tr>\n",
       "  </thead>\n",
       "  <tbody>\n",
       "    <tr>\n",
       "      <th>7</th>\n",
       "      <td>PC</td>\n",
       "      <td>17</td>\n",
       "    </tr>\n",
       "    <tr>\n",
       "      <th>19</th>\n",
       "      <td>X360</td>\n",
       "      <td>11</td>\n",
       "    </tr>\n",
       "    <tr>\n",
       "      <th>9</th>\n",
       "      <td>PS2</td>\n",
       "      <td>11</td>\n",
       "    </tr>\n",
       "    <tr>\n",
       "      <th>12</th>\n",
       "      <td>PSP</td>\n",
       "      <td>11</td>\n",
       "    </tr>\n",
       "    <tr>\n",
       "      <th>17</th>\n",
       "      <td>Wii</td>\n",
       "      <td>10</td>\n",
       "    </tr>\n",
       "    <tr>\n",
       "      <th>10</th>\n",
       "      <td>PS3</td>\n",
       "      <td>10</td>\n",
       "    </tr>\n",
       "    <tr>\n",
       "      <th>2</th>\n",
       "      <td>DS</td>\n",
       "      <td>9</td>\n",
       "    </tr>\n",
       "    <tr>\n",
       "      <th>1</th>\n",
       "      <td>DC</td>\n",
       "      <td>9</td>\n",
       "    </tr>\n",
       "    <tr>\n",
       "      <th>20</th>\n",
       "      <td>XB</td>\n",
       "      <td>8</td>\n",
       "    </tr>\n",
       "    <tr>\n",
       "      <th>4</th>\n",
       "      <td>GBA</td>\n",
       "      <td>7</td>\n",
       "    </tr>\n",
       "    <tr>\n",
       "      <th>5</th>\n",
       "      <td>GC</td>\n",
       "      <td>6</td>\n",
       "    </tr>\n",
       "    <tr>\n",
       "      <th>0</th>\n",
       "      <td>3DS</td>\n",
       "      <td>5</td>\n",
       "    </tr>\n",
       "    <tr>\n",
       "      <th>13</th>\n",
       "      <td>PSV</td>\n",
       "      <td>5</td>\n",
       "    </tr>\n",
       "    <tr>\n",
       "      <th>8</th>\n",
       "      <td>PS</td>\n",
       "      <td>4</td>\n",
       "    </tr>\n",
       "    <tr>\n",
       "      <th>18</th>\n",
       "      <td>WiiU</td>\n",
       "      <td>4</td>\n",
       "    </tr>\n",
       "    <tr>\n",
       "      <th>11</th>\n",
       "      <td>PS4</td>\n",
       "      <td>3</td>\n",
       "    </tr>\n",
       "    <tr>\n",
       "      <th>6</th>\n",
       "      <td>N64</td>\n",
       "      <td>3</td>\n",
       "    </tr>\n",
       "    <tr>\n",
       "      <th>21</th>\n",
       "      <td>XOne</td>\n",
       "      <td>3</td>\n",
       "    </tr>\n",
       "    <tr>\n",
       "      <th>16</th>\n",
       "      <td>WS</td>\n",
       "      <td>2</td>\n",
       "    </tr>\n",
       "    <tr>\n",
       "      <th>3</th>\n",
       "      <td>GB</td>\n",
       "      <td>2</td>\n",
       "    </tr>\n",
       "    <tr>\n",
       "      <th>15</th>\n",
       "      <td>SNES</td>\n",
       "      <td>0</td>\n",
       "    </tr>\n",
       "    <tr>\n",
       "      <th>14</th>\n",
       "      <td>SAT</td>\n",
       "      <td>0</td>\n",
       "    </tr>\n",
       "  </tbody>\n",
       "</table>\n",
       "</div>"
      ],
      "text/plain": [
       "   platform  lifetime_years\n",
       "7        PC              17\n",
       "19     X360              11\n",
       "9       PS2              11\n",
       "12      PSP              11\n",
       "17      Wii              10\n",
       "10      PS3              10\n",
       "2        DS               9\n",
       "1        DC               9\n",
       "20       XB               8\n",
       "4       GBA               7\n",
       "5        GC               6\n",
       "0       3DS               5\n",
       "13      PSV               5\n",
       "8        PS               4\n",
       "18     WiiU               4\n",
       "11      PS4               3\n",
       "6       N64               3\n",
       "21     XOne               3\n",
       "16       WS               2\n",
       "3        GB               2\n",
       "15     SNES               0\n",
       "14      SAT               0"
      ]
     },
     "execution_count": 106,
     "metadata": {},
     "output_type": "execute_result"
    }
   ],
   "source": [
    "df_lifecyclestats = df.groupby('platform')['year_of_release'].agg([lambda x: np.max(x) - np.min(x)]).reset_index()\n",
    "df_lifecyclestats.rename(columns={\"<lambda>\":\"lifetime_years\"}, inplace=True)\n",
    "df_lifecyclestats.sort_values(by='lifetime_years', ascending=False)"
   ]
  },
  {
   "cell_type": "markdown",
   "metadata": {},
   "source": [
    "Ага, видим выбросы в данных в виде статистики по продолжительности жизни для PC, SNES, SAT. Проанилизируем причины выбросов:\n",
    "\n",
    "- Причина выброса для **PC** понятна - PC это не игровая платформа, однако на ней тоже выпускаются игры, хоть и в несравнимо меньшем объеме. Уберем эту платформу из расчетов.\n",
    "- Оставшиеся две платформы **SNES** и **SAT** появились в 1990х. Данные об играх в этот период мы отрезали ранее, поэтому данные платформы также не будем учитывать в расчетах\n",
    "- Уберем также из расчетов XONe и PS4, поскольку они на момент 2016 года находились только в середине своего жизненного цикла ;)"
   ]
  },
  {
   "cell_type": "code",
   "execution_count": 107,
   "metadata": {},
   "outputs": [
    {
     "name": "stdout",
     "output_type": "stream",
     "text": [
      "Среднее время жизни консоли в годах 6.882352941176471 со стандартным отклонением 3.2381003872096152\n"
     ]
    }
   ],
   "source": [
    "df_lifecyclestats = df_lifecyclestats[~df_lifecyclestats.platform.isin(['PC', 'XOne', 'PS4', 'SNES', 'SAT'])]\n",
    "print(\"Среднее время жизни консоли в годах {} со стандартным отклонением {}\".format(df_lifecyclestats.lifetime_years.mean(), df_lifecyclestats.lifetime_years.std()))"
   ]
  },
  {
   "cell_type": "markdown",
   "metadata": {},
   "source": [
    "Как и на графике, рассчитанная характеристика говорит о том, что консоль в среднем живет около 7 лет, при этом жизненный цикл имеет большое стандартное отклонение, т.е. консоль может с большой вероятностью прожить и 10 лет и 4 года"
   ]
  },
  {
   "cell_type": "markdown",
   "metadata": {},
   "source": [
    "Посмотрим на распределение платформ в 2016 году по сумме продаж"
   ]
  },
  {
   "cell_type": "code",
   "execution_count": 108,
   "metadata": {},
   "outputs": [
    {
     "data": {
      "image/png": "[encoded data removed]",
      "text/plain": [
       "<Figure size 432x288 with 1 Axes>"
      ]
     },
     "metadata": {
      "needs_background": "light"
     },
     "output_type": "display_data"
    }
   ],
   "source": [
    "df_2016 = df[df.year_of_release == 2016]\n",
    "df_2016.groupby('platform')['total_sales'].sum().plot(kind=\"bar\");"
   ]
  },
  {
   "cell_type": "markdown",
   "metadata": {},
   "source": [
    "Чтобы уменьшить искажение распределения по платформам в данных, посмотрим на самые ранние годы, за которые у нас есть данные по нашим платформам:"
   ]
  },
  {
   "cell_type": "code",
   "execution_count": 109,
   "metadata": {},
   "outputs": [
    {
     "data": {
      "text/html": [
       "<div>\n",
       "<style scoped>\n",
       "    .dataframe tbody tr th:only-of-type {\n",
       "        vertical-align: middle;\n",
       "    }\n",
       "\n",
       "    .dataframe tbody tr th {\n",
       "        vertical-align: top;\n",
       "    }\n",
       "\n",
       "    .dataframe thead tr th {\n",
       "        text-align: left;\n",
       "    }\n",
       "\n",
       "    .dataframe thead tr:last-of-type th {\n",
       "        text-align: right;\n",
       "    }\n",
       "</style>\n",
       "<table border=\"1\" class=\"dataframe\">\n",
       "  <thead>\n",
       "    <tr>\n",
       "      <th></th>\n",
       "      <th>min</th>\n",
       "    </tr>\n",
       "    <tr>\n",
       "      <th></th>\n",
       "      <th>year_of_release</th>\n",
       "    </tr>\n",
       "    <tr>\n",
       "      <th>platform</th>\n",
       "      <th></th>\n",
       "    </tr>\n",
       "  </thead>\n",
       "  <tbody>\n",
       "    <tr>\n",
       "      <th>3DS</th>\n",
       "      <td>2011</td>\n",
       "    </tr>\n",
       "    <tr>\n",
       "      <th>PC</th>\n",
       "      <td>1999</td>\n",
       "    </tr>\n",
       "    <tr>\n",
       "      <th>PS3</th>\n",
       "      <td>2006</td>\n",
       "    </tr>\n",
       "    <tr>\n",
       "      <th>PS4</th>\n",
       "      <td>2013</td>\n",
       "    </tr>\n",
       "    <tr>\n",
       "      <th>PSV</th>\n",
       "      <td>2011</td>\n",
       "    </tr>\n",
       "    <tr>\n",
       "      <th>Wii</th>\n",
       "      <td>2006</td>\n",
       "    </tr>\n",
       "    <tr>\n",
       "      <th>WiiU</th>\n",
       "      <td>2012</td>\n",
       "    </tr>\n",
       "    <tr>\n",
       "      <th>X360</th>\n",
       "      <td>2005</td>\n",
       "    </tr>\n",
       "    <tr>\n",
       "      <th>XOne</th>\n",
       "      <td>2013</td>\n",
       "    </tr>\n",
       "  </tbody>\n",
       "</table>\n",
       "</div>"
      ],
      "text/plain": [
       "                     min\n",
       "         year_of_release\n",
       "platform                \n",
       "3DS                 2011\n",
       "PC                  1999\n",
       "PS3                 2006\n",
       "PS4                 2013\n",
       "PSV                 2011\n",
       "Wii                 2006\n",
       "WiiU                2012\n",
       "X360                2005\n",
       "XOne                2013"
      ]
     },
     "execution_count": 109,
     "metadata": {},
     "output_type": "execute_result"
    }
   ],
   "source": [
    "df[df.platform.isin(df_2016.platform.unique())] \\\n",
    ".pivot_table(index=['platform'], aggfunc=['min'], values='year_of_release')"
   ]
  },
  {
   "cell_type": "markdown",
   "metadata": {
    "jupyter": {
     "outputs_hidden": true
    }
   },
   "source": [
    "Известно, что платформа PC уже давно актуальна, а вот остальные платформы появились в 2011 году и позднее. Далее будем использовать данные начиная с 2011 года."
   ]
  },
  {
   "cell_type": "code",
   "execution_count": 110,
   "metadata": {},
   "outputs": [],
   "source": [
    "df_since_2011 = df.loc[df.year_of_release >= 2011].copy()"
   ]
  },
  {
   "cell_type": "markdown",
   "metadata": {},
   "source": [
    "Посмотрим на данные еще раз, теперь только с 2011 года, а также исключим платформы, у которых уже есть продажи в 2016 году:"
   ]
  },
  {
   "cell_type": "code",
   "execution_count": 111,
   "metadata": {},
   "outputs": [
    {
     "data": {
      "image/png": "[encoded data removed]",
      "text/plain": [
       "<Figure size 576x288 with 1 Axes>"
      ]
     },
     "metadata": {
      "needs_background": "light"
     },
     "output_type": "display_data"
    }
   ],
   "source": [
    "dead_platforms_df = df_since_2011[~df_since_2011.platform.isin(df_2016.platform.unique())]\n",
    "plot_platform_sales_chart(dead_platforms_df, figsize=(8,4))"
   ]
  },
  {
   "cell_type": "code",
   "execution_count": 112,
   "metadata": {},
   "outputs": [
    {
     "data": {
      "image/png": "[encoded data removed]",
      "text/plain": [
       "<Figure size 576x288 with 1 Axes>"
      ]
     },
     "metadata": {
      "needs_background": "light"
     },
     "output_type": "display_data"
    }
   ],
   "source": [
    "alive_platforms_df = df_since_2011[df_since_2011.platform.isin(df_2016.platform.unique())]\n",
    "plot_platform_sales_chart(alive_platforms_df, figsize=(8,4))"
   ]
  },
  {
   "cell_type": "markdown",
   "metadata": {
    "jupyter": {
     "outputs_hidden": true
    }
   },
   "source": [
    "Из графиков получаем следующую информацию по платформам:\n",
    "- XOne, PS4 самые актуальные платформы, их продажи на 2016 год упали. Это произошло потому, что у нас неполные данные за 2016 год. В реальности, скорее всего, по состоянию на конец года продажи сильно выросли.\n",
    "- Продажи DS, PSP, PS2 упали до 0 к 2015 году в связи выходом нового поколения консолей\n",
    "- К перпспективным платформам на ближайшие годы можно отнести PS4, XOne и PC. Первые две появились недавно и пришли на замену сверхпопулярным PS3 и X360, а PC всегда была актуальна ;)"
   ]
  },
  {
   "cell_type": "markdown",
   "metadata": {},
   "source": [
    "### 2.3 Диаграмма размаха продаж по актуальным платформам <a id='boxplots'></a>"
   ]
  },
  {
   "cell_type": "markdown",
   "metadata": {},
   "source": [
    "Построим диаграмму размаха (boxplot) для самый популярных платформ. Сразу огранимичим масштаб, дабы выбросы не мешали анализировать график:"
   ]
  },
  {
   "cell_type": "code",
   "execution_count": 113,
   "metadata": {},
   "outputs": [
    {
     "data": {
      "image/png": "[encoded data removed]",
      "text/plain": [
       "<Figure size 432x288 with 1 Axes>"
      ]
     },
     "metadata": {
      "needs_background": "light"
     },
     "output_type": "display_data"
    }
   ],
   "source": [
    "df_since_2011[df_since_2011.platform.isin(['XOne', 'PS4', 'PC'])].boxplot(by='platform', column='total_sales')\n",
    "plt.ylim(0, 1);"
   ]
  },
  {
   "cell_type": "markdown",
   "metadata": {},
   "source": [
    "Смотрим на график размаха и делаем выводы:\n",
    "- В среднем издатели получают больше прибыли от продаж игры на консолях, чем на PC (медиана продаж на консолях больше, а также сам \"ящик\" шире)\n",
    "- Большие выбросы в данных присутствуют на всех 3 платформах, это означает что на каждой платформе выходят ААА-проекты, продажи которых уходят далеко за границы продаж \"обычных\", средних релизов\n",
    "- Продажи игр на ПК имеют меньший размах из-за процветания пиратства, т.е. многие люди предпочитают скачать взломанную копию игры, нежели покупать лицензионную. Из-за низкого уровня продаж разработчики игр предпочитают либо вообще не выпускать игру на PC"
   ]
  },
  {
   "cell_type": "markdown",
   "metadata": {},
   "source": [
    "### 2.4 Влияние отзывов на продажи <a id='reviews_effecting'></a>"
   ]
  },
  {
   "cell_type": "markdown",
   "metadata": {},
   "source": [
    "Исследуем влияние отзывов пользователей и критиков на продажи игр на платформе PS4. Построим scatter plot для признаков user_score и critic_score:"
   ]
  },
  {
   "cell_type": "code",
   "execution_count": 114,
   "metadata": {},
   "outputs": [
    {
     "data": {
      "image/png": "[encoded data removed]",
      "text/plain": [
       "<Figure size 1296x432 with 2 Axes>"
      ]
     },
     "metadata": {
      "needs_background": "light"
     },
     "output_type": "display_data"
    }
   ],
   "source": [
    "fig, axes = plt.subplots(1, 2, figsize=(18, 6))\n",
    "axes[0].scatter(x=df_since_2011[df_since_2011.platform == 'PS4']['critic_score'], y=df_since_2011[df_since_2011.platform == 'PS4']['total_sales'])\n",
    "axes[0].set_title(\"Суммарные продажи в зависимости от оценок критиков\")\n",
    "axes[0].set_xlabel(\"Оценка критиков\")\n",
    "axes[0].set_ylabel(\"Суммарные продажи игр на PS4\")\n",
    "axes[1].scatter(x=df_since_2011[df_since_2011.platform == 'PS4']['user_score'], y=df_since_2011[df_since_2011.platform == 'PS4']['total_sales'])\n",
    "axes[1].set_title(\"Суммарные продажи в зависимости от оценок пользователей\")\n",
    "axes[1].set_xlabel(\"Оценка пользователей\")\n",
    "axes[1].set_ylabel(\"Суммарные продажи игр на PS4\");"
   ]
  },
  {
   "cell_type": "markdown",
   "metadata": {},
   "source": [
    "Судя по графику, оценки суммарные продажи сильнее коррелируют с оценками критиков, нежели с оценками пользователей. Посмотрим на корреляции:"
   ]
  },
  {
   "cell_type": "code",
   "execution_count": 115,
   "metadata": {},
   "outputs": [
    {
     "data": {
      "text/html": [
       "<div>\n",
       "<style scoped>\n",
       "    .dataframe tbody tr th:only-of-type {\n",
       "        vertical-align: middle;\n",
       "    }\n",
       "\n",
       "    .dataframe tbody tr th {\n",
       "        vertical-align: top;\n",
       "    }\n",
       "\n",
       "    .dataframe thead th {\n",
       "        text-align: right;\n",
       "    }\n",
       "</style>\n",
       "<table border=\"1\" class=\"dataframe\">\n",
       "  <thead>\n",
       "    <tr style=\"text-align: right;\">\n",
       "      <th></th>\n",
       "      <th>total_sales</th>\n",
       "      <th>user_score</th>\n",
       "      <th>critic_score</th>\n",
       "    </tr>\n",
       "  </thead>\n",
       "  <tbody>\n",
       "    <tr>\n",
       "      <th>total_sales</th>\n",
       "      <td>1.000000</td>\n",
       "      <td>-0.032721</td>\n",
       "      <td>0.406580</td>\n",
       "    </tr>\n",
       "    <tr>\n",
       "      <th>user_score</th>\n",
       "      <td>-0.032721</td>\n",
       "      <td>1.000000</td>\n",
       "      <td>0.557469</td>\n",
       "    </tr>\n",
       "    <tr>\n",
       "      <th>critic_score</th>\n",
       "      <td>0.406580</td>\n",
       "      <td>0.557469</td>\n",
       "      <td>1.000000</td>\n",
       "    </tr>\n",
       "  </tbody>\n",
       "</table>\n",
       "</div>"
      ],
      "text/plain": [
       "              total_sales  user_score  critic_score\n",
       "total_sales      1.000000   -0.032721      0.406580\n",
       "user_score      -0.032721    1.000000      0.557469\n",
       "critic_score     0.406580    0.557469      1.000000"
      ]
     },
     "execution_count": 115,
     "metadata": {},
     "output_type": "execute_result"
    }
   ],
   "source": [
    "df_since_2011[df_since_2011.platform == 'PS4'][['total_sales', 'user_score', 'critic_score']].corr()"
   ]
  },
  {
   "cell_type": "markdown",
   "metadata": {},
   "source": [
    "Из матрицы корреляций видим, что присутствует корреляция между оценками критиков и продажами игр"
   ]
  },
  {
   "cell_type": "markdown",
   "metadata": {},
   "source": [
    "Посмотрим теперь на ту же историю для PC:"
   ]
  },
  {
   "cell_type": "code",
   "execution_count": 116,
   "metadata": {},
   "outputs": [
    {
     "data": {
      "image/png": "[encoded data removed]",
      "text/plain": [
       "<Figure size 1296x432 with 2 Axes>"
      ]
     },
     "metadata": {
      "needs_background": "light"
     },
     "output_type": "display_data"
    }
   ],
   "source": [
    "fig, axes = plt.subplots(1, 2, figsize=(18, 6))\n",
    "axes[0].scatter(x=df_since_2011[df_since_2011.platform == 'PC']['critic_score'], y=df_since_2011[df_since_2011.platform == 'PC']['total_sales'])\n",
    "axes[0].set_title(\"Суммарные продажи в зависимости от оценок критиков\")\n",
    "axes[0].set_xlabel(\"Оценка критиков\")\n",
    "axes[0].set_ylabel(\"Суммарные продажи игр на PC\")\n",
    "axes[1].scatter(x=df_since_2011[df_since_2011.platform == 'PC']['user_score'], y=df_since_2011[df_since_2011.platform == 'PC']['total_sales'])\n",
    "axes[1].set_title(\"Суммарные продажи в зависимости от оценок пользователей\")\n",
    "axes[1].set_xlabel(\"Оценка пользователей\")\n",
    "axes[1].set_ylabel(\"Суммарные продажи игр на PC\");"
   ]
  },
  {
   "cell_type": "code",
   "execution_count": 117,
   "metadata": {},
   "outputs": [
    {
     "data": {
      "text/html": [
       "<div>\n",
       "<style scoped>\n",
       "    .dataframe tbody tr th:only-of-type {\n",
       "        vertical-align: middle;\n",
       "    }\n",
       "\n",
       "    .dataframe tbody tr th {\n",
       "        vertical-align: top;\n",
       "    }\n",
       "\n",
       "    .dataframe thead th {\n",
       "        text-align: right;\n",
       "    }\n",
       "</style>\n",
       "<table border=\"1\" class=\"dataframe\">\n",
       "  <thead>\n",
       "    <tr style=\"text-align: right;\">\n",
       "      <th></th>\n",
       "      <th>total_sales</th>\n",
       "      <th>user_score</th>\n",
       "      <th>critic_score</th>\n",
       "    </tr>\n",
       "  </thead>\n",
       "  <tbody>\n",
       "    <tr>\n",
       "      <th>total_sales</th>\n",
       "      <td>1.000000</td>\n",
       "      <td>-0.048988</td>\n",
       "      <td>0.314180</td>\n",
       "    </tr>\n",
       "    <tr>\n",
       "      <th>user_score</th>\n",
       "      <td>-0.048988</td>\n",
       "      <td>1.000000</td>\n",
       "      <td>0.464761</td>\n",
       "    </tr>\n",
       "    <tr>\n",
       "      <th>critic_score</th>\n",
       "      <td>0.314180</td>\n",
       "      <td>0.464761</td>\n",
       "      <td>1.000000</td>\n",
       "    </tr>\n",
       "  </tbody>\n",
       "</table>\n",
       "</div>"
      ],
      "text/plain": [
       "              total_sales  user_score  critic_score\n",
       "total_sales      1.000000   -0.048988      0.314180\n",
       "user_score      -0.048988    1.000000      0.464761\n",
       "critic_score     0.314180    0.464761      1.000000"
      ]
     },
     "execution_count": 117,
     "metadata": {},
     "output_type": "execute_result"
    }
   ],
   "source": [
    "df_since_2011[df_since_2011.platform == 'PC'][['total_sales', 'user_score', 'critic_score']].corr()"
   ]
  },
  {
   "cell_type": "markdown",
   "metadata": {},
   "source": [
    "Получаем следующие итоги:\n",
    "- Между оценками критиков и продажами игр есть заметная корреляция и на PC и на PS4, а вот между оценками пользователей и суммарными продажами она практически нулевая на обеих платформах. Это может быт связано с тем, что критики зачастую получают игру раньше релиза, и могут опубликовать свою оценку игры еще до ее релиза, тем самым предопределив будущие продажи игры"
   ]
  },
  {
   "cell_type": "markdown",
   "metadata": {},
   "source": [
    "### 2.5 Распределение игр по жанрам <a id='game_genres'></a>"
   ]
  },
  {
   "cell_type": "markdown",
   "metadata": {},
   "source": [
    "Сгруппируем игры по жанрам и посмотрим на гистограмму:"
   ]
  },
  {
   "cell_type": "code",
   "execution_count": 118,
   "metadata": {},
   "outputs": [
    {
     "data": {
      "image/png": "[encoded data removed]",
      "text/plain": [
       "<Figure size 432x288 with 1 Axes>"
      ]
     },
     "metadata": {
      "needs_background": "light"
     },
     "output_type": "display_data"
    }
   ],
   "source": [
    "df_since_2011.groupby('genre')['genre'].count().plot(kind='bar');"
   ]
  },
  {
   "cell_type": "markdown",
   "metadata": {},
   "source": [
    "Больше всего игр имеют жанр Action, меньше всего - Puzzle. Посмотрим на распределение суммарных продаж по жанрам:"
   ]
  },
  {
   "cell_type": "code",
   "execution_count": 119,
   "metadata": {},
   "outputs": [
    {
     "data": {
      "image/png": "[encoded data removed]",
      "text/plain": [
       "<Figure size 432x288 with 1 Axes>"
      ]
     },
     "metadata": {
      "needs_background": "light"
     },
     "output_type": "display_data"
    }
   ],
   "source": [
    "df_since_2011.groupby('genre')['total_sales'].sum().plot(kind='bar');"
   ]
  },
  {
   "cell_type": "markdown",
   "metadata": {},
   "source": [
    "Из графиков видим следующую информацию:\n",
    "- Самые прибыльные жанры - Action и Shooter, неплохие продажи имеют игры жанра Sports\n",
    "- Хуже всего продаются игры жанра Puzzle, Strategy, Adventure"
   ]
  },
  {
   "cell_type": "markdown",
   "metadata": {},
   "source": [
    "## 3. Портреты пользователей разных регионов <a id='user_portraits'></a>"
   ]
  },
  {
   "cell_type": "markdown",
   "metadata": {},
   "source": [
    "### 3.1 Популярность платформ по регионам <a id='platforms_popularity'></a>"
   ]
  },
  {
   "cell_type": "code",
   "execution_count": 120,
   "metadata": {},
   "outputs": [],
   "source": [
    "def get_regional_stats(df, groupby_column):\n",
    "    fig, axes = plt.subplots(1, 3, figsize=(18, 6))\n",
    "    axes[0].set_title(\"Продажи в Японии\")\n",
    "    axes[1].set_title(\"Продажи в Северной Америке\")\n",
    "    axes[2].set_title(\"Продажи в Европе\")\n",
    "    df.groupby(groupby_column)['jp_sales'].sum().sort_values(ascending=False)[:5].plot.bar(ax=axes[0])\n",
    "    df.groupby(groupby_column)['na_sales'].sum().sort_values(ascending=False)[:5].plot.bar(ax=axes[1])\n",
    "    df.groupby(groupby_column)['eu_sales'].sum().sort_values(ascending=False)[:5].plot.bar(ax=axes[2])"
   ]
  },
  {
   "cell_type": "markdown",
   "metadata": {},
   "source": [
    "Посмотрим на самые популярные платформы в разрезе регионов:"
   ]
  },
  {
   "cell_type": "code",
   "execution_count": 121,
   "metadata": {},
   "outputs": [
    {
     "data": {
      "image/png": "[encoded data removed]",
      "text/plain": [
       "<Figure size 1296x432 with 3 Axes>"
      ]
     },
     "metadata": {
      "needs_background": "light"
     },
     "output_type": "display_data"
    }
   ],
   "source": [
    "get_regional_stats(df_since_2011, 'platform');"
   ]
  },
  {
   "cell_type": "markdown",
   "metadata": {},
   "source": [
    "Относительно распределения по платформам в разных регионах можно сделать следующие выводы:\n",
    "- В США и Японии предпочитают консоли своего производства (X360 и PS3/PS4 соответственно)\n",
    "- В Японии доминируют консоли от местной компании Sony, а также 3DS, игры на которой в Европе и в США продаются хуже\n",
    "- В Европе много игр продается на платформе PC, в США и Японии PC не попала в список самых популярных платформ\n"
   ]
  },
  {
   "cell_type": "markdown",
   "metadata": {},
   "source": [
    "### 3.2 Популярность жанров по регионам <a id='genres_popularity'></a>"
   ]
  },
  {
   "cell_type": "code",
   "execution_count": 122,
   "metadata": {},
   "outputs": [
    {
     "data": {
      "image/png": "[encoded data removed]",
      "text/plain": [
       "<Figure size 1296x432 with 3 Axes>"
      ]
     },
     "metadata": {
      "needs_background": "light"
     },
     "output_type": "display_data"
    }
   ],
   "source": [
    "get_regional_stats(df_since_2011, 'genre')"
   ]
  },
  {
   "cell_type": "markdown",
   "metadata": {},
   "source": [
    "Выводы:\n",
    "- В Японии больше чем в других регионах популярен жанр RPG (там его и придумали)\n",
    "- В Японии живут более хардкорные игроки, т.к. среди популярных жанров - платформеры\n",
    "- В США и Европе жанры распределены по популярности практически одинаково"
   ]
  },
  {
   "cell_type": "markdown",
   "metadata": {},
   "source": [
    "### 3.3 Влияние рейтинга ESRB на продажи <a id='esrb'></a>"
   ]
  },
  {
   "cell_type": "markdown",
   "metadata": {},
   "source": [
    "Мы помним, что в столбце rating очень много пропусков. Чтобы графики о влиянии рейтинга на продажи были нагляднее, заполним все пропуски в рейтинге значением \"No Rating\", чтобы видеть такие записи как отдельную категорию"
   ]
  },
  {
   "cell_type": "code",
   "execution_count": 123,
   "metadata": {},
   "outputs": [],
   "source": [
    "#добавим новую категорию в переменную\n",
    "df_since_2011.rating.cat.add_categories('No Rating', inplace=True)"
   ]
  },
  {
   "cell_type": "code",
   "execution_count": 124,
   "metadata": {},
   "outputs": [],
   "source": [
    "#заполним пропуски\n",
    "df_since_2011.loc[df_since_2011['rating'].isnull(), 'rating'] = 'No Rating'"
   ]
  },
  {
   "cell_type": "code",
   "execution_count": 125,
   "metadata": {},
   "outputs": [
    {
     "data": {
      "image/png": "[encoded data removed]",
      "text/plain": [
       "<Figure size 1296x432 with 3 Axes>"
      ]
     },
     "metadata": {
      "needs_background": "light"
     },
     "output_type": "display_data"
    }
   ],
   "source": [
    "get_regional_stats(df_since_2011, 'rating')"
   ]
  },
  {
   "cell_type": "markdown",
   "metadata": {},
   "source": [
    "Из графика видно, что:\n",
    "- Япония отличается от остальных регионов: там лучше всего продаются игры с самым доступным рейтингом (рейтинг E значит Everyone, т.е. подходит всем)\n",
    "- Большинство игр в Японии не имеют рейтинга. Это может быть связано с тем, что в Японии присвоением возврастных рейтингов контенту занимается CERO, а у нас данные от ESRB"
   ]
  },
  {
   "cell_type": "markdown",
   "metadata": {},
   "source": [
    "## 4. Исследование статистических показателей <a id='statistics'></a>"
   ]
  },
  {
   "cell_type": "markdown",
   "metadata": {},
   "source": [
    "Сгруппируем данные по жанрам, посчитаем среднее значение, стандартное отклонение, дисперсию для оценок пользователей и критиков в каждом жанре. Получим сводную таблицу:"
   ]
  },
  {
   "cell_type": "code",
   "execution_count": 129,
   "metadata": {},
   "outputs": [
    {
     "data": {
      "text/html": [
       "<div>\n",
       "<style scoped>\n",
       "    .dataframe tbody tr th:only-of-type {\n",
       "        vertical-align: middle;\n",
       "    }\n",
       "\n",
       "    .dataframe tbody tr th {\n",
       "        vertical-align: top;\n",
       "    }\n",
       "\n",
       "    .dataframe thead tr th {\n",
       "        text-align: left;\n",
       "    }\n",
       "\n",
       "    .dataframe thead tr:last-of-type th {\n",
       "        text-align: right;\n",
       "    }\n",
       "</style>\n",
       "<table border=\"1\" class=\"dataframe\">\n",
       "  <thead>\n",
       "    <tr>\n",
       "      <th></th>\n",
       "      <th colspan=\"3\" halign=\"left\">critic_score</th>\n",
       "      <th colspan=\"3\" halign=\"left\">user_score</th>\n",
       "    </tr>\n",
       "    <tr>\n",
       "      <th></th>\n",
       "      <th>mean</th>\n",
       "      <th>std</th>\n",
       "      <th>var</th>\n",
       "      <th>mean</th>\n",
       "      <th>std</th>\n",
       "      <th>var</th>\n",
       "    </tr>\n",
       "    <tr>\n",
       "      <th>genre</th>\n",
       "      <th></th>\n",
       "      <th></th>\n",
       "      <th></th>\n",
       "      <th></th>\n",
       "      <th></th>\n",
       "      <th></th>\n",
       "    </tr>\n",
       "  </thead>\n",
       "  <tbody>\n",
       "    <tr>\n",
       "      <th>Action</th>\n",
       "      <td>69.8750</td>\n",
       "      <td>12.779944</td>\n",
       "      <td>163.375</td>\n",
       "      <td>6.750000</td>\n",
       "      <td>1.349656</td>\n",
       "      <td>1.821289</td>\n",
       "    </tr>\n",
       "    <tr>\n",
       "      <th>Adventure</th>\n",
       "      <td>71.9375</td>\n",
       "      <td>11.627009</td>\n",
       "      <td>135.125</td>\n",
       "      <td>7.390625</td>\n",
       "      <td>1.285962</td>\n",
       "      <td>1.653320</td>\n",
       "    </tr>\n",
       "    <tr>\n",
       "      <th>Fighting</th>\n",
       "      <td>70.5000</td>\n",
       "      <td>13.221867</td>\n",
       "      <td>174.875</td>\n",
       "      <td>6.871094</td>\n",
       "      <td>1.386292</td>\n",
       "      <td>1.921875</td>\n",
       "    </tr>\n",
       "    <tr>\n",
       "      <th>Misc</th>\n",
       "      <td>70.1250</td>\n",
       "      <td>11.067117</td>\n",
       "      <td>122.500</td>\n",
       "      <td>6.785156</td>\n",
       "      <td>1.283948</td>\n",
       "      <td>1.648438</td>\n",
       "    </tr>\n",
       "    <tr>\n",
       "      <th>Platform</th>\n",
       "      <td>74.9375</td>\n",
       "      <td>13.107252</td>\n",
       "      <td>171.750</td>\n",
       "      <td>6.972656</td>\n",
       "      <td>1.658177</td>\n",
       "      <td>2.750000</td>\n",
       "    </tr>\n",
       "    <tr>\n",
       "      <th>Puzzle</th>\n",
       "      <td>70.0000</td>\n",
       "      <td>10.204574</td>\n",
       "      <td>104.125</td>\n",
       "      <td>6.968750</td>\n",
       "      <td>1.181453</td>\n",
       "      <td>1.395508</td>\n",
       "    </tr>\n",
       "    <tr>\n",
       "      <th>Racing</th>\n",
       "      <td>70.9375</td>\n",
       "      <td>13.152699</td>\n",
       "      <td>173.000</td>\n",
       "      <td>6.261719</td>\n",
       "      <td>1.629443</td>\n",
       "      <td>2.654297</td>\n",
       "    </tr>\n",
       "    <tr>\n",
       "      <th>Role-Playing</th>\n",
       "      <td>73.5625</td>\n",
       "      <td>11.992778</td>\n",
       "      <td>143.875</td>\n",
       "      <td>7.261719</td>\n",
       "      <td>1.230730</td>\n",
       "      <td>1.514648</td>\n",
       "    </tr>\n",
       "    <tr>\n",
       "      <th>Shooter</th>\n",
       "      <td>73.0625</td>\n",
       "      <td>13.065541</td>\n",
       "      <td>170.750</td>\n",
       "      <td>6.417969</td>\n",
       "      <td>1.552892</td>\n",
       "      <td>2.412109</td>\n",
       "    </tr>\n",
       "    <tr>\n",
       "      <th>Simulation</th>\n",
       "      <td>63.9375</td>\n",
       "      <td>13.171108</td>\n",
       "      <td>173.500</td>\n",
       "      <td>6.191406</td>\n",
       "      <td>1.742982</td>\n",
       "      <td>3.037109</td>\n",
       "    </tr>\n",
       "    <tr>\n",
       "      <th>Sports</th>\n",
       "      <td>72.0000</td>\n",
       "      <td>15.448093</td>\n",
       "      <td>238.625</td>\n",
       "      <td>5.636719</td>\n",
       "      <td>1.680134</td>\n",
       "      <td>2.822266</td>\n",
       "    </tr>\n",
       "    <tr>\n",
       "      <th>Strategy</th>\n",
       "      <td>72.6875</td>\n",
       "      <td>12.936171</td>\n",
       "      <td>167.375</td>\n",
       "      <td>6.421875</td>\n",
       "      <td>1.830985</td>\n",
       "      <td>3.351562</td>\n",
       "    </tr>\n",
       "  </tbody>\n",
       "</table>\n",
       "</div>"
      ],
      "text/plain": [
       "             critic_score                     user_score                    \n",
       "                     mean        std      var       mean       std       var\n",
       "genre                                                                       \n",
       "Action            69.8750  12.779944  163.375   6.750000  1.349656  1.821289\n",
       "Adventure         71.9375  11.627009  135.125   7.390625  1.285962  1.653320\n",
       "Fighting          70.5000  13.221867  174.875   6.871094  1.386292  1.921875\n",
       "Misc              70.1250  11.067117  122.500   6.785156  1.283948  1.648438\n",
       "Platform          74.9375  13.107252  171.750   6.972656  1.658177  2.750000\n",
       "Puzzle            70.0000  10.204574  104.125   6.968750  1.181453  1.395508\n",
       "Racing            70.9375  13.152699  173.000   6.261719  1.629443  2.654297\n",
       "Role-Playing      73.5625  11.992778  143.875   7.261719  1.230730  1.514648\n",
       "Shooter           73.0625  13.065541  170.750   6.417969  1.552892  2.412109\n",
       "Simulation        63.9375  13.171108  173.500   6.191406  1.742982  3.037109\n",
       "Sports            72.0000  15.448093  238.625   5.636719  1.680134  2.822266\n",
       "Strategy          72.6875  12.936171  167.375   6.421875  1.830985  3.351562"
      ]
     },
     "execution_count": 129,
     "metadata": {},
     "output_type": "execute_result"
    }
   ],
   "source": [
    "genre_stats = df_since_2011.groupby('genre')[['critic_score', 'user_score']].agg([np.mean, np.std, np.var])\n",
    "genre_stats"
   ]
  },
  {
   "cell_type": "markdown",
   "metadata": {},
   "source": [
    "Для более наглядного отображения построим гистограммы:"
   ]
  },
  {
   "cell_type": "code",
   "execution_count": 130,
   "metadata": {},
   "outputs": [],
   "source": [
    "def get_genre_histograms(df):\n",
    "    fig, axes = plt.subplots(4, 3, figsize=(16, 12))\n",
    "    genres = list(df_since_2011.genre.unique())\n",
    "    for i, genre in enumerate(genres):\n",
    "        df[df['genre'] == genre]['user_score'].hist(ax=axes[i // 3, i % 3])\n",
    "        df[df['genre'] == genre]['critic_score_scaled'].hist(ax=axes[i // 3, i % 3], alpha=0.5)\n",
    "        axes[i // 3, i % 3].set_title(genre)\n",
    "        axes[i // 3, i % 3].legend(['user_score', 'critic_score'])"
   ]
  },
  {
   "cell_type": "markdown",
   "metadata": {},
   "source": [
    "Для того чтобы совместить гистограммы оценок пользователей и критиков, приведем их к одному масштабу. Для этого создаздим новый столбец critic_score_scaled, в котором сохраним значения critic_score / 10"
   ]
  },
  {
   "cell_type": "code",
   "execution_count": 131,
   "metadata": {},
   "outputs": [],
   "source": [
    "df_since_2011['critic_score_scaled'] = df_since_2011['critic_score'] / 10"
   ]
  },
  {
   "cell_type": "markdown",
   "metadata": {},
   "source": [
    "Теперь можно строить наглядные гистограммы:"
   ]
  },
  {
   "cell_type": "code",
   "execution_count": 132,
   "metadata": {},
   "outputs": [
    {
     "data": {
      "image/png": "[encoded data removed]",
      "text/plain": [
       "<Figure size 1152x864 with 12 Axes>"
      ]
     },
     "metadata": {
      "needs_background": "light"
     },
     "output_type": "display_data"
    }
   ],
   "source": [
    "get_genre_histograms(df_since_2011.dropna())"
   ]
  },
  {
   "cell_type": "markdown",
   "metadata": {},
   "source": [
    "Проанилизировав гистограммы и сводную таблицу делаем выводы:\n",
    "- Оценки пользователей и критиков по жанрам имеют распределение близкое к равномерному, в случае с оценками пользователей среднее значение равняется 7, оценки критиков в среднем стремятся к 70 из 100 баллов\n",
    "- В целом оценки пользователей и критиков распределены похожим образом\n",
    "- Наибольшее различие оценок пользователей наблюдается в жанре **Sports**. В среднем критики более высоко оценивают игры этого жанра, чем пользователи. Это заметно как на графиках, так и в сводной таблице\n",
    "- Заметно также различие в оценках жанра **Adventure**. Здесь ситуация обратная - критики оценивают игры этого жанра менее высоко, чем пользователи. Может быть, критики просто не любят казуальные игры? ;(\n",
    "- Пользователи чаще ставят низкие оценки, чем критики (на гистограммах выделяются синие левые хвосты). Может быть, это связано с тем, что критики очень редко ставят низкие оценки игре, т.к. для этого игра должна быть действительно отвратительной. Пользователи же могут занизить оценку игре просто потому что, например, разработчики ввели в игру микротранзакции (платный контент), выкатили обновление добавляющее дизбаланс классов (для игр жанра RPG)"
   ]
  },
  {
   "cell_type": "markdown",
   "metadata": {},
   "source": [
    "### 4.1 Проверка гипотезы о равенстве средних пользовательских рейтингов Xbox One и PC <a id='xonevspc'></a>"
   ]
  },
  {
   "cell_type": "markdown",
   "metadata": {},
   "source": [
    "Проверим гипотезу о том, что средние пользовательские рейтинги платформ Xbox One и PC одинаковые. Для начала получим нужные выборки"
   ]
  },
  {
   "cell_type": "code",
   "execution_count": 133,
   "metadata": {},
   "outputs": [
    {
     "name": "stdout",
     "output_type": "stream",
     "text": [
      "Количество оценок PC 307, количество оценок XOne 185\n"
     ]
    }
   ],
   "source": [
    "xone_user_ratings = df_since_2011[df_since_2011.platform == 'XOne']['user_score'].dropna()\n",
    "pc_user_ratings = df_since_2011[df_since_2011.platform == 'PC']['user_score'].dropna()\n",
    "pc_user_ratings.name = 'pc'\n",
    "xone_user_ratings.name = 'xone'\n",
    "print('Количество оценок PC %s, количество оценок XOne %s' % (pc_user_ratings.shape[0], xone_user_ratings.shape[0]))"
   ]
  },
  {
   "cell_type": "markdown",
   "metadata": {},
   "source": [
    "Перед нами задача проверить гипотезу о равенстве средних двух генеральных совокупностей. Посмотрим на диаграммы размаха и гистограммы:"
   ]
  },
  {
   "cell_type": "code",
   "execution_count": 134,
   "metadata": {},
   "outputs": [
    {
     "data": {
      "image/png": "[encoded data removed]",
      "text/plain": [
       "<Figure size 1152x288 with 3 Axes>"
      ]
     },
     "metadata": {
      "needs_background": "light"
     },
     "output_type": "display_data"
    }
   ],
   "source": [
    "fig, ax = plt.subplots(1, 3, figsize=(16, 4))\n",
    "ax[0].boxplot(pc_user_ratings.values)\n",
    "ax[0].set_title(\"PC\")\n",
    "ax[1].boxplot(xone_user_ratings.values)\n",
    "ax[1].set_title(\"Xone\")\n",
    "ax[2] = pc_user_ratings.hist(ax=ax[2], label=\"PC\")\n",
    "ax[2] = xone_user_ratings.hist(ax=ax[2], label=\"XOne\");\n",
    "ax[2].legend();"
   ]
  },
  {
   "cell_type": "markdown",
   "metadata": {},
   "source": [
    "Видим, что диаграммы размаха очень похожи, медианные значения пересекаются внутри интеквартильных размахов. Можно предположить, что пользовательские рейтинги не отличаются. Для того чтобы сделать это с помощью статистики, можно воспользоваться t-критерием Стьюдента"
   ]
  },
  {
   "cell_type": "markdown",
   "metadata": {},
   "source": [
    "t-критерий Стьюдента выбираем из предположения о том, что выборки взяты из нормальных распределений, дисперсия которых неизвестна. На гистограмме выше видим, что оба распределения немного скошены влево. Проверим нормальность распределений визуально с помощью probplot:"
   ]
  },
  {
   "cell_type": "code",
   "execution_count": 135,
   "metadata": {},
   "outputs": [
    {
     "data": {
      "image/png": "[encoded data removed]",
      "text/plain": [
       "<Figure size 864x576 with 2 Axes>"
      ]
     },
     "metadata": {
      "needs_background": "light"
     },
     "output_type": "display_data"
    }
   ],
   "source": [
    "plt.figure(figsize=(12,8))\n",
    "ax = plt.subplot(2,2,1)\n",
    "stats.probplot(pc_user_ratings, dist=\"norm\", plot=ax)\n",
    "ax.set_title(\"PC users ratings probplot\")\n",
    "ax = plt.subplot(2,2,2)\n",
    "stats.probplot(xone_user_ratings, dist=\"norm\", plot=ax)\n",
    "ax.set_title(\"XBox One users ratings probplot\")\n",
    "plt.show()"
   ]
  },
  {
   "cell_type": "markdown",
   "metadata": {},
   "source": [
    "На probplot для оценок PC заметны отклонения от нормальности. Однако мы имеем дело с достаточно большими выборками (259 и 161 элемент), что позволяет нам в некоторой степени пренебречь отклонениями от нормального распределения у выборок."
   ]
  },
  {
   "cell_type": "markdown",
   "metadata": {},
   "source": [
    "Необходимо также проверить гипотезу о равенстве дисперсий в генеральных совокупностях. Посмотрим на выборочные дисперсии:"
   ]
  },
  {
   "cell_type": "code",
   "execution_count": 136,
   "metadata": {},
   "outputs": [
    {
     "data": {
      "text/plain": [
       "(2.596, 1.899)"
      ]
     },
     "execution_count": 136,
     "metadata": {},
     "output_type": "execute_result"
    }
   ],
   "source": [
    "pc_user_ratings.var(), xone_user_ratings.var()"
   ]
  },
  {
   "cell_type": "markdown",
   "metadata": {},
   "source": [
    "Выборочные дисперсии довольно сильно отличаются. Применим критерий Левена для проверки гипотезы о равенстве дисперсий двух генеральных совокупностей по их выборкам:"
   ]
  },
  {
   "cell_type": "markdown",
   "metadata": {},
   "source": [
    "Сформулируем гипотезы, использовать критерий будем с уровнем значимости $\\alpha$ = 0.05\n",
    "\n",
    "$H_0\\colon$ истинные дисперсии средних оценок на платформе XOne и PC одинаковы\n",
    "\n",
    "$H_1\\colon$ истинные дисперсии средних оценок на платформе XOne и PC различны"
   ]
  },
  {
   "cell_type": "code",
   "execution_count": 137,
   "metadata": {},
   "outputs": [
    {
     "data": {
      "text/plain": [
       "LeveneResult(statistic=5.652579678066735, pvalue=0.017812482625947354)"
      ]
     },
     "execution_count": 137,
     "metadata": {},
     "output_type": "execute_result"
    }
   ],
   "source": [
    "stats.levene(pc_user_ratings.values, xone_user_ratings.values)"
   ]
  },
  {
   "cell_type": "markdown",
   "metadata": {},
   "source": [
    "**Отвергаем нулевую гипотезу о равенстве дисперсий в выборках**! Значит в t-тесте необходимо использовать параметр \n",
    "> `equal_var = False`\n"
   ]
  },
  {
   "cell_type": "markdown",
   "metadata": {},
   "source": [
    "Воспользуемся t-критерием Стьюдента для двух независимых выборок с $\\alpha$ = 0.05. Соответствующие гипотезы:\n",
    "\n",
    "$H_0\\colon$ средние значения оценок пользователей для игр на ПК и Xbox One одинаковы\n",
    "\n",
    "$H_1\\colon$ средние значения оценок пользователей для игр на ПК и Xbox One не одинаковы."
   ]
  },
  {
   "cell_type": "code",
   "execution_count": 138,
   "metadata": {},
   "outputs": [
    {
     "data": {
      "text/plain": [
       "Ttest_indResult(statistic=-0.4282262575566354, pvalue=0.6686985370601637)"
      ]
     },
     "execution_count": 138,
     "metadata": {},
     "output_type": "execute_result"
    }
   ],
   "source": [
    "stats.ttest_ind(pc_user_ratings.values, xone_user_ratings.values, equal_var = False)"
   ]
  },
  {
   "cell_type": "markdown",
   "metadata": {},
   "source": [
    "Получили p-value > 0.05, **нет оснований отвергать нулевую гипотезу**."
   ]
  },
  {
   "cell_type": "markdown",
   "metadata": {},
   "source": [
    "### 4.2 Проверка гипотезы о различии средних пользовательских оценок для жанров Action и Sports <a id='actionvssports'>"
   ]
  },
  {
   "cell_type": "markdown",
   "metadata": {},
   "source": [
    "Аналогично предыдущему пункту, сначала получим нужные выборки"
   ]
  },
  {
   "cell_type": "code",
   "execution_count": 139,
   "metadata": {},
   "outputs": [
    {
     "name": "stdout",
     "output_type": "stream",
     "text": [
      "Количество оценок в жанре Action 679, количество оценок в жанре Sports 253\n"
     ]
    }
   ],
   "source": [
    "action_user_ratings = df_since_2011[df_since_2011.genre == 'Action']['user_score'].dropna()\n",
    "sports_user_ratings = df_since_2011[df_since_2011.genre == 'Sports']['user_score'].dropna()\n",
    "action_user_ratings.name = 'action'\n",
    "sports_user_ratings.name = 'sports'\n",
    "print('Количество оценок в жанре Action %s, количество оценок в жанре Sports %s' % (action_user_ratings.shape[0], sports_user_ratings.shape[0]))"
   ]
  },
  {
   "cell_type": "markdown",
   "metadata": {},
   "source": [
    "Посмотрим на диаграммы размаха и гистограммы:"
   ]
  },
  {
   "cell_type": "code",
   "execution_count": 140,
   "metadata": {},
   "outputs": [
    {
     "data": {
      "image/png": "[encoded data removed]",
      "text/plain": [
       "<Figure size 1152x288 with 3 Axes>"
      ]
     },
     "metadata": {
      "needs_background": "light"
     },
     "output_type": "display_data"
    }
   ],
   "source": [
    "fig, ax = plt.subplots(1, 3, figsize=(16, 4))\n",
    "ax[0].boxplot(action_user_ratings.values)\n",
    "ax[0].set_title(\"Action\")\n",
    "ax[1].boxplot(sports_user_ratings.values)\n",
    "ax[1].set_title(\"Sports\")\n",
    "ax[2] = action_user_ratings.hist(ax=ax[2], label=\"Action\")\n",
    "ax[2] = sports_user_ratings.hist(ax=ax[2], label=\"Sports\");\n",
    "ax[2].legend();"
   ]
  },
  {
   "cell_type": "markdown",
   "metadata": {},
   "source": [
    "Из диаграмм размаха видим, что медианные значения для оценок различны. Для Action это около 7, а для Sports - ближе к 6. Делаем предположение, что средние оценки действительно различны. Посмотрим на probplot для выборок:"
   ]
  },
  {
   "cell_type": "code",
   "execution_count": 141,
   "metadata": {},
   "outputs": [
    {
     "data": {
      "image/png": "[encoded data removed]",
      "text/plain": [
       "<Figure size 864x576 with 2 Axes>"
      ]
     },
     "metadata": {
      "needs_background": "light"
     },
     "output_type": "display_data"
    }
   ],
   "source": [
    "plt.figure(figsize=(12,8))\n",
    "ax = plt.subplot(2,2,1)\n",
    "stats.probplot(action_user_ratings, dist=\"norm\", plot=ax)\n",
    "ax.set_title(\"Actions ratings probplot\")\n",
    "ax = plt.subplot(2,2,2)\n",
    "stats.probplot(sports_user_ratings, dist=\"norm\", plot=ax)\n",
    "ax.set_title(\"Sports ratings probplot\")\n",
    "plt.show()"
   ]
  },
  {
   "cell_type": "markdown",
   "metadata": {},
   "source": [
    "Прежде чем проверять гипотезу о равенстве средних оценок с помощью t-теста, помимо проверки на нормальность распределения выборок, необходимо поближе взглянуть на дисперсии двух выборок. "
   ]
  },
  {
   "cell_type": "code",
   "execution_count": 142,
   "metadata": {},
   "outputs": [
    {
     "data": {
      "text/plain": [
       "(1.821, 2.824)"
      ]
     },
     "execution_count": 142,
     "metadata": {},
     "output_type": "execute_result"
    }
   ],
   "source": [
    "action_user_ratings.var(), sports_user_ratings.var()"
   ]
  },
  {
   "cell_type": "markdown",
   "metadata": {},
   "source": [
    "Выборочные дисперсии довольно сильно отличаются. Применим критерий Левена для проверки гипотезы о равенстве дисперсий двух генеральных совокупностей по их выборкам:"
   ]
  },
  {
   "cell_type": "markdown",
   "metadata": {},
   "source": [
    "Сформулируем гипотезы, использовать критерий будем с уровнем значимости $\\alpha$ = 0.05\n",
    "\n",
    "$H_0\\colon$ истинные дисперсии средних оценок для игр жанров Action и Sports одинаковы\n",
    "\n",
    "$H_1\\colon$ истинные дисперсии средних оценок для игр жанров Action и Sports различны"
   ]
  },
  {
   "cell_type": "code",
   "execution_count": 143,
   "metadata": {},
   "outputs": [
    {
     "data": {
      "text/plain": [
       "LeveneResult(statistic=17.228714249196358, pvalue=3.618071680793493e-05)"
      ]
     },
     "execution_count": 143,
     "metadata": {},
     "output_type": "execute_result"
    }
   ],
   "source": [
    "stats.levene(action_user_ratings.values, sports_user_ratings.values)"
   ]
  },
  {
   "cell_type": "markdown",
   "metadata": {},
   "source": [
    "**Отвергаем нулевую гипотезу о равенстве дисперсий в выборках**! Значит в t-тесте необходимо использовать параметр \n",
    "> `equal_var = False`\n"
   ]
  },
  {
   "cell_type": "markdown",
   "metadata": {},
   "source": [
    "Аналогично предыдущему пункту, воспользуемся t-критерием Стьюдента для двух независимых выборок. Исследуемые выборки имеют распределения, отличающиеся от нормальных, однако учитывая размер выборок можно считать эти отличия несущественным"
   ]
  },
  {
   "cell_type": "markdown",
   "metadata": {},
   "source": [
    "Сформулируем гипотезы, использовать критерий будем с уровнем значимости $\\alpha$ = 0.05\n",
    "\n",
    "$H_0\\colon$ средние значения оценок пользователей для игр в жанре Action и Sports одинаковы\n",
    "\n",
    "$H_1\\colon$ средние значения оценок пользователей для игр в жанре Action и Sports не одинаковы"
   ]
  },
  {
   "cell_type": "code",
   "execution_count": 144,
   "metadata": {},
   "outputs": [
    {
     "data": {
      "text/plain": [
       "Ttest_indResult(statistic=9.461386736174079, pvalue=3.2673319177470656e-19)"
      ]
     },
     "execution_count": 144,
     "metadata": {},
     "output_type": "execute_result"
    }
   ],
   "source": [
    "stats.ttest_ind(action_user_ratings.values, sports_user_ratings.values, equal_var = False)"
   ]
  },
  {
   "cell_type": "markdown",
   "metadata": {},
   "source": [
    "Получили практически нулевой уровень значимости, **отвергаем нулевую гипотезу** в пользу альтернативной. То есть **оценки пользователей в жанрах Actions и Sports значимо отличаются.**"
   ]
  },
  {
   "cell_type": "markdown",
   "metadata": {},
   "source": [
    "# Общие выводы <a id='final_text'>"
   ]
  },
  {
   "cell_type": "markdown",
   "metadata": {},
   "source": [
    "В результате проведения исследования были выявлены некоторые закономерности, влияющие на уровень продаж игр.\n",
    "\n",
    "После первичного анализа становится ясно, что на начиная примерно **с 2009 года индустрия начала испытывать кризис** - произошел упадок суммарных продаж. \n",
    "\n",
    "Построив график зависимости продаж игр по платформам от времени определили, что **среднее время жизненного цикла консоли составляет 7 лет** со стандартным отклонением 3 года. \n",
    "\n",
    "\n",
    "Путем анализа данных за 2016 определили **самые актуальные платформы - XOne, PS4 и PC**. Первые две пришли на смену своим сверхпопулярным родителям, а PC традиционно имеет неплохую долю продаж.\n",
    "\n",
    "\n",
    "Из данных выявили влияние оценок критиков на продажи игры: корреляция между этими признаками составила примерно 0.4 для PC и XOne. Интересно, что **оценки пользователей никак не коррелируют с продажами игр** (корреляция равна 0).\n",
    "\n",
    "\n",
    "Из диаграмм размаха для популярных платформ отметили, что медианные продажи XOne и PS4 выше чем на PC. То есть выпускать игры на игровых консолях перспективнее, чем на PC.\n",
    "**Самые популярные и продающиеся жанры независимо от платформы - Action и Shooter**. Самые непопулярные - Puzzle, Strategy и Adventure.\n",
    "\n",
    "Составлен портрет игрока из разных регионов - Японии, Северной Америки и Европы. В стране восходящего солнца предпочтение практически всегда отдают консолям от Sony, пользователи в Северной Америке любят и Play Station, и Xbox. Самые непривередливые игроки в Европе - там играют даже на  ПК. Из интересных особенностей - **в Японии очень популярен жанр Role Playing, в остальных регионах самые популярные жанры - Action и Shooter**.\n",
    "\n",
    "Полезная информация извлечена из оценок критиков и пользователей. Чаще всего их оценки совпадают, однако пользователи больше любят ставить экстремально низкие оценки. Но это не страшно - их оценки практически не влияют на продажи игры. \n",
    "\n",
    "Проверены гипотеза о равенстве средних оценок на ПК и XOne: статистика говорит, что нет оснований утверждать что они отличаются. А вот оценки пользователей для жанров Sports и Action статистически значимо различаются.\n",
    "\n",
    "Исходя из результатов анализа можно определить некий \"секрет успеха\" для игр в 2016 году и позднее: \n",
    "\n",
    "- Игра достигнет наибольшего успеха если будет выпущена на самых популярных платформах: PS4, XOne, PC\n",
    "- Рейтинг игры должен быть E или T (одни из самых доступных рейтингов для людей любого возвраста)\n",
    "- Игра должна быть в жанре Action, Shooter либо RPG"
   ]
  }
 ],
 "metadata": {
  "kernelspec": {
   "display_name": "Python 3",
   "language": "python",
   "name": "python3"
  },
  "language_info": {
   "codemirror_mode": {
    "name": "ipython",
    "version": 3
   },
   "file_extension": ".py",
   "mimetype": "text/x-python",
   "name": "python",
   "nbconvert_exporter": "python",
   "pygments_lexer": "ipython3",
   "version": "3.8.5"
  },
  "toc": {
   "base_numbering": 1,
   "nav_menu": {},
   "number_sections": true,
   "sideBar": true,
   "skip_h1_title": true,
   "title_cell": "Table of Contents",
   "title_sidebar": "Contents",
   "toc_cell": false,
   "toc_position": {},
   "toc_section_display": true,
   "toc_window_display": false
  }
 },
 "nbformat": 4,
 "nbformat_minor": 4
}
